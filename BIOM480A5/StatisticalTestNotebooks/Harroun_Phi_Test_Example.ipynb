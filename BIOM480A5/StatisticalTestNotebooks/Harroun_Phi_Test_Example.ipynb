{
 "cells": [
  {
   "cell_type": "markdown",
   "id": "51a77202",
   "metadata": {},
   "source": [
    "Phi Coefficient Test\n",
    "\n",
    "The Phi coefficient (ϕ) is a statistical measure that quantifies the association between two binary variables. It is particularly useful for analyzing 2×2 contingency tables and is mathematically equivalent to Pearson’s correlation coefficient applied to binary data.\n",
    "\n",
    "For example, given a 2×2 contingency table:\n",
    "\n",
    "|             | Y = 1 | Y = 0 |\n",
    "|-------------|-------|-------|\n",
    "| X = 1       |   a   |   b   |\n",
    "| X = 0       |   c   |   d   |\n",
    "\n",
    "\n",
    "The Phi coefficient is calcualted using the equation below.\n",
    "\n",
    "​![Figure: Psi Equation](Harroun_Psi-equation.png)\n",
    "\n",
    "ϕ = +1 implies a perfect positive association\n",
    "\n",
    "ϕ = 0 implies no association\n",
    "\n",
    "ϕ = -1 implies a perfect negative association\n",
    "\n",
    "This metric is symmetric and appropriate when the marginal distributions of the binary variables are similar.\n",
    "\n",
    "![Figure 1: Psi Example Figure](Harroun_Psi-Value-Figure.png)\n",
    "\n",
    "Figure 1. A visual representation of the 2×2 contingency table.\n",
    "Source: Putra et al. (2019) \n",
    "\n",
    "The Phi coefficient is used when analyzing the association between two binary variables, particularly when outcomes can be organized into a 2×2 contingency table. This makes it ideal for evaluating classification accuracy in binary prediction systems. For example, comparing model forecasts to actual observations.\n",
    "\n",
    "A compelling example is provided by Putra et al. (2019) in their study \"An Evaluation Graph of Hourly Rainfall Estimation in Malang\". The researchers used a 2×2 contingency table (shown in Figure 1) to assess the agreement between satellite-based rainfall estimations and ground-truth observations. Each cell in the table represented counts of outcomes:\n",
    "\n",
    "a = correct rain prediction (true positive),\n",
    "\n",
    "b = predicted rain but no observed rain (false alarm),\n",
    "\n",
    "c = observed rain but no prediction (miss),\n",
    "\n",
    "d = correct no-rain prediction (true negative).\n",
    "\n",
    "This layout allowed them to compute false alarm rates and miss rates, but these same values also form the basis for computing the Phi coefficient. By applying the Phi coefficient, one can quantify the overall strength of agreement between predicted and observed outcomes, capturing both types of classification error in a single, interpretable metric.\n",
    "\n",
    "Thus, the Phi coefficient is especially valuable in fields like meteorology, medicine, and machine learning — any time you're comparing binary outcomes and want a concise statistic to summarize the degree of association.\n",
    "\n",
    "References:\n",
    "\n",
    "Putra, R. M., Kurniawan, A., Rangga, I. A., Ryan, M., Endarwin, & Luthfi, A. (2019). An Evaluation Graph of Hourly Rainfall Estimation in Malang. IOP Conference Series: Earth and Environmental Science, 303(1), 012031. https://doi.org/10.1088/1755-1315/303/1/012031Links \n",
    "\n",
    "Wilks, D. S. (2006). Statistical Methods in the Atmospheric Sciences (2nd ed.). Elsevier Academic Press.\n",
    "\n",
    "OpenAI. (2024). ChatGPT (April 2024 version) [Large language model]. https://chat.openai.comLinks "
   ]
  },
  {
   "cell_type": "code",
   "execution_count": 1,
   "id": "2acc6247",
   "metadata": {},
   "outputs": [
    {
     "name": "stdout",
     "output_type": "stream",
     "text": [
      "Phi Coefficient: 0.674\n",
      "P-value: 0.0000\n"
     ]
    }
   ],
   "source": [
    "\n",
    "from BIOM480Tests import phicoeff\n",
    "\n",
    "\n",
    "\n",
    "# Simulated 2x2 binary classification outcome table\n",
    "table = [[25, 5],   # [True Positives, False Positives]\n",
    "         [3, 17]]   # [False Negatives, True Negatives]\n",
    "\n",
    "phi, p = phicoeff(table)\n",
    "print(f\"Phi Coefficient: {phi:.3f}\")\n",
    "print(f\"P-value: {p:.4f}\")"
   ]
  }
 ],
 "metadata": {
  "kernelspec": {
   "display_name": "BIOM480A5",
   "language": "python",
   "name": "python3"
  },
  "language_info": {
   "codemirror_mode": {
    "name": "ipython",
    "version": 3
   },
   "file_extension": ".py",
   "mimetype": "text/x-python",
   "name": "python",
   "nbconvert_exporter": "python",
   "pygments_lexer": "ipython3",
   "version": "3.10.16"
  }
 },
 "nbformat": 4,
 "nbformat_minor": 5
}

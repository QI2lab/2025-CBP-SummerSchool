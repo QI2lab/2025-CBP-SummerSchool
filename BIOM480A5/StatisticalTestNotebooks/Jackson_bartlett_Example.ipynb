{
 "cells": [
  {
   "cell_type": "markdown",
   "metadata": {},
   "source": [
    "# Bartlett's Test for Homogeneity of Variances\n",
    "\n",
    "Bartlett's test is a statistical test used to assess whether multiple groups have equal variances (homoscedasticity). It is particularly useful in ANOVA and regression analysis, where the assumption of homogeneity of variances is important.\n",
    "\n",
    "\n",
    "## Formula:\n",
    "The test statistic is calculated as:\n",
    "\n",
    "$$\n",
    "T = \\frac{(N-k)\\ln(s_p^2) - \\sum_{i=1}^k (n_i-1)\\ln(s_i^2)}{1 + \\frac{1}{3(k-1)}\\left(\\sum_{i=1}^k \\frac{1}{n_i-1} - \\frac{1}{N-k}\\right)}\n",
    "$$\n",
    "\n",
    "where:\n",
    "- $\\ln$ is the natural logarithm\n",
    "- $s_p^2 = \\frac{\\sum_{i=1}^k (n_i-1)s_i^2}{N-k}$ is the pooled variance\n",
    "\n",
    "## Key Terms:\n",
    "- **k** = number of groups\n",
    "- **nᵢ** = sample size of group i\n",
    "- **sᵢ²** = variance of group i\n",
    "- **sₚ²** = pooled variance\n",
    "- **N** = total sample size (sum of all nᵢ)"
   ]
  },
  {
   "cell_type": "code",
   "execution_count": null,
   "metadata": {},
   "outputs": [
    {
     "name": "stdout",
     "output_type": "stream",
     "text": [
      "Equal variances: T = 0.281, p = 0.869\n",
      "Unequal variances: T = 25.821, p = 0.000\n"
     ]
    }
   ],
   "source": [
    "import numpy as np\n",
    "from scipy import stats\n",
    "from BIOM480Tests import bartlett\n",
    "\n",
    "# Generate synthetic data with equal and unequal variances\n",
    "np.random.seed(42)\n",
    "equal_var_data = [np.random.normal(0, 1, 30) for _ in range(3)]  # Same variance\n",
    "unequal_var_data = [\n",
    "    np.random.normal(0, 1, 30),\n",
    "    np.random.normal(0, 2, 30),  # Higher variance\n",
    "    np.random.normal(0, 1, 30)\n",
    "]\n",
    "\n",
    "# Test with equal variances\n",
    "T_eq, p_eq = bartlett(*equal_var_data)\n",
    "print(f\"Equal variances: T = {T_eq:.3f}, p = {p_eq:.3f}\")  # Expected: p > 0.05\n",
    "\n",
    "# Test with unequal variances\n",
    "T_uneq, p_uneq = bartlett(*unequal_var_data)\n",
    "print(f\"Unequal variances: T = {T_uneq:.3f}, p = {p_uneq:.3f}\")  # Expected: p < 0.05"
   ]
  }
 ],
 "metadata": {
  "kernelspec": {
   "display_name": "Python 3",
   "language": "python",
   "name": "python3"
  },
  "language_info": {
   "codemirror_mode": {
    "name": "ipython",
    "version": 3
   },
   "file_extension": ".py",
   "mimetype": "text/x-python",
   "name": "python",
   "nbconvert_exporter": "python",
   "pygments_lexer": "ipython3",
   "version": "3.10.16"
  }
 },
 "nbformat": 4,
 "nbformat_minor": 2
}

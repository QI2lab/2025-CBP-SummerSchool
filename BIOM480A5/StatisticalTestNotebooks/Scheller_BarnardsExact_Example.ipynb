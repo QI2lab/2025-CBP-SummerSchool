{
 "cells": [
  {
   "cell_type": "markdown",
   "id": "84eeb3af",
   "metadata": {},
   "source": [
    "# **Barnard’s Exact Test**\n",
    "\n",
    "### **Test Description:**  \n",
    "\n",
    "Barnard’s Exact Test is a non-parametric statistical test used to determine if there is a significant association between two categorical variables in a 2x2 contingency table. Unlike Fisher’s Exact Test, which conditions on the marginal totals, Barnard’s test considers all possible 2x2 tables with the same sample size, making it *unconditional* and often more powerful.\n",
    "\n",
    "$$\n",
    "\\text{p-value} = \\sup_{p \\in [0,1]} P(T \\geq t_{\\text{obs}} \\mid p)\n",
    "$$\n",
    "\n",
    "This means Barnard’s test evaluates the null hypothesis \\( H_0 \\): that the proportions in the two rows are equal. It uses a nuisance parameter **p** (the common success probability) and maximizes the p-value over all values of:\n",
    "\n",
    "$$\n",
    "p \\in [0, 1]\n",
    "$$\n",
    "\n",
    "The p-value is defined as:\n",
    "\n",
    "$$\n",
    "\\text{p-value} = \\sup_{p \\in [0,1]} P(T \\geq t_{\\text{obs}} \\mid p)\n",
    "$$\n",
    "\n",
    "\n",
    "Where:\n",
    "\n",
    "- T is the test statistic (commonly the score statistic or likelihood ratio)  \n",
    "- t_obs is the observed value of the test statistic\n",
    "---\n",
    "\n",
    "![Barnard’s test illustration](../Figures/Dylan_Scheller/Barnards-exact.png)\n",
    "\n",
    "*Figure 1:* Barnards exact test - p-value based on the nuisance parameter **p**. The p-value is the maximum probability of observing a test statistic as extreme as the one observed, given the null hypothesis is true.\n",
    "\n",
    "---\n",
    "\n",
    "### **When to use Barnard’s Exact Test:**  \n",
    "A researcher might use Barnard’s Exact Test instead of Fisher’s when comparing two independent proportions, especially in small-sample scenarios where higher power is desirable. For example, in a clinical trial with two treatment groups and binary outcomes (e.g., success/failure), Barnard’s test can detect treatment effects that Fisher’s test might miss due to its conditioning on fixed margins.\n",
    "It’s particularly useful when the sample sizes are small and unbalanced, where the unconditional nature of Barnard’s test provides a stronger ability to reject the null hypothesis when a true effect exists.\n",
    "\n",
    "\n",
    "### **Resources:**\n",
    "1. Galili, T. (2010, February 7). Barnard's exact test – a powerful alternative for Fisher's exact test (implemented in R). R-statistics blog. Retrieved from https://www.r-statistics.com/2010/02/barnards-exact-test-a-powerful-alternative-for-fishers-exact-test-implemented-in-r/\n",
    "\n",
    "2. Mehta, C. R., & Senchaudhuri, P. (2003). Conditional versus unconditional exact tests for comparing two binomials. Statistics in Medicine, 22(4), 611–629."
   ]
  },
  {
   "cell_type": "code",
   "execution_count": 7,
   "id": "21ddb96d",
   "metadata": {},
   "outputs": [
    {
     "ename": "TypeError",
     "evalue": "Table.test_nominal_association() got an unexpected keyword argument 'method'",
     "output_type": "error",
     "traceback": [
      "\u001b[1;31m---------------------------------------------------------------------------\u001b[0m",
      "\u001b[1;31mTypeError\u001b[0m                                 Traceback (most recent call last)",
      "Cell \u001b[1;32mIn[7], line 37\u001b[0m\n\u001b[0;32m     34\u001b[0m data \u001b[38;5;241m=\u001b[39m [[\u001b[38;5;241m9\u001b[39m, \u001b[38;5;241m1\u001b[39m], [\u001b[38;5;241m2\u001b[39m, \u001b[38;5;241m8\u001b[39m]]\n\u001b[0;32m     36\u001b[0m \u001b[38;5;66;03m# Perform Barnard’s Exact Test\u001b[39;00m\n\u001b[1;32m---> 37\u001b[0m p_val \u001b[38;5;241m=\u001b[39m \u001b[43mbarnard_exact\u001b[49m\u001b[43m(\u001b[49m\u001b[43mdata\u001b[49m\u001b[43m)\u001b[49m\n\u001b[0;32m     38\u001b[0m \u001b[38;5;28mprint\u001b[39m(\u001b[38;5;124m\"\u001b[39m\u001b[38;5;124mBarnard’s Exact Test p-value:\u001b[39m\u001b[38;5;124m\"\u001b[39m, p_val)\n",
      "Cell \u001b[1;32mIn[7], line 28\u001b[0m, in \u001b[0;36mbarnard_exact\u001b[1;34m(table)\u001b[0m\n\u001b[0;32m     16\u001b[0m \u001b[38;5;250m\u001b[39m\u001b[38;5;124;03m'''\u001b[39;00m\n\u001b[0;32m     17\u001b[0m \u001b[38;5;124;03mPerform Barnard’s Exact Test on a 2x2 contingency table.\u001b[39;00m\n\u001b[0;32m     18\u001b[0m \n\u001b[1;32m   (...)\u001b[0m\n\u001b[0;32m     25\u001b[0m \u001b[38;5;124;03m    The p-value from Barnard’s Exact Test\u001b[39;00m\n\u001b[0;32m     26\u001b[0m \u001b[38;5;124;03m'''\u001b[39;00m\n\u001b[0;32m     27\u001b[0m tbl \u001b[38;5;241m=\u001b[39m Table2x2(table)\n\u001b[1;32m---> 28\u001b[0m result \u001b[38;5;241m=\u001b[39m \u001b[43mtbl\u001b[49m\u001b[38;5;241;43m.\u001b[39;49m\u001b[43mtest_nominal_association\u001b[49m\u001b[43m(\u001b[49m\u001b[43mmethod\u001b[49m\u001b[38;5;241;43m=\u001b[39;49m\u001b[38;5;124;43m\"\u001b[39;49m\u001b[38;5;124;43mbarnard\u001b[39;49m\u001b[38;5;124;43m\"\u001b[39;49m\u001b[43m)\u001b[49m\n\u001b[0;32m     29\u001b[0m \u001b[38;5;28;01mreturn\u001b[39;00m result\u001b[38;5;241m.\u001b[39mpvalue\n",
      "\u001b[1;31mTypeError\u001b[0m: Table.test_nominal_association() got an unexpected keyword argument 'method'"
     ]
    }
   ],
   "source": [
    "# **Note on Environment Compatibility**  \n",
    "# This example uses `statsmodels` to run Barnard’s Exact Test, a feature added in version **0.14.0**.  \n",
    "# If you encounter an error related to the `method=\"barnard\"` keyword, you may be using an older version of `statsmodels`.\n",
    "\n",
    "# To fix this, run:  \n",
    "# ```bash\n",
    "# pip install --upgrade statsmodels\n",
    "\n",
    "\n",
    "# Python cell that creates some simulated data and calls the function to perform Barnard's Exact Test\n",
    "# Import needed library\n",
    "from statsmodels.stats.contingency_tables import Table2x2\n",
    "\n",
    "# Define the function directly\n",
    "def barnard_exact(table):\n",
    "    '''\n",
    "    Perform Barnard’s Exact Test on a 2x2 contingency table.\n",
    "\n",
    "    Parameters:\n",
    "    table : array_like\n",
    "        A 2x2 table, such as [[a, b], [c, d]]\n",
    "\n",
    "    Returns:\n",
    "    p_value : float\n",
    "        The p-value from Barnard’s Exact Test\n",
    "    '''\n",
    "    tbl = Table2x2(table)\n",
    "    result = tbl.test_nominal_association(method=\"barnard\")\n",
    "    return result.pvalue\n",
    "\n",
    "# (no sys.path, no import)\n",
    "\n",
    "# Simulated data\n",
    "data = [[9, 1], [2, 8]]\n",
    "\n",
    "# Perform Barnard’s Exact Test\n",
    "p_val = barnard_exact(data)\n",
    "print(\"Barnard’s Exact Test p-value:\", p_val)\n"
   ]
  }
 ],
 "metadata": {
  "kernelspec": {
   "display_name": "BIOM480A5",
   "language": "python",
   "name": "python3"
  },
  "language_info": {
   "codemirror_mode": {
    "name": "ipython",
    "version": 3
   },
   "file_extension": ".py",
   "mimetype": "text/x-python",
   "name": "python",
   "nbconvert_exporter": "python",
   "pygments_lexer": "ipython3",
   "version": "3.10.16"
  }
 },
 "nbformat": 4,
 "nbformat_minor": 5
}

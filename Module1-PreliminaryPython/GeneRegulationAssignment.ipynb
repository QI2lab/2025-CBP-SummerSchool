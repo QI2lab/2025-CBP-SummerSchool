{
 "cells": [
  {
   "cell_type": "code",
   "execution_count": null,
   "id": "68b73000-7c00-4a6c-84ba-4968e4464e0c",
   "metadata": {
    "tags": []
   },
   "outputs": [],
   "source": [
    "import numpy as np\n",
    "import random\n",
    "from biom421 import codes\n",
    "np.random.seed(1)\n",
    "assignments = []"
   ]
  },
  {
   "cell_type": "code",
   "execution_count": null,
   "id": "880cf97f-a552-45e6-8b18-feb55b01d5f2",
   "metadata": {
    "tags": []
   },
   "outputs": [],
   "source": [
    "students = codes.spring2024Students()\n",
    "probsStudents = np.ones(len(students))\n",
    "for student in students:\n",
    "    print(student)"
   ]
  },
  {
   "cell_type": "code",
   "execution_count": null,
   "id": "b83c65b8-2177-4652-9631-5b1d075498c4",
   "metadata": {},
   "outputs": [],
   "source": [
    "topics = codes.geneRegulationTopics()\n",
    "probsTopics = np.ones(len(topics))\n",
    "for topic in topics:\n",
    "    print(topic)"
   ]
  },
  {
   "cell_type": "code",
   "execution_count": null,
   "id": "65ca202b-2b50-461a-b835-0436b4a3e81d",
   "metadata": {
    "tags": []
   },
   "outputs": [],
   "source": [
    "# Propose Student and Topic Pair\n",
    "student, iStudent = codes.chooseMember(students,probsStudents)\n",
    "\n",
    "topic, iTopic = codes.chooseMember(topics,probsTopics)\n",
    "\n",
    "propose = student + ' will write about ' + topic\n",
    "\n",
    "print(propose)\n",
    "    "
   ]
  },
  {
   "cell_type": "code",
   "execution_count": null,
   "id": "01f18225",
   "metadata": {},
   "outputs": [],
   "source": [
    "# Accept\n",
    "assignments.append(f'{student} will write about {topic}')\n",
    "for assignment in assignments:\n",
    "    print('\\n' + assignment)\n",
    "\n",
    "probsStudents[iStudent] = 0\n",
    "probsTopics[iTopic] = 0"
   ]
  }
 ],
 "metadata": {
  "kernelspec": {
   "display_name": "Python 3",
   "language": "python",
   "name": "python3"
  },
  "language_info": {
   "codemirror_mode": {
    "name": "ipython",
    "version": 3
   },
   "file_extension": ".py",
   "mimetype": "text/x-python",
   "name": "python",
   "nbconvert_exporter": "python",
   "pygments_lexer": "ipython3",
   "version": "3.11.5"
  }
 },
 "nbformat": 4,
 "nbformat_minor": 5
}

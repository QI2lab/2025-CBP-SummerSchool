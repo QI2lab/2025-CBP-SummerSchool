{
 "cells": [
  {
   "cell_type": "markdown",
   "metadata": {
    "id": "TkyVyut7R_2W"
   },
   "source": [
    "<html>\n",
    "    <summary></summary>\n",
    "    <p float=\"left\">\n",
    "         <div> <p></p> </div>\n",
    "         <div style=\"font-size: 20px; width: 800px;\">\n",
    "              <h1>\n",
    "               <left>Intro to Python: Visualizing Biological Data using Matplotlib</left>\n",
    "              </h1>\n",
    "              <p><left>============================================================================</left> </p>              \n",
    "             <pre>Course: BIOM/CBE 480A5, Spring 2025\n",
    "Instructor: Dr. Brian Munsky\n",
    "Contact Info: munsky@colostate.edu\n",
    "Authors: Will Raymond, Dr. Luis Aguilera, Dr. Brian Munsky\n",
    "</pre>\n",
    "         </div>\n",
    "    </p>\n",
    "\n",
    "</html>\n",
    "\n",
    "\n",
    "\n",
    "<details>\n",
    "  <summary>Copyright info</summary>\n",
    "\n",
    "```\n",
    "Copyright 2023 Brian Munsky\n",
    "\n",
    "Redistribution and use in source and binary forms, with or without modification, are permitted provided that the following conditions are met:\n",
    "\n",
    "1. Redistributions of source code must retain the above copyright notice, this list of conditions and the following disclaimer.\n",
    "\n",
    "2. Redistributions in binary form must reproduce the above copyright notice, this list of conditions and the following disclaimer in the documentation and/or other materials provided with the distribution.\n",
    "\n",
    "3. Neither the name of the copyright holder nor the names of its contributors may be used to endorse or promote products derived from this software without specific prior written permission.\n",
    "\n",
    "THIS SOFTWARE IS PROVIDED BY THE COPYRIGHT HOLDERS AND CONTRIBUTORS \"AS IS\" AND ANY EXPRESS OR IMPLIED WARRANTIES, INCLUDING, BUT NOT LIMITED TO, THE IMPLIED WARRANTIES OF MERCHANTABILITY AND FITNESS FOR A PARTICULAR PURPOSE ARE DISCLAIMED. IN NO EVENT SHALL THE COPYRIGHT HOLDER OR CONTRIBUTORS BE LIABLE FOR ANY DIRECT, INDIRECT, INCIDENTAL, SPECIAL, EXEMPLARY, OR CONSEQUENTIAL DAMAGES (INCLUDING, BUT NOT LIMITED TO, PROCUREMENT OF SUBSTITUTE GOODS OR SERVICES; LOSS OF USE, DATA, OR PROFITS; OR BUSINESS INTERRUPTION) HOWEVER CAUSED AND ON ANY THEORY OF LIABILITY, WHETHER IN CONTRACT, STRICT LIABILITY, OR TORT (INCLUDING NEGLIGENCE OR OTHERWISE) ARISING IN ANY WAY OUT OF THE USE OF THIS SOFTWARE, EVEN IF ADVISED OF THE POSSIBILITY OF SUCH DAMAGE.\n",
    "```\n",
    "<details>"
   ]
  },
  {
   "cell_type": "markdown",
   "metadata": {
    "id": "yAzkdjtTSFDV"
   },
   "source": [
    "In this notebook, we will introduce a data plotting library in python, ```matplotlib```. Using this library, you can make anything from quick visualization of data while you work, to extensive indepth customized plots. The limit is how much time you want to spend working with matplotlib syntax!"
   ]
  },
  {
   "cell_type": "code",
   "execution_count": null,
   "metadata": {
    "colab": {
     "base_uri": "https://localhost:8080/",
     "height": 979
    },
    "id": "1DQuiHZ2iN5p",
    "outputId": "199c2b12-d258-4f99-e4a3-1f92b7e78d01"
   },
   "outputs": [],
   "source": [
    "from IPython.display import Image, display\n",
    "#!wget https://matplotlib.org/cheatsheets/_images/cheatsheets-1.png\n",
    "display(Image('cheatsheets-1.png'))"
   ]
  },
  {
   "cell_type": "markdown",
   "metadata": {
    "id": "goi-5vzJiza1"
   },
   "source": [
    "# 1) About Matplotlib\n",
    "\n",
    "```matplotlib``` is a Python library for creating plots with as much simplicity and complexity as one needs.\n",
    "\n",
    "```matplotlib``` primarily works with the following objects:\n",
    "\n",
    " * figure - the container for all the axes and all plots/subplots\n",
    "\n",
    " * axes - individual plot spaces and areas (where you actually plot lines and such)\n",
    "\n",
    " * axis - the axis objects that keep track of dimensions or ticks (a 2d plot has 2 axis, x_axis and y_axis)\n",
    "\n",
    " * artists - the object that actually draws the line for the data given, handles all the display options\n",
    "\n",
    "------------\n",
    "\n",
    " Other plotting libraries that are more \"pythonic\" and are commonly used are:\n",
    "\n",
    " seaborn - https://seaborn.pydata.org/\n",
    "\n",
    " plotly - https://plotly.com/\n",
    "\n",
    "\n",
    "\n",
    "\n",
    "\n"
   ]
  },
  {
   "cell_type": "markdown",
   "metadata": {
    "id": "Qvv9IAvIdpbM"
   },
   "source": [
    "# 2) Common plots\n",
    "\n",
    "\n",
    "```Reading: Kinder, Nelson Section 4.3```"
   ]
  },
  {
   "cell_type": "markdown",
   "metadata": {
    "id": "wWbC8dL2nBzx"
   },
   "source": [
    "## 2.A) Line plot\n",
    "\n",
    "A basic line plot is called via:\n",
    "\n",
    "``` matplotlib.pyplot.plot(x,y, **options)```\n",
    "\n",
    "Typically people import ```matplotlib.pyplot as plt``` and call it via ```plt.plot()```"
   ]
  },
  {
   "cell_type": "code",
   "execution_count": null,
   "metadata": {
    "colab": {
     "base_uri": "https://localhost:8080/",
     "height": 448
    },
    "id": "cMZLHP2JnDoY",
    "outputId": "056fcb5c-f93a-4d1a-a621-eb82dc848d36"
   },
   "outputs": [],
   "source": [
    "import matplotlib.pyplot as plt\n",
    "import numpy as np\n",
    "\n",
    "x = np.linspace(0,50,51)\n",
    "m = 50\n",
    "b = -10\n",
    "y = m*x + b\n",
    "y2 = np.sin(m*x-b)\n",
    "plt.plot(x,y2)"
   ]
  },
  {
   "cell_type": "markdown",
   "metadata": {
    "id": "LKFACyPCnXFS"
   },
   "source": [
    "### Line2D attributes\n",
    "\n",
    "Line2D objects allow you to change various attributes such as color, dash style, width and transparency (alpha). Here's a short list of some of those:\n",
    "\n",
    "| Attribute                     | Description                                           |\n",
    "|-------------------------------|--------------------------------------------------|\n",
    "| linecolor              | Change the line color, via name ('red'), shortcut str ('r' for red), or hex code ('#FF0000')               |\n",
    "| linestyle / ls                   |  solid or dashed or dotted line, or None for no line.            |\n",
    "| linewidth / lw                  | How thick is the line?             |\n",
    "| marker                | mark each point in the data plotted with a shape, like a square or circle, can also be \"None\"       |\n",
    "| markersize                    | How big are those markers  |\n",
    "| markerfacecolor                | What colors are those markers? |\n",
    "| alpha            | How transparent is this line? (value 0 to 1, .1 would be 90% transparent)|\n",
    "\n",
    "#### colors\n",
    "valid colors are strings in hex code, default names (like 'red' or 'olive'), or shorthand 'r', 'g', 'b', 'm'. rgb tuples or lists are also accepted.\n",
    "\n",
    "```python\n",
    "c = 'r' # red\n",
    "c = [1,0,0] #red\n",
    "c = '#FF0000' # also red\n",
    "c = 'red'\n",
    "```\n"
   ]
  },
  {
   "cell_type": "code",
   "execution_count": null,
   "metadata": {
    "cellView": "form",
    "colab": {
     "base_uri": "https://localhost:8080/",
     "height": 543
    },
    "id": "cQfSBepevWeU",
    "outputId": "8fc9311b-c7c7-4723-8424-f46d7a037d05"
   },
   "outputs": [],
   "source": [
    "linecolor = 'm' # ['red','green','m','blue','#31f3ac']\n",
    "linestyle = '--'  # ['-','--','-.','.','None']\n",
    "lwidth = 2 \n",
    "marker = \".\" # ['None','o','.','x','^','s']\n",
    "markerfacecolor = [0,0.5,0.5] # ['red','green','m','blue','#31f3ac',[R,G,B]]\n",
    "markersize = 12\n",
    "alpha = 0.8 \n",
    "plt.plot(x,y2, color=linecolor,\\\n",
    "         ls=linestyle,\\\n",
    "         marker=marker, \\\n",
    "         lw = lwidth, \\\n",
    "         markersize = markersize, \\\n",
    "         markerfacecolor = markerfacecolor, \\\n",
    "         alpha = alpha)\n",
    "\n",
    "xlabel = 'Time' \n",
    "ylabel = 'Value' \n",
    "title = 'Sine wave'\n",
    "label_fontsize = 33 \n",
    "title_fontsize = 34\n",
    "plt.xlabel(xlabel, fontsize= label_fontsize)\n",
    "plt.ylabel(ylabel, fontsize= label_fontsize )\n",
    "plt.title(title, fontsize= title_fontsize )\n",
    "\n",
    "plt.xlim([0,46])\n",
    "plt.ylim([-1.2,1.4])"
   ]
  },
  {
   "cell_type": "markdown",
   "metadata": {
    "id": "8phqDjdOndu_"
   },
   "source": [
    "### Axis labels / legend / title\n",
    "\n",
    "Text objects such as title, axis labels, or tick labels have slightly different attributes dealing with their font style (like serif or sans serif), rotation, or font style (like bold or light)."
   ]
  },
  {
   "cell_type": "code",
   "execution_count": null,
   "metadata": {
    "cellView": "form",
    "colab": {
     "base_uri": "https://localhost:8080/",
     "height": 703
    },
    "id": "MC9EZn0NHz__",
    "outputId": "b81707d6-ddb5-4608-ec24-8797ee094dc8"
   },
   "outputs": [],
   "source": [
    "linecolor = 'm'; linestyle = '-' ; lwidth = 3;\n",
    "plt.plot(x,y2, color=linecolor,\\\n",
    "         ls=linestyle,\\\n",
    "         lw = lwidth, )\n",
    "\n",
    "font = 'Helvetica' # ['Liberation Sans','Humor Sans','Liberation Serif','Liberation Mono']\n",
    "xlabel = 'Time' \n",
    "ylabel = 'Value' \n",
    "title = 'Sine wave' \n",
    "label_fontsize = 18 \n",
    "title_fontsize = 34 \n",
    "\n",
    "font_rotation = 62 \n",
    "weight = 'light' # ['ultralight', 'light', 'normal', 'regular', 'book', 'medium', 'roman', 'semibold', 'demibold', 'demi', 'bold', 'heavy', 'extra bold', 'black']\n",
    "color = 'green' # ['black','red','green','m','blue','#31f3ac',[R,G,B]]\n",
    "\n",
    "plt.xlabel(xlabel, fontsize= label_fontsize,\n",
    "           fontfamily=font,\n",
    "           fontweight = weight,\n",
    "           color = color,\n",
    "           rotation = font_rotation)\n",
    "plt.ylabel(ylabel, fontsize= label_fontsize,\n",
    "           fontfamily=font,\n",
    "           fontweight = weight,\n",
    "           color = color,\n",
    "           rotation = font_rotation+90)\n",
    "plt.title(title, fontsize= title_fontsize,\n",
    "          fontfamily=font,\n",
    "           fontweight = weight,\n",
    "           color = color,\n",
    "           rotation = font_rotation)\n",
    "\n"
   ]
  },
  {
   "cell_type": "markdown",
   "metadata": {
    "id": "knSc-5fXHQM-"
   },
   "source": [
    "\n",
    "### Fonts\n",
    "\n",
    "You can checkout which fonts your matplotlib has by pulling the names out of the font manager."
   ]
  },
  {
   "cell_type": "code",
   "execution_count": null,
   "metadata": {
    "colab": {
     "base_uri": "https://localhost:8080/"
    },
    "id": "_u98vOaOK5Vu",
    "outputId": "39be930a-9efc-4e1a-fe5b-f1718d0be100"
   },
   "outputs": [],
   "source": [
    "import matplotlib.font_manager as fm\n",
    "names = [f.name for f in fm.fontManager.ttflist]\n",
    "print(names)\n",
    "# Note that not all of these will actually work, but this at least gives some options."
   ]
  },
  {
   "cell_type": "markdown",
   "metadata": {
    "id": "ee_3xq2rpQU1"
   },
   "source": [
    "### Axis ticks and Grid Options"
   ]
  },
  {
   "cell_type": "code",
   "execution_count": null,
   "metadata": {
    "cellView": "form",
    "colab": {
     "base_uri": "https://localhost:8080/",
     "height": 671
    },
    "id": "u2pGTs_8L0qV",
    "outputId": "6764ff0d-5b81-4ed6-8b73-539d84a475f2"
   },
   "outputs": [],
   "source": [
    "plt.figure(dpi=120)\n",
    "linecolor = 'm'; linestyle = '-' ; lwidth = 3;\n",
    "plt.plot(x,y2, color=linecolor,\\\n",
    "         ls=linestyle,\\\n",
    "         lw = lwidth, )\n",
    "xlabel = 'Time' \n",
    "ylabel = 'Value' \n",
    "title = 'Sine wave'\n",
    "\n",
    "plt.xlabel(xlabel, fontsize= label_fontsize)\n",
    "plt.ylabel(ylabel, fontsize= label_fontsize)\n",
    "plt.title(title, fontsize= title_fontsize)\n",
    "\n",
    "#tick options\n",
    "plt.xlim([0,72])\n",
    "plt.ylim([-1.2,2.8])\n",
    "axis = 'both' #['both','x','y']\n",
    "tick_length = 6\n",
    "tick_width = 2\n",
    "direction = 'inout' #['in','out','inout']\n",
    "label_padding = 4\n",
    "label_rotation = 20\n",
    "\n",
    "#Grid options\n",
    "grid_on = True #[\"False\", \"True\"] {type:\"raw\"}\n",
    "grid_color = 'black' #['red','blue','black',[R,G,B]]\n",
    "grid_alpha = 0.2 \n",
    "grid_lw = 2 \n",
    "grid_ls = '-.'\n",
    "\n",
    "plt.grid(  grid_on,color = grid_color,\n",
    "                alpha = grid_alpha,\n",
    "                linewidth = grid_lw,\n",
    "                linestyle = grid_ls,\n",
    "                 )\n",
    "\n",
    "plt.tick_params(axis='both',\n",
    "                length= tick_length,\n",
    "                width = tick_width,\n",
    "                direction = direction,\n",
    "                pad = label_padding,\n",
    "                labelrotation =label_rotation\n",
    "                )"
   ]
  },
  {
   "cell_type": "markdown",
   "metadata": {
    "id": "rV_1X2aOpI1L"
   },
   "source": [
    "### Other style options\n",
    "\n",
    "matplotlib also has some handy built-in methods to adjust style globally.\n",
    "\n",
    "https://matplotlib.org/stable/gallery/style_sheets/style_sheets_reference.html"
   ]
  },
  {
   "cell_type": "code",
   "execution_count": null,
   "metadata": {
    "colab": {
     "base_uri": "https://localhost:8080/",
     "height": 1000
    },
    "id": "DqYBOcmIQhxE",
    "outputId": "e8a25fbb-01ae-4c43-c2b5-068d3a92ee80"
   },
   "outputs": [],
   "source": [
    "plt.style.use('dark_background')\n",
    "for i in range(0,5):\n",
    "  random_xy_points = np.random.randn(2,100)\n",
    "  plt.plot(random_xy_points[0],random_xy_points[1],'o')\n",
    "\n",
    "plt.style.use('classic')\n",
    "plt.figure()\n",
    "for i in range(0,5):\n",
    "  random_xy_points = np.random.randn(2,100)\n",
    "  plt.plot(random_xy_points[0],random_xy_points[1],'o')\n",
    "\n",
    "plt.style.use('Solarize_Light2')\n",
    "plt.figure()\n",
    "for i in range(0,5):\n",
    "  random_xy_points = np.random.randn(2,100)\n",
    "  plt.plot(random_xy_points[0],random_xy_points[1],'o')\n",
    "\n",
    "plt.style.use('default')"
   ]
  },
  {
   "cell_type": "markdown",
   "metadata": {
    "id": "ubQst9bZOX6l"
   },
   "source": [
    "## 2.B) Other Example Plots\n"
   ]
  },
  {
   "cell_type": "markdown",
   "metadata": {
    "id": "hA_6tC8inAZE"
   },
   "source": [
    "\n",
    "### Scatter plot\n",
    "\n",
    "```python\n",
    "plt.scatter(x, y, **kwargs)\n",
    "```"
   ]
  },
  {
   "cell_type": "code",
   "execution_count": null,
   "metadata": {
    "colab": {
     "base_uri": "https://localhost:8080/",
     "height": 448
    },
    "id": "AmTBIBKfmoZD",
    "outputId": "195fc7a9-1cbe-48d0-a9d8-211e2bdc7442"
   },
   "outputs": [],
   "source": [
    "n_points = 3276\n",
    "random_xy_points = np.random.randn(2,n_points)\n",
    "linewidth = 3\n",
    "facecolor = 'black'\n",
    "edgecolor = '#14ffca'\n",
    "alpha = 0.35 \n",
    "marker = \".\" #['None','o','.','x','^','s']\n",
    "\n",
    "plt.scatter(random_xy_points[0],random_xy_points[1],\n",
    "            marker=marker,\n",
    "            lw=linewidth,\n",
    "            facecolor=facecolor,\n",
    "            edgecolor=edgecolor,\n",
    "            alpha=alpha\n",
    "            )"
   ]
  },
  {
   "cell_type": "markdown",
   "metadata": {
    "id": "5gOtuVRdnHEH"
   },
   "source": [
    "### Bar plot\n",
    "\n",
    "```python\n",
    "plt.bar(x, y, xerr=xerr, yerr=yerr, **kwargs)\n",
    "```"
   ]
  },
  {
   "cell_type": "code",
   "execution_count": null,
   "metadata": {
    "cellView": "form",
    "colab": {
     "base_uri": "https://localhost:8080/",
     "height": 448
    },
    "id": "MYTabKX0nLAW",
    "outputId": "83e04015-47e6-43b1-8bb3-6e7f9c176dd8"
   },
   "outputs": [],
   "source": [
    "x = ['Entry 1', 'Entry 2', 'Entry 3']\n",
    "y = [30,50,10]\n",
    "y_err = [3,5,1]\n",
    "\n",
    "align = 'center'# ['center','edge']\n",
    "linewidth = 8\n",
    "facecolor = '#14ffca'\n",
    "edgecolor = 'blue'\n",
    "errorcolor = 'black'\n",
    "capsize = 7\n",
    "\n",
    "plt.bar(x,y,    yerr = y_err,\n",
    "                align= align,\n",
    "                lw = linewidth,\n",
    "                facecolor = facecolor,\n",
    "                ecolor = errorcolor,\n",
    "                edgecolor = edgecolor,\n",
    "                capsize = capsize,\n",
    "                )"
   ]
  },
  {
   "cell_type": "markdown",
   "metadata": {
    "id": "3C9vKp62nKc1"
   },
   "source": [
    "### Histograms\n",
    "\n",
    "```python\n",
    "plt.hist(values, number_bins, **kwargs)\n",
    "```\n"
   ]
  },
  {
   "cell_type": "code",
   "execution_count": null,
   "metadata": {
    "colab": {
     "base_uri": "https://localhost:8080/",
     "height": 763
    },
    "id": "OcQdPX-R25I8",
    "outputId": "fba34be7-4c94-4b94-a49b-43c4e342de9f"
   },
   "outputs": [],
   "source": [
    "import numpy as np\n",
    "n_points = 3276\n",
    "random_points = np.random.randn(1,n_points).flatten()\n",
    "\n",
    "align = 'mid'# ['left','mid','right']\n",
    "linewidth = 1\n",
    "facecolor = '#14ffca'\n",
    "edgecolor = 'black'\n",
    "density = True # ['True','False']\n",
    "alpha = 0.2\n",
    "\n",
    "plt.figure()\n",
    "plt.hist(random_points,40,\n",
    "                align= align,\n",
    "                lw = linewidth,\n",
    "                facecolor = facecolor,\n",
    "                edgecolor = edgecolor,\n",
    "                density=density,\n",
    "                alpha=alpha,\n",
    "                )\n"
   ]
  },
  {
   "cell_type": "markdown",
   "metadata": {
    "id": "8KxIzf8znUJe"
   },
   "source": [
    "### Heatmaps\n",
    "\n",
    "```\n",
    "plt.imshow(2d_image, **kwargs)\n",
    "```\n",
    "or\n",
    "```\n",
    "plt.matshow(2d_matrix, **kwargs)\n",
    "```\n",
    "\n"
   ]
  },
  {
   "cell_type": "code",
   "execution_count": null,
   "metadata": {
    "colab": {
     "base_uri": "https://localhost:8080/",
     "height": 508
    },
    "id": "wcecKH_c8Vky",
    "outputId": "378fc320-b522-45f2-ed65-dc4067c904fc"
   },
   "outputs": [],
   "source": [
    "heatmap = np.ones([100,100])\n",
    "for i in range(heatmap.shape[0]):\n",
    "    for j in range(heatmap.shape[1]):\n",
    "        heatmap[i,j] = i + j\n",
    "\n",
    "noise_scale = 11\n",
    "heatmap  +=  np.random.randn(100,100)*noise_scale\n",
    "\n",
    "aspect_ratio = 1.08 \n",
    "color_map = 'YlOrBr'\n",
    "cmap = matplotlib.colormaps[color_map]\n",
    "interpolation = 'none' # ['none','gaussian','bessel','nearest','spline16']\n",
    "normalize = True # ['True','False']\n",
    "\n",
    "im = plt.imshow(heatmap,aspect=aspect_ratio,\n",
    "    cmap=cmap,\n",
    "    interpolation = interpolation,\n",
    "    )\n",
    "\n",
    "# Color bar options:\n",
    "shrink = 0.4 \n",
    "orientation = 'vertical' # ['vertical','horizontal']\n",
    "\n",
    "\n",
    "plt.colorbar(im, shrink = shrink,\n",
    "             orientation=orientation)\n"
   ]
  },
  {
   "cell_type": "markdown",
   "metadata": {
    "id": "GaGKY-ibd9Su"
   },
   "source": [
    "## 2.C) Questions and Practice"
   ]
  },
  {
   "cell_type": "code",
   "execution_count": null,
   "metadata": {
    "id": "ZzFf1_Rod_rZ"
   },
   "outputs": [],
   "source": [
    "## Create a plot of the function y = x ** 2 for appropriate x and y limits\n",
    "## Overlay this line plot with dots for every integer value of x."
   ]
  },
  {
   "cell_type": "code",
   "execution_count": null,
   "metadata": {
    "id": "xBpX8Pw6Q0a9",
    "jupyter": {
     "source_hidden": true
    },
    "tags": []
   },
   "outputs": [],
   "source": [
    "## Create a scatter plot of a random 2d gaussian, color each dot based on its index\n",
    "## in the object."
   ]
  },
  {
   "cell_type": "markdown",
   "metadata": {
    "id": "G0oS1dXkdwoH"
   },
   "source": [
    "# 3) Advanced matplotlib\n",
    "\n",
    "```Reading: Kinder, Nelson Section 6.3 - 6.4```"
   ]
  },
  {
   "cell_type": "markdown",
   "metadata": {
    "id": "HN-pxawA5aK-"
   },
   "source": [
    "## 3.A) Subplots and gridspec\n",
    "\n",
    "Handling subplots is typically done via splitting the figure and axis/axes object(s) and handling them individually.\n",
    "\n",
    "```plt.subplots``` is used for when you want NxM equal sized plots\n",
    "\n",
    "```gridspec.Gridspec``` is used for when you want finer control over each plots location, size, ratio to other plots and shared axes\n"
   ]
  },
  {
   "cell_type": "code",
   "execution_count": null,
   "metadata": {
    "colab": {
     "base_uri": "https://localhost:8080/",
     "height": 523
    },
    "id": "xS_SvBXtIVb0",
    "outputId": "4be02cb8-b0ab-4d1d-9296-523d0445c81e"
   },
   "outputs": [],
   "source": [
    "fig1, figure_1_axes = plt.subplots(ncols=2, nrows=3,tight_layout=True)  # creates N by M subplots\n",
    "print(figure_1_axes)  #row by column list of lists of axes objects"
   ]
  },
  {
   "cell_type": "code",
   "execution_count": null,
   "metadata": {
    "cellView": "form",
    "colab": {
     "base_uri": "https://localhost:8080/",
     "height": 524
    },
    "id": "h5y1GC1SK0Yj",
    "outputId": "c2df5fe1-11ae-40ed-f324-840de1650301"
   },
   "outputs": [],
   "source": [
    "# Here is how you can tell the panels to share axes from left to right and top to bottom:\n",
    "fig1, figure_1_axes = plt.subplots(ncols=2,\n",
    "                                   sharex=True,\n",
    "                                   sharey=True,\n",
    "                                   nrows=3,\n",
    "                                   tight_layout=True)  # creates N by M subplots\n",
    "print(figure_1_axes)  #row by column list of lists of axes objects"
   ]
  },
  {
   "cell_type": "code",
   "execution_count": null,
   "metadata": {
    "cellView": "form",
    "colab": {
     "base_uri": "https://localhost:8080/",
     "height": 524
    },
    "id": "JdqX_TikLUnX",
    "outputId": "08201340-b0a2-4194-cee4-e3dd558d9072"
   },
   "outputs": [],
   "source": [
    "## Plotting on the subplots:\n",
    "rows = 2 \n",
    "cols = 3\n",
    "\n",
    "fig1, figure_1_axes = plt.subplots(ncols=cols,\n",
    "                                   sharex=True,\n",
    "                                   sharey=True,\n",
    "                                   nrows=rows,\n",
    "                                   tight_layout=True)  # creates N by M subplots\n",
    "print(figure_1_axes)  #row by column list of lists of axes objects\n",
    "\n",
    "for i in range(0,rows):\n",
    "  for j in range(0,cols):\n",
    "    #get the axes object from these indexes\n",
    "    xy_pts = np.random.randn(2,100)\n",
    "    figure_1_axes[i][j].plot(xy_pts[0],xy_pts[1])\n"
   ]
  },
  {
   "cell_type": "code",
   "execution_count": null,
   "metadata": {
    "colab": {
     "base_uri": "https://localhost:8080/",
     "height": 508
    },
    "id": "MWiejX17L97d",
    "outputId": "0c37f8a9-e187-4450-8a20-ebbbad25142b"
   },
   "outputs": [],
   "source": [
    "gridspec_figure = plt.figure(constrained_layout= True)\n",
    "rows = 5 \n",
    "cols = 2 \n",
    "heights = [0.5,2,1,1,3][:rows]\n",
    "widths = [2,.5,1,1,3][:cols]\n",
    "\n",
    "spec_obj = gridspec_figure.add_gridspec(ncols=cols, nrows=rows, width_ratios=widths,\n",
    "                          height_ratios=heights)\n",
    "\n",
    "grid_spec_axes = []\n",
    "for i in range(0,rows):\n",
    "  row_axes = []\n",
    "  for j in range(0,cols):\n",
    "    ax = gridspec_figure.add_subplot(spec_obj[i,j])\n",
    "    row_axes.append(ax)\n",
    "  grid_spec_axes.append(row_axes)"
   ]
  },
  {
   "cell_type": "code",
   "execution_count": null,
   "metadata": {
    "colab": {
     "base_uri": "https://localhost:8080/",
     "height": 508
    },
    "id": "114vuivKO8XS",
    "outputId": "acc7ad29-1063-4378-955c-8ef12e4aaea4"
   },
   "outputs": [],
   "source": [
    "# Make Multi-panel figures with different sizes:\n",
    "gridspec_figure = plt.figure(constrained_layout= True)\n",
    "rows = 2 \n",
    "cols = 3 \n",
    "heights = [0.5,2,1,1,3][:rows]\n",
    "widths = [2,.5,1,1,3][:cols]\n",
    "\n",
    "spec_obj = gridspec_figure.add_gridspec(ncols=cols, nrows=rows, width_ratios=widths,\n",
    "                          height_ratios=heights)\n",
    "\n",
    "grid_spec_axes = []\n",
    "for i in range(0,rows):\n",
    "  row_axes = []\n",
    "  for j in range(0,cols):\n",
    "    ax = gridspec_figure.add_subplot(spec_obj[i,j])\n",
    "    row_axes.append(ax)\n",
    "  grid_spec_axes.append(row_axes)\n",
    "\n",
    "# remove the upper left corner 4 axis and replace them with one large ax\n",
    "# to plot on\n",
    "\n",
    "for i in range(0,2):\n",
    "  for j in range(0,2):\n",
    "    grid_spec_axes[i][j].remove() #delete these axes\n",
    "\n",
    "big_ax = gridspec_figure.add_subplot(spec_obj[:2,:2])  #add the large axis\n",
    "\n"
   ]
  },
  {
   "cell_type": "markdown",
   "metadata": {
    "id": "hGBa4Ub1pgSi"
   },
   "source": [
    "## 3.B) Defining a custom style\n",
    "\n",
    "Matplotlib default styles can be edited programmatically, or you can build a custom style file to load in whenever you need it.\n",
    "\n",
    "\n",
    "Programmatically in python the parameters are stored in ```matplotlib.rcParams```. Simply editing this dictionary will change the way matplotlib acts for your current Python session.\n"
   ]
  },
  {
   "cell_type": "code",
   "execution_count": null,
   "metadata": {
    "colab": {
     "base_uri": "https://localhost:8080/"
    },
    "id": "J-V0mDP4WKQ9",
    "outputId": "b3454556-4c8f-40f0-cad0-1183e7586a5e"
   },
   "outputs": [],
   "source": [
    "import matplotlib as mpl\n",
    "mpl.rcParams"
   ]
  },
  {
   "cell_type": "code",
   "execution_count": null,
   "metadata": {
    "colab": {
     "base_uri": "https://localhost:8080/",
     "height": 905
    },
    "id": "RgcF8zCEUndd",
    "outputId": "9758aa77-a199-42e8-9146-c83ba9f2c794"
   },
   "outputs": [],
   "source": [
    "mpl.rcParams['lines.linewidth'] = 5  #change the default linewidth to 5\n",
    "plt.figure()\n",
    "plt.plot(np.linspace(0,30,31), 5*np.linspace(0,30,31))\n",
    "plt.title('default lw = %i'% mpl.rcParams['lines.linewidth'])\n",
    "\n",
    "plt.figure()\n",
    "mpl.rcParams['lines.linewidth'] = 50   #change the default linewidth to 5\n",
    "plt.plot(np.linspace(0,30,31), 5*np.linspace(0,30,31))\n",
    "plt.title('default lw = %i'% mpl.rcParams['lines.linewidth'])"
   ]
  },
  {
   "cell_type": "code",
   "execution_count": null,
   "metadata": {
    "id": "peLzDrEZXCa6"
   },
   "outputs": [],
   "source": [
    "# heres also an example of how to update the default color cycling\n",
    "mpl.rcParams.update(mpl.rcParamsDefault)\n",
    "from cycler import cycler\n",
    "colors = ['#ef476f', '#06d6a0','#ffd166','#7400b8','#073b4c', '#118ab2',]\n",
    "plt.rcParams.update({'axes.prop_cycle':cycler(color=colors)})\n",
    "\n",
    "for i in range(5):\n",
    "  plt.scatter(  np.random.randn(1,100),np.random.randn(1,100))"
   ]
  },
  {
   "cell_type": "markdown",
   "metadata": {
    "id": "xJQuRfc-WkU6"
   },
   "source": [
    "Alternatively you can make a style file or function to load from!"
   ]
  },
  {
   "cell_type": "code",
   "execution_count": null,
   "metadata": {
    "colab": {
     "base_uri": "https://localhost:8080/"
    },
    "id": "2ven5t96YMMd",
    "outputId": "84b3ccad-7b62-4fc8-d228-a795b27c528d"
   },
   "outputs": [],
   "source": [
    "mpl.rcParams.update(mpl.rcParamsDefault)\n",
    "lines = ['lines.markersize : 10',\n",
    "         'font.weight : bold',\n",
    "         'axes.labelweight : bold',\n",
    "         'axes.linewidth : 2'\n",
    "         ]\n",
    "\n",
    "with open('./mystyle.mplstyle', 'w') as f:\n",
    "  for line in lines:\n",
    "    f.write(line + '\\n')\n",
    "\n",
    "plt.style.use('mystyle.mplstyle')\n",
    "plt.figure()\n",
    "plt.scatter(  np.random.randn(1,100),np.random.randn(1,100))\n",
    "plt.title('plot with my new style!')"
   ]
  },
  {
   "cell_type": "code",
   "execution_count": null,
   "metadata": {
    "colab": {
     "base_uri": "https://localhost:8080/"
    },
    "id": "DfYXZATSZam2",
    "outputId": "e5f9ab73-f14c-449b-ccad-58392a320d0d"
   },
   "outputs": [],
   "source": [
    "mpl.rcParams.update(mpl.rcParamsDefault)\n",
    "\n",
    "def set_style():\n",
    "  '''\n",
    "  Function that sets my style before plotting\n",
    "  '''\n",
    "  colors = ['#ef476f', '#06d6a0','#ffd166','#7400b8','#073b4c', '#118ab2',]\n",
    "  #colors = ['#fa8174', '#b3de69', '#bc82bd','#ccebc4','#ffed6f','#81b1d2']\n",
    "  font = {'family' : 'helvetica',\n",
    "          'weight' : 'bold',\n",
    "          'size'   : 12}\n",
    "  plt.rcParams.update({'font.size': 12, 'font.weight':'bold','font.family':'helvetica'  }   )\n",
    "  plt.rcParams.update({'axes.prop_cycle':cycler(color=colors)})\n",
    "  plt.rcParams.update({'axes.prop_cycle':cycler(color=colors)})\n",
    "  plt.rcParams.update({'axes.prop_cycle':cycler(color=colors)})\n",
    "  plt.rcParams.update({'xtick.major.width'   : 2.8 })\n",
    "  plt.rcParams.update({'xtick.labelsize'   : 12 })\n",
    "  plt.rcParams.update({'ytick.major.width'   : 2.8 })\n",
    "  plt.rcParams.update({'ytick.labelsize'   : 12})\n",
    "  plt.rcParams.update({'axes.titleweight'   : 'bold'})\n",
    "  plt.rcParams.update({'axes.titlesize'   : 10})\n",
    "  plt.rcParams.update({'axes.labelweight'   : 'bold'})\n",
    "  plt.rcParams.update({'axes.labelsize'   : 12})\n",
    "  plt.rcParams.update({'axes.linewidth':2.8})\n",
    "  plt.rcParams.update({'axes.labelpad':8})\n",
    "  plt.rcParams.update({'axes.titlepad':10})\n",
    "\n",
    "\n",
    "set_style()\n",
    "\n",
    "plt.scatter(  np.random.randn(1,100),np.random.randn(1,100))\n",
    "plt.title('plot with my new style!')\n"
   ]
  },
  {
   "cell_type": "markdown",
   "metadata": {
    "id": "-7YGfCiBZ8G4"
   },
   "source": [
    "The full set of rcparams can be seen:"
   ]
  },
  {
   "cell_type": "code",
   "execution_count": null,
   "metadata": {
    "id": "9V52hixFIfip"
   },
   "outputs": [],
   "source": [
    "mpl.rcParams.update(mpl.rcParamsDefault)\n",
    "print(mpl.rcParams)"
   ]
  },
  {
   "cell_type": "markdown",
   "metadata": {
    "id": "b1-ARpFUeOZy"
   },
   "source": [
    "## 3.C) Animation\n",
    "\n",
    "Matplotlib can handle rudimentary animations.\n",
    "\n",
    "Typically the ```matplotlib.animation.FuncAnimation``` is used for animating matplotlib plots. To use this function you have to do the following:\n",
    "\n",
    "1. define a plot\n",
    "2. define or provide an initial frame\n",
    "3. provide a function on how to update the plot\n",
    "4. pass the function to FuncAnimation with how many frames to make and how to update them\n",
    "\n",
    "---\n",
    "\n",
    "\n",
    "```Reading: Kinder, Nelson Section 8.3```\n",
    "\n"
   ]
  },
  {
   "cell_type": "code",
   "execution_count": null,
   "metadata": {
    "colab": {
     "base_uri": "https://localhost:8080/",
     "height": 598
    },
    "id": "z6T7Y13meQGi",
    "outputId": "f4990d04-eb46-4c02-ba48-b3fd6f224771"
   },
   "outputs": [],
   "source": [
    "import matplotlib.animation as animation\n",
    "import numpy as np\n",
    "from IPython.display import HTML\n",
    "\n",
    "# 1. Set up an initial blank plot\n",
    "fig, ax = plt.subplots(dpi=120)\n",
    "\n",
    "# 2. inital plot\n",
    "x = np.arange(0, 2*np.pi, 0.01) # generate the first frame\n",
    "line, = ax.plot(x, np.sin(x)) #save our line object, this is what we will be updating!\n",
    "\n",
    "# update function as a function of frame number\n",
    "def animate(i):\n",
    "    line.set_ydata(np.sin(x + i/10.0))  # update the data\n",
    "    return line,\n",
    "\n",
    "# Init only required for blitting to give a clean slate, other wise this can be \"pass\"\n",
    "def init():\n",
    "    line.set_ydata(np.ma.array(x, mask=True)) # for a Line2D use set.x_data, set.y_data\n",
    "\n",
    "    return line,\n",
    "\n",
    "# Make our animation object for frames 1 to 200\n",
    "# interval determines the FPS\n",
    "animation_obj = animation.FuncAnimation(fig, animate, np.arange(1, 200), init_func=init,\n",
    "                              interval=25, blit=True)\n",
    "\n",
    "plt.close(1) #close the plot after animation so it doesn't show up twice in Colab\n",
    "\n",
    "# display this animation object in Python (after converting it to html5)\n",
    "HTML(animation_obj.to_html5_video())"
   ]
  },
  {
   "cell_type": "markdown",
   "metadata": {
    "id": "m2D53_LpQZ7d"
   },
   "source": [
    "## 3.D) Saving plots or figures\n",
    "\n",
    "Saving a matplotlib figure is done by calling ```plt.savefig(filename, format)```\n",
    "\n",
    "This will save your current active plot. If you do not have the plot you want to save as your current plot you can use ```ax.gca()``` on any given axis object to set it as your current plot before saving."
   ]
  },
  {
   "cell_type": "markdown",
   "metadata": {
    "id": "vh8GMxn5d5WL"
   },
   "source": [
    "## Questions"
   ]
  },
  {
   "cell_type": "code",
   "execution_count": null,
   "metadata": {
    "id": "lVjHp7nmPWYq"
   },
   "outputs": [],
   "source": [
    "## Create a figure with 2x2 plots each displaying some random data you generate"
   ]
  },
  {
   "cell_type": "code",
   "execution_count": null,
   "metadata": {
    "id": "Q2rh5q3sd4DL"
   },
   "outputs": [],
   "source": [
    "## Create an animation of a single particle moving around with a line tracking its trajectory\n",
    "## Hint: you will need two matplotlib plot objects to update, one of the line plot (plt.plot()) and\n",
    "## one of the particle itself (plt.scatter())"
   ]
  },
  {
   "cell_type": "markdown",
   "metadata": {
    "id": "gy82qFODChCa"
   },
   "source": [
    "# Other plotting libraries\n",
    "\n",
    "Two other popular plotting libraries are:\n",
    "\n",
    "* [Seaborn](https://seaborn.pydata.org/)\n",
    "* [Plotly](https://plotly.com/python/)\n",
    "\n",
    "Seaborn is an extension of matplotlib focused on usability and aesthetics. Seaborn has many common plots built in as one function, providing a quick, fast readable plot for some given data; This comes at the cost of customizability with plots that matplotlib provides.\n",
    "\n",
    "Plotly is similar to matplotlib but provides interactability which matplotlib lacks for its main figures. If you need interactable graphs, plotly is the way to go.\n",
    "\n",
    "\n",
    "\n",
    "| Package    | PROs  |  CONs |\n",
    "| ----------- | ----------- | ----------- |\n",
    "| matplotlib | Complete customizability | unwieldy, complex syntax  |\n",
    "| seaborn |usability, easy common plots, aesthetic default themes | complicated for lots of subfigures|\n",
    "| plotly | interactability | slow, dictionary reliant, less customizable |\n"
   ]
  },
  {
   "cell_type": "code",
   "execution_count": null,
   "metadata": {
    "id": "gMx65GZj7ziv"
   },
   "outputs": [],
   "source": []
  }
 ],
 "metadata": {
  "colab": {
   "provenance": [],
   "toc_visible": true
  },
  "kernelspec": {
   "display_name": "Python 3",
   "language": "python",
   "name": "python3"
  },
  "language_info": {
   "codemirror_mode": {
    "name": "ipython",
    "version": 3
   },
   "file_extension": ".py",
   "mimetype": "text/x-python",
   "name": "python",
   "nbconvert_exporter": "python",
   "pygments_lexer": "ipython3",
   "version": "3.11.5"
  }
 },
 "nbformat": 4,
 "nbformat_minor": 4
}

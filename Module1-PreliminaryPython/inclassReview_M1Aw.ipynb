{
 "cells": [
  {
   "cell_type": "code",
   "execution_count": 3,
   "metadata": {},
   "outputs": [],
   "source": [
    "import sys\n",
    "import os\n",
    "# add the path ../BIOM480A5 to the system path\n",
    "sys.path.append(os.path.abspath('BIOM480A5'))\n",
    "from BIOM480A5_Quizzes import multiple_choice_quiz\n",
    "from BIOM480A5_codes import spring2025Students, geneRegulationTopics, pythonModules\n",
    "import textwrap\n",
    "\n",
    "import random"
   ]
  },
  {
   "cell_type": "markdown",
   "metadata": {},
   "source": [
    "# Types"
   ]
  },
  {
   "cell_type": "code",
   "execution_count": null,
   "metadata": {},
   "outputs": [],
   "source": [
    "multiple_choice_quiz('types')"
   ]
  },
  {
   "cell_type": "markdown",
   "metadata": {},
   "source": [
    "# Slicing"
   ]
  },
  {
   "cell_type": "code",
   "execution_count": null,
   "metadata": {},
   "outputs": [],
   "source": [
    "multiple_choice_quiz('slicing')"
   ]
  },
  {
   "cell_type": "markdown",
   "metadata": {},
   "source": [
    "# Operations on Lists"
   ]
  },
  {
   "cell_type": "code",
   "execution_count": null,
   "metadata": {},
   "outputs": [],
   "source": [
    "multiple_choice_quiz('list_operations')"
   ]
  },
  {
   "cell_type": "markdown",
   "metadata": {},
   "source": [
    "# Dictionaries"
   ]
  },
  {
   "cell_type": "code",
   "execution_count": null,
   "metadata": {},
   "outputs": [],
   "source": [
    "multiple_choice_quiz('dictionary_operations')"
   ]
  },
  {
   "cell_type": "code",
   "execution_count": null,
   "metadata": {},
   "outputs": [],
   "source": [
    "# Consider the dictionary:\n",
    "Dict1 = {'a':1, 'b':2, 'c':3}\n",
    "\n",
    "# How do I fix this for loop to print the keys and values in Dict1?\n",
    "for blah in blahs:\n",
    "    print(f'The value of {blah} is {blahblah}.')"
   ]
  },
  {
   "cell_type": "markdown",
   "metadata": {},
   "source": [
    "# Strings"
   ]
  },
  {
   "cell_type": "code",
   "execution_count": null,
   "metadata": {},
   "outputs": [],
   "source": [
    "multiple_choice_quiz('string_operations')"
   ]
  },
  {
   "cell_type": "markdown",
   "metadata": {},
   "source": [
    "# Gene Regulation Assignments"
   ]
  },
  {
   "cell_type": "code",
   "execution_count": 4,
   "metadata": {},
   "outputs": [],
   "source": [
    "# set rng seed for reproducibility\n",
    "random.seed(0)\n",
    "students = spring2025Students()\n",
    "# topics = geneRegulationTopics()\n",
    "topics = pythonModules()\n",
    "random.shuffle(topics)\n"
   ]
  },
  {
   "cell_type": "code",
   "execution_count": 5,
   "metadata": {},
   "outputs": [
    {
     "name": "stdout",
     "output_type": "stream",
     "text": [
      "['Open Babel', 'MODELLER', 'MiRPursuit', 'Omics Pipe', 'NCBI Mass Sequence Downloader', 'SPAdes', 'GATK', 'HyPhy', 'Chimera', 'Gubbins', 'Flye', 'pysam', 'Phenix', 'SBML', 'kallisto', 'BEDTools', 'MetaPhlAn', 'PICRUSt2', 'UNet++', 'DeepLabCut', 'CompreheNGSive', 'MACS', 'GROMACS', 'CheckM', 'PICRUSt', 'QIIME 2', 'Unicycler', 'ColabFold', 'Minimap2', 'Expasy', 'AlphaFold 2', 'OrthoFinder', 'htseqcount', 'NanoPack', 'metaspades', 'PAIRPred', 'QUAST', 'HTSeq', 'ilastik', 'BUSCO', 'Scoary', 'GENCODE', 'LDSC', 'HISAT2', 'BioBERT', 'scRNA-Seq', 'GTDB-Tk', 'Avogadro', 'MAFFT', 'ScanPy', 'OpenMM', 'MultiQC']\n"
     ]
    }
   ],
   "source": [
    "\n",
    "print(topics)"
   ]
  },
  {
   "cell_type": "code",
   "execution_count": 6,
   "metadata": {},
   "outputs": [
    {
     "name": "stdout",
     "output_type": "stream",
     "text": [
      "Assignment for Spring 2025 students\n",
      "Becca B will present on the topic of MultiQC\n",
      "\n",
      "\n",
      "Ella B will present on the topic of OpenMM\n",
      "\n",
      "\n",
      "Lauren B will present on the topic of ScanPy\n",
      "\n",
      "\n",
      "James B will present on the topic of MAFFT\n",
      "\n",
      "\n",
      "Chayanee C will present on the topic of Avogadro\n",
      "\n",
      "\n",
      "Deven D will present on the topic of GTDB-Tk\n",
      "\n",
      "\n",
      "Jackson E will present on the topic of scRNA-Seq\n",
      "\n",
      "\n",
      "Delaney E will present on the topic of BioBERT\n",
      "\n",
      "\n",
      "Christian F will present on the topic of HISAT2\n",
      "\n",
      "\n",
      "Lillian G will present on the topic of LDSC\n",
      "\n",
      "\n",
      "Andy G will present on the topic of GENCODE\n",
      "\n",
      "\n",
      "Emma G will present on the topic of Scoary\n",
      "\n",
      "\n",
      "Nick G will present on the topic of BUSCO\n",
      "\n",
      "\n",
      "Joshua H will present on the topic of ilastik\n",
      "\n",
      "\n",
      "Paycen H will present on the topic of HTSeq\n",
      "\n",
      "\n",
      "Kyle H will present on the topic of QUAST\n",
      "\n",
      "\n",
      "Emma H will present on the topic of PAIRPred\n",
      "\n",
      "\n",
      "Elijah J will present on the topic of metaspades\n",
      "\n",
      "\n",
      "Gabriela J will present on the topic of NanoPack\n",
      "\n",
      "\n",
      "Addison L will present on the topic of htseqcount\n",
      "\n",
      "\n",
      "Matthew L will present on the topic of OrthoFinder\n",
      "\n",
      "\n",
      "Hassan M will present on the topic of AlphaFold 2\n",
      "\n",
      "\n",
      "Bella P will present on the topic of Expasy\n",
      "\n",
      "\n",
      "Chris RT will present on the topic of Minimap2\n",
      "\n",
      "\n",
      "Mariana S will present on the topic of ColabFold\n",
      "\n",
      "\n",
      "Dylan S will present on the topic of Unicycler\n",
      "\n",
      "\n",
      "Jacob S will present on the topic of QIIME 2\n",
      "\n",
      "\n",
      "Hayley S will present on the topic of PICRUSt\n",
      "\n",
      "\n",
      "Kayla T will present on the topic of CheckM\n",
      "\n",
      "\n",
      "Vivia VDM will present on the topic of GROMACS\n",
      "\n",
      "\n",
      "Fig V will present on the topic of MACS\n",
      "\n",
      "\n",
      "AbbyMae W will present on the topic of CompreheNGSive\n",
      "\n",
      "\n",
      "Alvina Y will present on the topic of DeepLabCut\n",
      "\n",
      "\n",
      "Polina Z will present on the topic of UNet++\n",
      "\n",
      "\n"
     ]
    }
   ],
   "source": [
    "assignmentDict = {}\n",
    "for student in students:\n",
    "    assignmentDict[student] = topics.pop()\n",
    "\n",
    "print(\"Assignment for Spring 2025 students\")\n",
    "for student, topic in assignmentDict.items():\n",
    "    # Print the folllowing string, wrap the output at 80 characters\n",
    "    string2print = f\"{student} will present on the topic of {topic}\"\n",
    "    print(textwrap.fill(string2print, width=80))\n",
    "    print('\\n')\n",
    "        \n",
    "    input(\"Press Enter to continue...\")\n"
   ]
  },
  {
   "cell_type": "code",
   "execution_count": 6,
   "metadata": {},
   "outputs": [
    {
     "name": "stdout",
     "output_type": "stream",
     "text": [
      "['Hormonal Regulation - Peptide Hormones: Signaling cascades activated by peptide hormones.', 'Signal Transduction and Cellular Signaling - Intracellular Signaling Cascades: Series of molecular events triggered by signaling molecules.', 'Post-Translational Modification - Acetylation/Deacetylation: Addition or removal of acetyl groups to regulate protein function.', 'Transcription Elongation and Termination - Elongation Factors: Proteins facilitating RNA polymerase movement along the DNA.', 'Feedback Regulation and Feedback Inhibition - miRNA-mediated Regulation: Post-transcriptional regulation by microRNAs.', 'Promoter Activation and Transcription Initiation - RNA Polymerase Recruitment: Binding of RNA polymerase to gene promoters.', 'Signal Transduction and Cellular Signaling - Receptor-Mediated Signaling: Activation of gene expression in response to extracellular signals.', 'Post-Translational Modification - Ubiquitination: Addition of ubiquitin molecules for protein degradation.', 'Cell Cycle Regulation - Cyclins and Cyclin-Dependent Kinases (CDKs): Regulate gene expression during the cell cycle.', 'Chromatin Remodeling and Epigenetic Regulation - Chromatin Remodeling Complexes: Alteration of chromatin structure to allow or restrict transcription.', 'Cellular Localization - Mitochondrial Targeting Signals: Sequences directing proteins to mitochondria.', 'Cellular Localization - Endoplasmic Reticulum (ER) Targeting Signals: Sequences directing proteins to the ER.', 'mRNA Transport and Localization - Nuclear Export: Transport of mature mRNA from the nucleus to the cytoplasm.', 'Cell Signaling Gradients - Gradients of signaling molecules influencing gene expression patterns.', 'Chromatin Remodeling and Epigenetic Regulation - Histone Modification: Acetylation, methylation, phosphorylation of histone proteins.', 'Environmental and Metabolic Regulation - Oxygen and Redox Regulation: Cellular oxygen levels affecting gene expression.']\n"
     ]
    }
   ],
   "source": [
    "print(topics)"
   ]
  },
  {
   "cell_type": "code",
   "execution_count": null,
   "metadata": {},
   "outputs": [],
   "source": []
  }
 ],
 "metadata": {
  "kernelspec": {
   "display_name": "Python 3",
   "language": "python",
   "name": "python3"
  },
  "language_info": {
   "codemirror_mode": {
    "name": "ipython",
    "version": 3
   },
   "file_extension": ".py",
   "mimetype": "text/x-python",
   "name": "python",
   "nbconvert_exporter": "python",
   "pygments_lexer": "ipython3",
   "version": "3.10.16"
  }
 },
 "nbformat": 4,
 "nbformat_minor": 2
}

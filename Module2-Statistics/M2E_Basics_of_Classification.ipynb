{
  "cells": [
    {
      "cell_type": "markdown",
      "metadata": {},
      "source": [
        "<html>\n",
        "    <summary></summary>\n",
        "         <div> <p></p> </div>\n",
        "         <div style=\"font-size: 20px; width: 800px;\"> \n",
        "              <h1>\n",
        "               <left>Basics of Classification</left>\n",
        "              </h1>\n",
        "              <p><left>============================================================================</left> </p>\n",
        "<pre>Course: BIOM 480A5, Spring 2025\n",
        "Instructor: Brian Munsky\n",
        "Authors: Will Raymond, Zachary Fox, Brian Munsky\n",
        "Contact Info: munsky@colostate.edu\n",
        "</pre>\n",
        "         </div>\n",
        "    </p>\n",
        "\n",
        "</html>\n",
        "\n",
        "<details>\n",
        "  <summary>Copyright info</summary>\n",
        "\n",
        "```\n",
        "Copyright 2024 Brian Munsky\n",
        "\n",
        "Redistribution and use in source and binary forms, with or without modification, are permitted provided that the following conditions are met:\n",
        "\n",
        "1. Redistributions of source code must retain the above copyright notice, this list of conditions and the following disclaimer.\n",
        "\n",
        "2. Redistributions in binary form must reproduce the above copyright notice, this list of conditions and the following disclaimer in the documentation and/or other materials provided with the distribution.\n",
        "\n",
        "3. Neither the name of the copyright holder nor the names of its contributors may be used to endorse or promote products derived from this software without specific prior written permission.\n",
        "\n",
        "THIS SOFTWARE IS PROVIDED BY THE COPYRIGHT HOLDERS AND CONTRIBUTORS \"AS IS\" AND ANY EXPRESS OR IMPLIED WARRANTIES, INCLUDING, BUT NOT LIMITED TO, THE IMPLIED WARRANTIES OF MERCHANTABILITY AND FITNESS FOR A PARTICULAR PURPOSE ARE DISCLAIMED. IN NO EVENT SHALL THE COPYRIGHT HOLDER OR CONTRIBUTORS BE LIABLE FOR ANY DIRECT, INDIRECT, INCIDENTAL, SPECIAL, EXEMPLARY, OR CONSEQUENTIAL DAMAGES (INCLUDING, BUT NOT LIMITED TO, PROCUREMENT OF SUBSTITUTE GOODS OR SERVICES; LOSS OF USE, DATA, OR PROFITS; OR BUSINESS INTERRUPTION) HOWEVER CAUSED AND ON ANY THEORY OF LIABILITY, WHETHER IN CONTRACT, STRICT LIABILITY, OR TORT (INCLUDING NEGLIGENCE OR OTHERWISE) ARISING IN ANY WAY OUT OF THE USE OF THIS SOFTWARE, EVEN IF ADVISED OF THE POSSIBILITY OF SUCH DAMAGE.\n",
        "```\n",
        "<details>\n",
        "\n"
      ]
    },
    {
      "cell_type": "markdown",
      "metadata": {
        "id": "yFxav8kxlzwe"
      },
      "source": [
        "# Learning Objectives\n",
        "\n",
        "Upon completion of this module, you will be able to:\n",
        "* Describe **what** is **Classification** and **when**/**why** to use **Machine Learning** for it.\n",
        "* Perform logistic regression\n",
        "* Understand and explain at an introductory level some of the writing on machine learning **ethics** and best practices."
      ]
    },
    {
      "cell_type": "markdown",
      "metadata": {},
      "source": [
        "## Other Resources\n",
        "Some relevant books (with available PDFs):\n",
        "* [Pattern Recognition and Machine Learning](https://www.microsoft.com/en-us/research/uploads/prod/2006/01/Bishop-Pattern-Recognition-and-Machine-Learning-2006.pdf), Christopher Bishop\n",
        "\n",
        "* [Probabilistic Machine Learning](https://probml.github.io/pml-book/book1.html), Kevin Patrick Murphy\n",
        "\n",
        "* [Data Modeling for the Sciences: Applications, Basics, Computations](https://www.amazon.com/Data-Modeling-Sciences-Applications-Computations/dp/1009098500/ref=sr_1_1?crid=3ACTTNI3IZ2SA&keywords=Steve+Presse+book&qid=1685627119&sprefix=steve+presse+boo%2Caps%2C317&sr=8-1), Steve Pressé and Ioannis Sgouralis."
      ]
    },
    {
      "cell_type": "markdown",
      "metadata": {},
      "source": [
        "Package imports"
      ]
    },
    {
      "cell_type": "code",
      "execution_count": null,
      "metadata": {},
      "outputs": [],
      "source": [
        "# New packages that we are going to use in this notebook.\n",
        "# Uncomment the following lines to install the packages.\n",
        "# %pip install torch\n",
        "# %pip install scikit-learn\n",
        "# %pip install tdqm\n",
        "import numpy as np\n",
        "from sklearn import datasets\n",
        "import matplotlib.pyplot as plt\n",
        "from sklearn.metrics import r2_score"
      ]
    },
    {
      "cell_type": "markdown",
      "metadata": {},
      "source": [
        "# 1. **Machine Learning Overview**\n",
        "\n",
        "*(This introduction is identical to the one for Regression - Feel Free to skip ahead)*\n",
        "\n",
        "In this notebook and lecture, we are going to look at some supervised machine learning basics. Let's start off with a definition:\n",
        "\n",
        "Machine learning (ML) is a class of mathematics and algorithms that learn an arbitrary model (denoted as $\\mathcal{M}$) from sample data (denoted as $\\bar{X}$) in order to make some predicitons or decisions (denoted as $\\bar{Y}$). ML models are usually found by minimizing a given loss function ($L$), which in many cases is related to maximizing some likelihood function. \n",
        "\n",
        "Sample data can be provided with or without explanatory labels, and the model to be learned is not explicitly programmed, hence the name \"Machine Learning.\" Broadly, ML falls under the umbrella of Artificial Intelligence, although that field has other disciplines besides ML. \n"
      ]
    },
    {
      "cell_type": "markdown",
      "metadata": {},
      "source": [
        "<p align=\"center\">  <img src=\"FiguresD/image.png\"> </p>\n",
        "\n",
        "In biomedical engineering, machine learning techniques are applied to analyze and interpret large datasets of biological and medical information, such as genetic data, medical images, or clinical records, to discover patterns, identify relationships, and assist in diagnosis, prognosis, and treatment planning.\n",
        "\n",
        "There are lots of different types of Machine Learning, each with its own strengths and limitations.  We will only cover a few in this course, but I hope that you will explore more on your own."
      ]
    },
    {
      "cell_type": "markdown",
      "metadata": {
        "id": "vUNyYKSUFZGY"
      },
      "source": [
        "## 1.A. **What are models, anyway?**"
      ]
    },
    {
      "cell_type": "markdown",
      "metadata": {
        "id": "8JcLV23ts4cQ"
      },
      "source": [
        "<p align=\"center\">   <img src=\"FiguresD/image1.png\"> </p>\n",
        "\n",
        "### 1.A.1. **The cannonical machine learning equation (X -> M -> Y)**\n",
        "\n",
        "In much of machine learning, we are faced with the challenge to  approximate some relationship:\n",
        "$$\\mathbf{X} \\rightarrow \\mathcal{M} \\rightarrow \\mathbf{Y}, $$\n",
        "but you might wonder, what are these quantities $\\mathbf{X}$, $\\mathcal{M}$, and $\\mathbf{Y}$?  That is a great question, because the real power of machine learning is that all three of these terms can mean a very large number of very different things for different problems, and yet the concepts and approaches to solve this problem can remain similar.  Let's define each in very general terms."
      ]
    },
    {
      "cell_type": "markdown",
      "metadata": {},
      "source": [
        "<p align=\"center\">   <img src=\"FiguresD/images.001.png\"> </p>"
      ]
    },
    {
      "cell_type": "markdown",
      "metadata": {},
      "source": [
        "\n",
        "### 1.A.2. **\"Input Features\" ($\\mathbf{X}$).**\n",
        "\n",
        "The matrix $\\bar{X}_i$ is your **input feature data**; this is a collection of data that you can obtain to quantify each particular $i^{\\rm th}$ sample, event or experiment. This can take many shapes, forms and sizes. One of the most common is an unordered vector of some arbitrary features. For example, one could imagine a classifier algorithm that takes inputs about a patient's currenty symptoms and demographics (perhaps we want to predict a probability that this patient has diabetes or another disease). That input data may be formatted as such:\n",
        "\n",
        "\\begin{equation}\n",
        "  \\bar{X} = [ \\text{Int : Age}, \\text{Int : Urinations per day},  \\text{Float : Liters drank per day}, \\text{Bool : Peripheral Numbness}]\n",
        "\\end{equation}\n",
        "\n",
        "An example entry for the $i^{\\rm th}$ patient may be:\n",
        "\\begin{equation}\n",
        "  \\bar{X}_i = [ 27, 6, 1.5, True ]\n",
        "\\end{equation}\n",
        "\n",
        "When we have data on a large number of different samples, we typically order these features into a matrix with one row for each sample:\n",
        "\n",
        "$$\\mathbf{X} =\\left[ \\begin{matrix} \\bar{X}_0 \\\\ \\bar{X}_1 \\\\ \\vdots \\\\ \\bar{X}_{N-1} \\end{matrix}\\right]$$\n",
        "\n",
        "Ordered datasets can come in many shapes ranging from something like text (1xN vector where sequence is important) to full 3D color movies (XYZ coordinates by Color channel by number of frames). All of these can be represented by an arbitrary tensor of the correct shape by number of entries in your dataset.\n",
        "\n",
        "\\begin{equation}\n",
        "  Shape(\\mathbf{X}) = Nsamples \\times Dim_1 \\times Dim_2 ... Dim_N\n",
        "\\end{equation}\n",
        "\n",
        "**The first step in any machine learning problem is always to look at the data**, so let's do that.\n",
        "\n",
        "#### Python example of input matrix for diabetes data set."
      ]
    },
    {
      "cell_type": "code",
      "execution_count": null,
      "metadata": {},
      "outputs": [],
      "source": [
        "# Example of some input feature data for the diabetes dataset.\n",
        "diabetes = datasets.load_diabetes()\n",
        "dataDiabetes = diabetes.data\n",
        "\n",
        "# Note the following features in the diabetes dataset:\n",
        "    # age - age in years\n",
        "    # sex - male or female\n",
        "    # bmi - body mass index\n",
        "    # bp - average blood pressure\n",
        "    # s1 - TC: total serum cholesterol\n",
        "    # s2 - LDL: low-density lipoproteins\n",
        "    # s3 - HDL: high-density lipoproteins\n",
        "    # s4 - TCH: total cholesterol / HDL\n",
        "    # s5 - LTG: possibly log of serum triglycerides level\n",
        "    # s6 - GLU: blood sugar level\n",
        "\n",
        "# Let's update the data labels to be more descriptive.\n",
        "diabetes.feature_names[4] = 'TC' # Total cholesterol\n",
        "diabetes.feature_names[5] = 'LDL' # Low-density lipoproteins\n",
        "diabetes.feature_names[6] = 'HDL' # High-density lipoproteins\n",
        "diabetes.feature_names[7] = 'TCH' # Total cholesterol / HDL\n",
        "diabetes.feature_names[8] = 'LTG' # Log of serum triglycerides level\n",
        "diabetes.feature_names[9] = 'GLU' # Blood sugar level\n",
        "\n",
        "print(f'The various features in the diabetes data base are: {diabetes.feature_names}')\n",
        "print(f'The shape of the input matrix is {dataDiabetes.shape}')\n",
        "\n",
        "# Let's plot the data to see how it looks like.\n",
        "# We are going to plot a matrix of scatter plots to see how the data looks like.\n",
        "# We are going to use the first 5 features in the diabetes dataset.\n",
        "fig, ax = plt.subplots(5, 5, figsize=(12, 12))\n",
        "for i in range(5):\n",
        "    for j in range(5):\n",
        "        if i==j:\n",
        "            ax[i, j].hist(dataDiabetes[:, i])\n",
        "        else:\n",
        "            ax[i, j].scatter(dataDiabetes[:, j], dataDiabetes[:, i])\n",
        "        if j==0:\n",
        "            ax[i, j].set_ylabel(diabetes.feature_names[i])\n",
        "        else:\n",
        "            ax[i, j].set_ylabel('')\n",
        "            ax[i, j].set_yticklabels([])\n",
        "        if i==4:\n",
        "            ax[i, j].set_xlabel(diabetes.feature_names[j])\n",
        "        else:\n",
        "            ax[i, j].set_xlabel('')\n",
        "            ax[i, j].set_xticklabels([])\n",
        "plt.show()\n",
        "# Note that the variables are all scaled somewhat arbitrarilly in this data set.\n",
        "# Some are discrete (e.g., sex), some are continuous (e.g., age)."
      ]
    },
    {
      "cell_type": "markdown",
      "metadata": {},
      "source": [
        "-----\n",
        "### **1.A.3. Target Labels ($\\mathbf{Y}$)**\n",
        "![alt text](figuresD/images.002.png)\n"
      ]
    },
    {
      "cell_type": "markdown",
      "metadata": {},
      "source": [
        "The vector or matrix $\\bar{Y}_i$ is your **target data** or **label data**; this is the end result or classification that you are trying to obtain or predict to describe the sample, event, or experiment. This can too take many shapes, forms, and sizes, and it might not even exist at all.\n",
        "\n",
        "If the above data has a corresponding label (e.g., a known fact such as a statement saying whether the entries in your data truly have diabetes), your dataset is said to be **labeled**, and you can use **Supervised** machine learning techniques. \n",
        "\n",
        "In other machine learning problems, $\\bar{Y}_i$ may not be specified. In this case, when your dataset has an absence of labels, then any approaches are said to be **Unsupervised.**\n",
        "\n",
        "For now, we will focus on supervised learning, and we will assume that $\\bar{Y}_i$ is known.  \n",
        "\n",
        "#### Python example of Target Vectors for Diabetes data set."
      ]
    },
    {
      "cell_type": "code",
      "execution_count": null,
      "metadata": {},
      "outputs": [],
      "source": [
        "# Load the target data from the diabetes dataset.\n",
        "# The target data is a quantitative measure of disease progression one year after baseline.\n",
        "targetDiabetesRegression = diabetes.target\n",
        "print(f'The shape of the target data is {targetDiabetesRegression.shape}')\n",
        "print(targetDiabetesRegression[0:5])\n",
        "\n",
        "# Let's also define a binary target variable for classification, where we \n",
        "# only need to classify the disease progression as high or low.\n",
        "targetDiabClass = np.zeros(targetDiabetesRegression.shape)\n",
        "targetDiabClass[targetDiabetesRegression > 140] = 1\n",
        "print(f'The shape of the target data is {targetDiabClass.shape}')\n",
        "print(targetDiabClass[0:5])\n",
        "\n",
        "# Let's make a pair of figures to show the histogram of the data\n",
        "# and a pie chart of the data classes\n",
        "fig, ax = plt.subplots(1, 2, figsize=(12, 6))\n",
        "ax[0].hist(targetDiabetesRegression)\n",
        "ax[0].set_title('Histogram of the diabetes target data')\n",
        "ax[1].pie([np.sum(targetDiabClass==0), np.sum(targetDiabClass==1)], labels=['Low', 'High'])\n",
        "ax[1].set_title('Pie chart of the diabetes target data')\n",
        "plt.show()\n",
        "\n",
        "# Note that the data is pretty balanced, so we don't need to worry about class imbalance."
      ]
    },
    {
      "cell_type": "code",
      "execution_count": null,
      "metadata": {},
      "outputs": [],
      "source": [
        "# Let's also replot our features against the target variable to see if we can see any patterns.\n",
        "# For this, we are going to make a 6 x 6 matrix of scatter plots, with the features in the first 5 rows\n",
        "# and the target variable in the last row.  We will also color the points according to the target variable.\n",
        "fig, ax = plt.subplots(6, 6, figsize=(12, 12))\n",
        "data_and_targets = np.hstack((dataDiabetes[:,:5], targetDiabetesRegression.reshape(-1, 1)))\n",
        "for i in range(6):\n",
        "    for j in range(6):\n",
        "        if i==j:\n",
        "            ax[i, j].hist(data_and_targets[:, i])\n",
        "        else:\n",
        "            ax[i, j].scatter(data_and_targets[:, j], data_and_targets[:, i], c=targetDiabClass)\n",
        "        if j==0:\n",
        "            if i==5:\n",
        "                ax[i, j].set_ylabel('Target')\n",
        "            else:\n",
        "                ax[i, j].set_ylabel(diabetes.feature_names[i])\n",
        "        else:\n",
        "            ax[i, j].set_ylabel('')\n",
        "            ax[i, j].set_yticklabels([])\n",
        "            if i==5:\n",
        "                ax[i, j].set_facecolor('#FFDDDD')\n",
        "        if i==5:\n",
        "            ax[i, j].set_facecolor('#FFDDDD')\n",
        "            if j==5:\n",
        "                ax[i, j].set_xlabel('Target')\n",
        "            else:\n",
        "                ax[i, j].set_xlabel(diabetes.feature_names[j])\n",
        "        else:\n",
        "            ax[i, j].set_xlabel('')\n",
        "            ax[i, j].set_xticklabels([])\n",
        "            if j==5:\n",
        "                ax[i, j].set_facecolor('#FFDDDD')\n",
        "\n",
        "# Can you see any patterns in the data?  What do you think would be the \n",
        "# best features to use for prediction?\n",
        "# How would you turn code this inot a callable function for later use?"
      ]
    },
    {
      "cell_type": "markdown",
      "metadata": {},
      "source": [
        "-----\n",
        "### **1.A.4. The Model ($\\mathcal{M}$)**\n",
        "![alt text](FiguresD/images.003.png)\n"
      ]
    },
    {
      "cell_type": "markdown",
      "metadata": {},
      "source": [
        "$\\mathcal{M}$ in our definition is any arbitrary set of mathematical or logical operations that takes $\\bar{X}_i$ as an input and then makes a guess for a corresponding $\\bar{Y}_i$. \n",
        "\n",
        "There are **tons** of different models and algorithms used for fitting data, and we will try a few over the next couple lessons, but this is **extremely** general, and statisticians and computer scientists are developing new models every day!\n",
        "\n",
        "## **1.B. Regression and Classification**\n",
        "The two most common machine learning modeling tasks are **Regression** and **Classification**.  The difference comes from what kinds of targets we are trying to predict. When targets ($\\bar{Y}$) are defined in advance and they take on continuous values (e.g., 2.345), we call this a **Regression** problem. Please see Notebook M3D to learn more about regression.  \n",
        "\n",
        "When the targets take on discrete values (e.g., \\{0,1,2\\} or \\{true,false\\}, or \\{cat, horse, dog\\}), we call this a **Classification** problem.  The rest of this notebook will focus on Classification.\n",
        "\n"
      ]
    },
    {
      "cell_type": "markdown",
      "metadata": {
        "id": "hWcFJ1jJvX16"
      },
      "source": [
        "---------------\n",
        "# **2. Classification Introduction**\n",
        "---------------\n",
        "Suppose that ${Y}$ is the target for our ML model (i.e, this is what we wish to learn a model to predict). If the set of possible labels $Y$ is the set of boolean labels (0,1), then we are setting up a model to solve a classification problem. For example, training a classifier to tell if a picture contains a cat or a dog, our dataset would look like $\\bar{X}$ of shape $[N, X, Y, RGB]$ and $Y$ our labels would be shape $[N]$ with labels 0 for a cat or 1 for a dog (or vice versa). \n",
        "\n",
        "Let $p(\\mathbf{x}) \\equiv p(1|\\mathbf{x})$ denote our model for the **probability** of predicting class $Y=1$ given our feature data $\\mathbf{x}$. Ideally, we would like this to be as close to one as possible for the correct label ($\\bar{Y}=1$) and as close to zero as possible for incorrect labels ($\\bar{Y}=0$)."
      ]
    },
    {
      "cell_type": "markdown",
      "metadata": {},
      "source": [
        "For a large number of samples, the probability that we would get a given classification task correct would be\n",
        "\n",
        "\\begin{equation}\n",
        "P(y_i \\text{ is correct}) = \\left\\{ \\begin{matrix} p(\\mathbf{x}_i) &\\text{if }y_i=1 \\\\ 1-p(\\mathbf{x}_i) &\\text{if }y_i=0 \\end{matrix}\\right.,\n",
        "\\end{equation}\n",
        "and the total **likelihood** that we would get all such pairs of features and targets ($\\mathbf{x}_i,y_i$) assuming that the model is correct would be:\n",
        "\\begin{equation}\n",
        "L = \\prod_{y_i=1} p(\\mathbf{x}_i)  \\prod_{y_i=0} (1-p(\\mathbf{x}_i)).\n",
        "\\end{equation}\n",
        "\n",
        "By taking the logarithm of this probability, we arrive at:\n",
        "\\begin{equation}\n",
        "\\log L = \\sum_{i=1}^N y_i \\log p(\\mathbf{x}_i) + (1-y_i)\\log (1-p(\\mathbf{x}_i)).\n",
        "\\end{equation}\n",
        "We would like to find an appopriate function $p(\\mathbf{x}_i)$ to maximize this probability, or equivalently minimize the negative average **binary cross entropy** (BCE), which is written:\n",
        "\\begin{equation}\n",
        "BCE = -\\log L = -\\frac{1}{N} \\sum_{i=1}^N \\left( y_i \\log(p(\\mathbf{x}_i)) + (1-y_i) \\log(1-p(\\mathbf{x}_i))\\right) \n",
        "\\end{equation}"
      ]
    },
    {
      "cell_type": "markdown",
      "metadata": {},
      "source": [
        "## **2.A. Maximizing the Binary Cross Entropy**\n",
        "\n",
        "In our study of regression in the last notebook, we already learned how to predict a real valued number from a set of features using the formula $z = \\mathbf{w}{x}$. It would be nice if we could re-use some of that effort.\n",
        "\n",
        "Unfortunately, we know that the function $p(\\mathbf{x})$ must return a probability, so its result must be a number between zero and one. To transform the problem into something that we already know how to do, we create a sigmoid function that maps all real valued numbers $z\\in (-inf, inf)$ to the set $p\\in(0,1)$ according to:\n",
        "\n",
        "$$ p(z) = \\frac{1}{1+\\exp(-z)} $$ \n",
        "\n",
        "In this formulation, the real number $z$ is often known as the \"logit\".  Here is a plot of what it looks like."
      ]
    },
    {
      "cell_type": "markdown",
      "metadata": {},
      "source": [
        "![alt text](FiguresD/images.011.png)"
      ]
    },
    {
      "cell_type": "markdown",
      "metadata": {},
      "source": [
        "With this transformation, we can now compute our **Loss Function**, $\\mathcal{L} = BCE$ in terms of $z(\\mathbf{x}) = \\mathbf{w}\\mathbf{x}$ as:\n",
        "\n",
        "\\begin{equation}\n",
        "\\mathcal{L} =  -\\frac{1}{N} \\sum_{i=1}^N \\left( y_i \\log\\left(\\frac{1}{1+\\exp(-\\mathbf{wx_i})}\\right) + (1-y_i) \\log\\left(\\frac{\\exp(-\\mathbf{wx_i})}{1+\\exp(-\\mathbf{wx_i})}\\right)\\right)\n",
        "\\end{equation}\n",
        "\n",
        "Let's try this out in python:"
      ]
    },
    {
      "cell_type": "markdown",
      "metadata": {},
      "source": [
        "## **2.B. Training, Validation and Testing**\n",
        "\n",
        "![alt text](FiguresD/images.013.png)"
      ]
    },
    {
      "cell_type": "markdown",
      "metadata": {},
      "source": [
        "### Python Example for Classification using Logistic Regression"
      ]
    },
    {
      "cell_type": "code",
      "execution_count": null,
      "metadata": {},
      "outputs": [],
      "source": [
        "# First, we will get our data and target data from the diabetes dataset.\n",
        "# This code is copied from our previous regression notebook, except that we will\n",
        "# now use the binary target variable for classification.\n",
        "\n",
        "# Compute the number of features and number of data points.\n",
        "numSamples, numFeatures = dataDiabetes.shape\n",
        "\n",
        "# Let's start by splitting the data into a TRAINING and TESTING set.\n",
        "# We will use 80% of the data for training and 20% for validation.\n",
        "# Partition the data into training and test sets, using random selection.\n",
        "np.random.seed(0)\n",
        "indices = np.random.permutation(numSamples)\n",
        "splitIndex = int(numSamples*0.8)\n",
        "training_inds, test_inds = indices[:splitIndex], indices[splitIndex:]\n",
        "trainingData, testData = dataDiabetes[training_inds,:], dataDiabetes[test_inds,:]\n",
        "trainingTarget, testTarget = targetDiabClass[training_inds], targetDiabClass[test_inds]\n",
        "\n",
        "# Now, let's find the weights according to our derived expression\n",
        "weights = np.linalg.inv(trainingData.T @ trainingData) @ trainingData.T @ trainingTarget"
      ]
    },
    {
      "cell_type": "code",
      "execution_count": null,
      "metadata": {},
      "outputs": [],
      "source": [
        "# Let's plot the weights to see which features are most important.  \n",
        "# Plot positive weights in blue and negative weights in red.\n",
        "fig, ax = plt.subplots(1, 1, figsize=(12, 6))\n",
        "ax.bar(np.arange(numFeatures), abs(weights), color=['blue' if w > 0 else 'red' for w in weights])\n",
        "ax.set_xticks(np.arange(numFeatures))\n",
        "ax.set_xticklabels(diabetes.feature_names)\n",
        "ax.set_title('Weights of the features in the diabetes dataset (blue=positive, red=negative)')\n",
        "plt.show()"
      ]
    },
    {
      "cell_type": "code",
      "execution_count": null,
      "metadata": {},
      "outputs": [],
      "source": [
        "# Let's also plot the results to see how well we did.\n",
        "# We will plot the prediction on the horizontal axis and the true target on the vertical axis.\n",
        "# for better visualization we will add a little random noise to the true target values.\n",
        "# We will also color the points according to the true target value.\n",
        "predictedTarget = testData @ weights\n",
        "fig, ax = plt.subplots(1, 1, figsize=(6, 6))\n",
        "ax.scatter(predictedTarget, testTarget + np.random.normal(0, 0.1, testTarget.shape), c=testTarget)\n",
        "# Add vertical line at 0.5 to show the decision boundary.\n",
        "ax.axvline(0.5, color='black', linestyle='--')\n",
        "# Add horizontal line at 0.5 to show the decision boundary.\n",
        "ax.axhline(0.5, color='black', linestyle='--')\n",
        "\n",
        "ax.set_xlabel('Predicted target')\n",
        "ax.set_ylabel('True target')\n",
        "ax.set_title('Predicted vs. true target values')\n",
        "plt.show()"
      ]
    },
    {
      "cell_type": "markdown",
      "metadata": {},
      "source": [
        "Yuck, that doesn't look very good.  Let's try to do better by adding a bias term and using logistic regression."
      ]
    },
    {
      "cell_type": "code",
      "execution_count": null,
      "metadata": {},
      "outputs": [],
      "source": [
        "# Next we will add the bias term to our training and testing data \n",
        "X_biasTrain = np.hstack((np.ones((trainingData.shape[0], 1)), trainingData))\n",
        "X_biasTest = np.hstack((np.ones((testData.shape[0], 1)), testData))"
      ]
    },
    {
      "cell_type": "code",
      "execution_count": null,
      "metadata": {},
      "outputs": [],
      "source": [
        "# Logistic regression\n",
        "# Here we are going to demonstrate logistic regression on the diabetes data set.\n",
        "# We will use the binary target variable for classification, where we\n",
        "# only need to classify the disease progression as high or low.\n",
        "\n",
        "# First, let's define the sigmoid function that maps from the real numbers (-inf,inf) to the interval [0,1].\n",
        "# This is necessary to map the output of the linear regression to a probability.\n",
        "def sigmoid(x):\n",
        "    return 1 / (1 + np.exp(-x))\n",
        "\n",
        "# Let's plot the sigmoid function to see how it looks like.\n",
        "x = np.linspace(-10, 10, 100)\n",
        "p = sigmoid(x)\n",
        "fig, ax = plt.subplots(1, 1, figsize=(3, 3))\n",
        "ax.plot(x, p)\n",
        "ax.set_title('Sigmoid function p(x)')\n",
        "ax.set_xlabel('\"logit\" predicted from Regression')\n",
        "ax.set_ylabel('Probability of State 1')\n",
        "plt.show()"
      ]
    },
    {
      "cell_type": "code",
      "execution_count": null,
      "metadata": {},
      "outputs": [],
      "source": [
        "# Now, let's define the loss function for logistic regression. This is the cross-entropy loss function,\n",
        "# which is a measure of how well the predicted probabilities match the true labels (i.e., the likelihood \n",
        "# of the data given the model parameters)\n",
        "def logistic_loss(weights, X, y, lam):\n",
        "    # Compute the predicted probabilities using the sigmoid function.\n",
        "    probs = sigmoid(X @ weights)\n",
        "    # Compute the loss using the cross-entropy loss function.\n",
        "    loss = -np.mean(y * np.log(probs) + (1 - y) * np.log(1 - probs)) + lam * np.sum(weights**2)\n",
        "    return loss"
      ]
    },
    {
      "cell_type": "code",
      "execution_count": null,
      "metadata": {},
      "outputs": [],
      "source": [
        "# Now, let's define the GRADIENT of the loss function for logistic regression. This\n",
        "# is the derivative of the loss function with respect to the weights, which is used to\n",
        "# update the weights using gradient descent maximization of the likelihood of the data.\n",
        "def logistic_gradient(weights, X, y, lam):\n",
        "    # Compute the predicted probabilities using the sigmoid function.\n",
        "    probs = sigmoid(X @ weights)\n",
        "    # Compute the gradient of the loss function with respect to the weights.\n",
        "    grad = X.T @ (probs - y) / X.shape[0] + 2 * lam * weights\n",
        "    return grad"
      ]
    },
    {
      "cell_type": "code",
      "execution_count": null,
      "metadata": {},
      "outputs": [],
      "source": [
        "# Now, let's define a function to perform GRADIENT DESCENT for logistic regression. This\n",
        "# function will take the input data, target data, regularization parameter, learning rate, and\n",
        "# number of iterations as input, and return the weights and the loss at each iteration.\n",
        "def gradient_descent_logistic(X, y, lam, learning_rate, num_iters, save_losses=False):\n",
        "    # Initialize the weights to zero.\n",
        "    weights = np.zeros(X.shape[1])\n",
        "    # Create a list to store the loss at each iteration.\n",
        "    losses = []\n",
        "    # Perform gradient descent for a given number of iterations.\n",
        "    for i in range(num_iters):\n",
        "        # Compute the loss and gradient.\n",
        "        loss = logistic_loss(weights, X, y, lam)\n",
        "        grad = logistic_gradient(weights, X, y, lam)\n",
        "        # Update the weights using the gradient and the learning rate.\n",
        "        weights -= learning_rate * grad\n",
        "        # Store the loss if the function is called with the save_losses argument.\n",
        "        if save_losses:           \n",
        "            losses.append(loss)\n",
        "    return weights, losses"
      ]
    },
    {
      "cell_type": "code",
      "execution_count": null,
      "metadata": {},
      "outputs": [],
      "source": [
        "# Now, let's perform gradient descent to find the weights for logistic regression, and \n",
        "# plot the test accuracy as a funtion of the regularization parameter.\n",
        "learning_rate = 0.1\n",
        "num_iters = 5000\n",
        "all_accuracy = []\n",
        "\n",
        "# Let's run our code for a given choice of lambda\n",
        "lamb = 0.01\n",
        "weights, losses = gradient_descent_logistic(X_biasTrain, targetDiabClass[training_inds], lamb, \n",
        "                                            learning_rate, num_iters, save_losses=True)\n",
        "\n",
        "# Now, let's plot the loss as a function of the number of iterations to check for convergence.\n",
        "f,ax = plt.subplots()\n",
        "ax.plot(losses)\n",
        "ax.set_xlabel('iteration')\n",
        "ax.set_ylabel('loss')\n",
        "ax.set_title('Loss as a function of the number of iterations')\n",
        "plt.show()"
      ]
    },
    {
      "cell_type": "code",
      "execution_count": null,
      "metadata": {},
      "outputs": [],
      "source": [
        "# Let's plot the weights to see which features are most important.\n",
        "fig, ax = plt.subplots(1, 1, figsize=(12, 6))\n",
        "ax.bar(np.arange(numFeatures+1), abs(weights), color=['blue' if w > 0 else 'red' for w in weights])\n",
        "ax.set_xticks(np.arange(numFeatures+1))\n",
        "ax.set_xticklabels(['bias'] + diabetes.feature_names)\n",
        "ax.set_title('Weights of the features in the diabetes dataset (blue=positive, red=negative)')\n",
        "plt.show()"
      ]
    },
    {
      "cell_type": "code",
      "execution_count": null,
      "metadata": {},
      "outputs": [],
      "source": [
        "# Let's also plot the results to see how well we did.\n",
        "# We will plot the prediction on the horizontal axis and the true target on the vertical axis.\n",
        "# for better visualization we will add a little random noise to the true target values.\n",
        "# We will also color the points according to the true target value.\n",
        "predictedTarget = sigmoid(X_biasTest @ weights)\n",
        "fig, ax = plt.subplots(1, 1, figsize=(6, 6))\n",
        "ax.scatter(predictedTarget, testTarget + np.random.normal(0, 0.1, testTarget.shape), c=testTarget)\n",
        "# Add vertical line at 0.5 to show the decision boundary.\n",
        "ax.axvline(0.5, color='black', linestyle='--')\n",
        "# Add horizontal line at 0.5 to show the decision boundary.\n",
        "ax.axhline(0.5, color='black', linestyle='--')\n",
        "\n",
        "ax.set_xlabel('Predicted probability of target = 1')\n",
        "ax.set_ylabel('True target')\n",
        "ax.set_title('Predicted vs. true target values')\n",
        "plt.show()"
      ]
    },
    {
      "cell_type": "code",
      "execution_count": null,
      "metadata": {},
      "outputs": [],
      "source": [
        "# Now let's try again for many different values of lambda\n",
        "# Please note -- we SHOULD split the data into training and validation sets to do this properly.\n",
        "\n",
        "lambs = np.logspace(-4,-1,50)\n",
        "all_accuracy = []\n",
        "for lamb in lambs:\n",
        "    weights = gradient_descent_logistic(X_biasTrain, targetDiabClass[training_inds], lamb, \n",
        "                                        learning_rate, num_iters)[0]\n",
        "\n",
        "    # Now, let's use the weights to predict the target data.\n",
        "    predTargetCustom = sigmoid(X_biasTest @ weights)\n",
        "\n",
        "    # Now, let's make a classification decision based on the predicted probabilities.\n",
        "    predTargetCustom = predTargetCustom >= 0.5\n",
        "\n",
        "    # Let's compute the accuracy of the classification.\n",
        "    all_accuracy.append(np.mean(predTargetCustom == targetDiabClass[test_inds]))"
      ]
    },
    {
      "cell_type": "code",
      "execution_count": null,
      "metadata": {},
      "outputs": [],
      "source": [
        "# Now, let's plot the accuracy as a function of the regularization parameter.\n",
        "f,ax = plt.subplots(figsize=(4,3))\n",
        "ax.plot(lambs, all_accuracy)\n",
        "# add a star to the plot denoting the best lambda\n",
        "ax.plot(lambs[np.argmax(all_accuracy)], np.max(all_accuracy), 'r*', markersize=10)\n",
        "ax.set_xlabel('lambda'); ax.set_ylabel('accuracy')\n",
        "ax.set_xscale('log')\n",
        "ax.set_title('Accuracy as a function of lambda')\n",
        "plt.show()\n",
        "\n",
        "# Let's find the best lambda\n",
        "best_lambda = lambs[np.argmax(all_accuracy)]\n",
        "print(f'The best lambda is {best_lambda}')"
      ]
    },
    {
      "cell_type": "code",
      "execution_count": null,
      "metadata": {},
      "outputs": [],
      "source": [
        "# Now, let's use the best lambda to find the weights for logistic regression.\n",
        "weights = gradient_descent_logistic(X_biasTrain, targetDiabClass[training_inds], best_lambda, learning_rate, num_iters)[0]\n",
        "\n",
        "# Now, let's use the weights to predict the target data.\n",
        "predProbTargetCustom = sigmoid(X_biasTest @ weights)\n",
        "predTargetCustom = predProbTargetCustom >= 0.5"
      ]
    },
    {
      "cell_type": "code",
      "execution_count": null,
      "metadata": {},
      "outputs": [],
      "source": [
        "# Let's plot the weights again to see which features are most important.\n",
        "fig, ax = plt.subplots(1, 1, figsize=(12, 6))\n",
        "ax.bar(np.arange(numFeatures+1), abs(weights), color=['blue' if w > 0 else 'red' for w in weights])\n",
        "ax.set_xticks(np.arange(numFeatures+1))\n",
        "ax.set_xticklabels(['bias'] + diabetes.feature_names)\n",
        "ax.set_title('Weights of the features in the diabetes dataset (blue=positive, red=negative)')\n",
        "plt.show()\n"
      ]
    },
    {
      "cell_type": "code",
      "execution_count": null,
      "metadata": {},
      "outputs": [],
      "source": [
        "# Let's also plot the results to see how well we did.\n",
        "# We will plot the prediction on the horizontal axis and the true target on the vertical axis.\n",
        "# for better visualization we will add a little random noise to the true target values.\n",
        "# We will also color the points according to the true target value.\n",
        "fig, ax = plt.subplots(1, 1, figsize=(6, 6))\n",
        "ax.scatter(predProbTargetCustom, testTarget + np.random.normal(0, 0.1, testTarget.shape), c=testTarget)\n",
        "# Add vertical line at 0.5 to show the decision boundary.\n",
        "ax.axvline(0.5, color='black', linestyle='--')\n",
        "# Add horizontal line at 0.5 to show the decision boundary.\n",
        "ax.axhline(0.5, color='black', linestyle='--')\n",
        "\n",
        "ax.set_xlabel('Predicted probability of target = 1')\n",
        "ax.set_ylabel('True target')\n",
        "ax.set_title('Predicted vs. true target values')\n",
        "plt.show()"
      ]
    },
    {
      "cell_type": "markdown",
      "metadata": {},
      "source": [
        "## 2.C. **Quantifying the Performance of a Classifier**\n",
        "\n",
        "So, how did we do?  And how can we **quantify** how well we did?\n",
        "\n",
        "### **2.C.1. Accuracy, Precision, Recall, and F1 Score**\n",
        "\n",
        "![alt text](FiguresD/images.016.png)"
      ]
    },
    {
      "cell_type": "code",
      "execution_count": null,
      "metadata": {},
      "outputs": [],
      "source": [
        "\n",
        "# Let's compute the accuracy of the classification.\n",
        "accuracyCustom = np.mean(predTargetCustom == targetDiabClass[test_inds])\n",
        "print(f'The accuracy of our optimized custom classifier is {accuracyCustom}')\n",
        "\n",
        "# Compute precision, recall, and F1 score\n",
        "from sklearn.metrics import precision_recall_fscore_support\n",
        "precision, recall, f1, _ = precision_recall_fscore_support(targetDiabClass[test_inds], predTargetCustom)\n",
        "print(f'The precision of our optimized custom classifier is {precision[1]}')\n",
        "print(f'The recall of our optimized custom classifier is {recall[1]}')\n",
        "print(f'The F1 score of our optimized custom classifier is {f1[1]}')"
      ]
    },
    {
      "cell_type": "code",
      "execution_count": null,
      "metadata": {},
      "outputs": [],
      "source": [
        "# Now, let's use the built-in logistic regression function from scikit-learn.\n",
        "from sklearn.linear_model import LogisticRegression\n",
        "logisticRegr = LogisticRegression(penalty='l2', C=1/best_lambda, max_iter=num_iters, solver='saga')\n",
        "logisticRegr.fit(X_biasTrain, targetDiabClass[training_inds])\n",
        "predProbTargetBuiltIn = logisticRegr.predict_proba(X_biasTest)[:,1]\n",
        "predTargetBuiltIn = logisticRegr.predict(X_biasTest)\n",
        "\n",
        "# Let's compute the accuracy of the classification.\n",
        "accuracyBuiltIn = np.mean(predTargetBuiltIn == targetDiabClass[test_inds])\n",
        "print(f'The accuracy of the built-in classifier is {accuracyBuiltIn}')\n",
        "\n",
        "# Compute precision, recall, and F1 score\n",
        "precision, recall, f1, _ = precision_recall_fscore_support(targetDiabClass[test_inds], predTargetBuiltIn)\n",
        "print(f'The precision of the built-in classifier is {precision[1]}')\n",
        "print(f'The recall of the built-in classifier is {recall[1]}')\n",
        "print(f'The F1 score of the built-in classifier is {f1[1]}')"
      ]
    },
    {
      "cell_type": "code",
      "execution_count": null,
      "metadata": {},
      "outputs": [],
      "source": [
        "# Let's compare the probabilities predicted by our custom classifier and the built-in classifier.\n",
        "probsCustom = sigmoid(X_biasTest @ weights)\n",
        "probsBuiltIn = logisticRegr.predict_proba(X_biasTest)[:,1]\n",
        "\n",
        "f,ax = plt.subplots(figsize=(4,3))\n",
        "# Plot the predicted probabilities.  Use red for the true high values and blue for the true low values.\n",
        "ax.scatter(predProbTargetCustom[targetDiabClass[test_inds]==1], predProbTargetBuiltIn[targetDiabClass[test_inds]==1], color='r', label='true high')\n",
        "ax.scatter(predProbTargetCustom[targetDiabClass[test_inds]==0], predProbTargetBuiltIn[targetDiabClass[test_inds]==0], color='b', label='true low')\n",
        "ax.set_xlabel('custom classifier'); ax.set_ylabel('built-in classifier')\n",
        "ax.set_title('Predicted probabilities')\n",
        "#Put lines at 0.5 on both axes\n",
        "ax.axvline(0.5, color='k', linestyle='--')\n",
        "ax.axhline(0.5, color='k', linestyle='--')\n",
        "ax.legend()\n",
        "plt.show()"
      ]
    },
    {
      "cell_type": "markdown",
      "metadata": {
        "id": "TLiwgH_HnErM"
      },
      "source": [
        "![alt text](FiguresD/images.017.png)\n",
        "### **2.C.2 Confusion Matrix**"
      ]
    },
    {
      "cell_type": "markdown",
      "metadata": {
        "id": "61cSTAlJtx4R"
      },
      "source": [
        "Balanced Accuracy vs. Unbalanced Metrics\n",
        "\n",
        "While a balanced accuracy in general is a good call, specific applications may call for different so-called unbalanced metrics. Consider the following scenario:\n",
        "\n",
        "\n",
        "> You are designing an antigen test for a disease like Sars-Cov-2. Would you rather have a balanced false positive and false negative rate? Or would you rather emphasize minimizing as many false negatives as possible? The consequences for a false positive are a person quarantines for some period of time or takes subsequent tests, whereas the consequences for a false negative is a person with an infectious disease not quarantining.\n",
        "\n",
        "The reverse situation may also happen:\n",
        "\n",
        "> Imagine a diagnostic test where the treatment from a positive diagnostic is intensive or dangerous. One would want to minimize the false positive rate as much as possible to avoid unnecessary treatments to healthy people.\n"
      ]
    },
    {
      "cell_type": "code",
      "execution_count": null,
      "metadata": {},
      "outputs": [],
      "source": [
        "# Let's make confusion matrices for our custom classifier and the built-in classifier.\n",
        "from sklearn.metrics import confusion_matrix\n",
        "confusionCustom = confusion_matrix(targetDiabClass[test_inds],\n",
        "                                      predTargetCustom)\n",
        "confusionBuiltIn = confusion_matrix(targetDiabClass[test_inds],\n",
        "                                        predTargetBuiltIn)\n",
        "\n",
        "f,ax = plt.subplots(1,2,figsize=(6,3))\n",
        "# Plot the confusion matrices.\n",
        "ax[0].imshow(confusionCustom, cmap='Blues', interpolation='nearest')\n",
        "ax[0].set_title('Custom classifier, acc = %.2f' % accuracyCustom)\n",
        "ax[0].set_xlabel('predicted label')\n",
        "ax[0].set_ylabel('true label')\n",
        "ax[0].set_xticks([0,1]); ax[0].set_yticks([0,1])\n",
        "ax[0].set_xticklabels(['low','high']); ax[0].set_yticklabels(['low','high'])\n",
        "# add numbers to the plot\n",
        "for i in range(2):\n",
        "    for j in range(2):\n",
        "        ax[0].text(j, i, confusionCustom[i, j], ha='center', va='center', color='r')\n",
        "\n",
        "ax[1].imshow(confusionBuiltIn, cmap='Blues', interpolation='nearest')\n",
        "ax[1].set_title('Built-in classifier, acc = %.2f' % accuracyBuiltIn)\n",
        "ax[1].set_xlabel('predicted label')\n",
        "ax[1].set_xticks([0,1]); ax[1].set_yticks([0,1])\n",
        "ax[1].set_xticklabels(['low','high']); ax[1].set_yticklabels(['',''])\n",
        "for i in range(2):\n",
        "    for j in range(2):\n",
        "        ax[1].text(j, i, confusionBuiltIn[i, j], ha='center', va='center', color='r')\n",
        "plt.show()\n",
        "                            "
      ]
    },
    {
      "cell_type": "markdown",
      "metadata": {},
      "source": [
        "### **2.C.3. Other Metrics**\n",
        "![alt text](FiguresD/images.018.png)"
      ]
    },
    {
      "cell_type": "markdown",
      "metadata": {
        "id": "Pe3g9YjMm-ZV"
      },
      "source": [
        "#### **Receiver Operator Characteristic (ROC curve)**\n",
        "\n",
        "Receiver Operator Characteristic Curves are constructed by plotting True Positive rate (TP / Total P) vs. False Positive Rate (FP / Total P).\n",
        "\n",
        "An ROC is constructed by setting a stricter and stricter threshold for what is considered a positive label, starting from > 0.5 to > 0.999."
      ]
    },
    {
      "cell_type": "code",
      "execution_count": null,
      "metadata": {},
      "outputs": [],
      "source": [
        "# Draw the ROC curve for our custom classifier and the built-in classifier.\n",
        "from sklearn.metrics import roc_curve, auc\n",
        "f,ax = plt.subplots(figsize=(4,3))\n",
        "# Compute the ROC curve for our custom classifier.\n",
        "fpr, tpr, thresholds = roc_curve(targetDiabClass[test_inds], probsCustom)\n",
        "roc_auc = auc(fpr, tpr)\n",
        "ax.plot(fpr, tpr, lw=1, label='custom classifier (area = %0.2f)' % (roc_auc))\n",
        "# Compute the ROC curve for the built-in classifier.\n",
        "fpr, tpr, thresholds = roc_curve(targetDiabClass[test_inds], probsBuiltIn)\n",
        "roc_auc = auc(fpr, tpr)\n",
        "ax.plot(fpr, tpr, lw=1, label='built-in classifier (area = %0.2f)' % (roc_auc))\n",
        "# Plot a diagonal line to represent random guessing.\n",
        "ax.plot([0, 1], [0, 1], '--', color=(0.6, 0.6, 0.6))\n",
        "ax.set_xlim([0, 1])\n",
        "ax.set_ylim([0, 1])\n",
        "ax.set_xlabel('False Positive Rate')\n",
        "ax.set_ylabel('True Positive Rate')\n",
        "ax.set_title('Receiver Operating Characteristic')\n",
        "ax.legend()\n",
        "plt.show()"
      ]
    },
    {
      "cell_type": "markdown",
      "metadata": {},
      "source": [
        "# **4. Machine Learning Classifiers**\n",
        "\n",
        "## **4.A. Using PyTorch Logistic Regression**"
      ]
    },
    {
      "cell_type": "code",
      "execution_count": null,
      "metadata": {},
      "outputs": [],
      "source": [
        "# Now let's build a more modern classifier using PyTorch\n",
        "import torch\n",
        "import torch.nn as nn\n",
        "import torch.optim as optim\n",
        "from torch.utils.data import DataLoader, TensorDataset\n",
        "from tqdm import tqdm\n",
        "\n",
        "# Reshape the target data to be a n_samples x 1 matrix. This is required by PyTorch.\n",
        "# trainingTarget = targetDiabClass[training_inds].reshape(-1, 1)\n",
        "# testTarget = targetDiabClass[test_inds].reshape(-1, 1)\n",
        "trainingTarget = targetDiabClass[training_inds].flatten()\n",
        "testTarget = targetDiabClass[test_inds].flatten()\n",
        "\n",
        "# First, let's convert our data to PyTorch tensors.\n",
        "X_train = torch.tensor(X_biasTrain, dtype=torch.float32)\n",
        "y_train = torch.tensor(trainingTarget, dtype=torch.float32)\n",
        "X_test = torch.tensor(X_biasTest, dtype=torch.float32)\n",
        "y_test = torch.tensor(testTarget, dtype=torch.float32)"
      ]
    },
    {
      "cell_type": "code",
      "execution_count": null,
      "metadata": {},
      "outputs": [],
      "source": [
        "# Now, let's define a simple neural network model for logistic regression.\n",
        "class LogisticRegressionModel(nn.Module):\n",
        "    def __init__(self, input_dim):\n",
        "        super(LogisticRegressionModel, self).__init__()\n",
        "        self.linear = nn.Linear(input_dim, 1)\n",
        "    def forward(self, x):\n",
        "        return torch.sigmoid(self.linear(x))"
      ]
    },
    {
      "cell_type": "code",
      "execution_count": null,
      "metadata": {},
      "outputs": [],
      "source": [
        "# Now, let's define a function to train the model using gradient descent.\n",
        "def train_model(model, X, y, lam, learning_rate, num_iters):\n",
        "    # Define the loss function and optimizer.\n",
        "    criterion = nn.BCELoss()\n",
        "    optimizer = optim.SGD(model.parameters(), lr=learning_rate, weight_decay=lam)\n",
        "    # Train the model for a given number of iterations.\n",
        "    for i in range(num_iters):\n",
        "        # Forward pass: Compute predicted y by passing x to the model.\n",
        "        y_pred = model(X).squeeze()\n",
        "        # Compute the loss.\n",
        "        loss = criterion(y_pred, y)\n",
        "        # Zero gradients, perform a backward pass, and update the weights.\n",
        "        optimizer.zero_grad()\n",
        "        loss.backward()\n",
        "        optimizer.step()\n",
        "    return model"
      ]
    },
    {
      "cell_type": "code",
      "execution_count": null,
      "metadata": {},
      "outputs": [],
      "source": [
        "# Now, let's train the model using the training data.\n",
        "input_dim = X_train.shape[1]\n",
        "model = LogisticRegressionModel(input_dim)"
      ]
    },
    {
      "cell_type": "code",
      "execution_count": null,
      "metadata": {},
      "outputs": [],
      "source": [
        "model = train_model(model, X_train, y_train, best_lambda, learning_rate, num_iters)\n",
        "\n",
        "# Now, let's use the trained model to predict the target data.\n",
        "predProbsTargetPytorchLR = model(X_test).squeeze()\n",
        "predTargetPytorchLR = predProbsTargetPytorchLR >= 0.5\n",
        "\n",
        "# Let's compute the accuracy of the classification.\n",
        "accuracyPytorchLR = torch.mean((predTargetPytorchLR == y_test).float())\n",
        "print(f'The accuracy of our PyTorch logistic regression classifier is {accuracyPytorchLR}')\n",
        "\n",
        "# Compute precision, recall, and F1 score\n",
        "precision, recall, f1, _ = precision_recall_fscore_support(y_test, predTargetPytorchLR)\n",
        "print(f'The precision of our PyTorch logistic regression classifier is {precision[1]}')\n",
        "print(f'The recall of our PyTorch logistic regression classifier is {recall[1]}')\n",
        "print(f'The F1 score of our PyTorch logistic regression classifier is {f1[1]}')"
      ]
    },
    {
      "cell_type": "code",
      "execution_count": null,
      "metadata": {},
      "outputs": [],
      "source": [
        "# Lets add a confusion matrix and compare the results with the previous classifiers\n",
        "confusionPyTorch = confusion_matrix(y_test, predTargetPytorchLR)\n",
        "\n",
        "f,ax = plt.subplots(1,3,figsize=(9,3))\n",
        "for i, model in enumerate([confusionCustom, confusionBuiltIn, confusionPyTorch]):\n",
        "    ax[i].imshow(model, cmap='Blues', interpolation='nearest')\n",
        "    ax[i].set_xlabel('predicted label')\n",
        "    ax[i].set_xticks([0,1]); ax[i].set_yticks([0,1])\n",
        "    ax[i].set_xticklabels(['low','high']); ax[i].set_yticklabels(['',''])\n",
        "    for j in range(2):\n",
        "        for k in range(2):\n",
        "            ax[i].text(k, j, model[j, k], ha='center', va='center', color='r')\n",
        "ax[0].set_title('Custom' + f' (acc = {accuracyCustom:.2f})')\n",
        "ax[1].set_title('Built-in' + f' (acc = {accuracyBuiltIn:.2f})')\n",
        "ax[2].set_title('PyTorch' + f' (acc = {accuracyPytorchLR:.2f})')"
      ]
    },
    {
      "cell_type": "markdown",
      "metadata": {},
      "source": [
        "## 4.B. **Using PyTorch Neural Networks**"
      ]
    },
    {
      "cell_type": "code",
      "execution_count": null,
      "metadata": {},
      "outputs": [],
      "source": [
        "# Now, let's try a more complex model, with a couple of hidden layers.\n",
        "input_size = X_biasTrain.shape[1]\n",
        "hidden_size = [10, 5]\n",
        "output_size = 1\n",
        "\n",
        "class NeuralNet(nn.Module):\n",
        "    def __init__(self, input_size, hidden_size, output_size):\n",
        "        super(NeuralNet, self).__init__()\n",
        "        self.layer1 = nn.Linear(input_size, hidden_size[0])\n",
        "        self.layer2 = nn.Linear(hidden_size[0], hidden_size[1])\n",
        "        self.layer3 = nn.Linear(hidden_size[1], output_size)\n",
        "        self.layerSkip = nn.Linear(input_size, 1)\n",
        "        self.relu = nn.ReLU()\n",
        "        self.lrelu = nn.LeakyReLU()\n",
        "        self.sigmoid = nn.Sigmoid()\n",
        "    def forward(self, x):\n",
        "        # out = self.layerSkip(x)\n",
        "        out = self.layer1(x)\n",
        "        # out = self.lrelu(out)\n",
        "        out = self.layer2(out)\n",
        "        # out = self.lrelu(out)\n",
        "        out = self.layer3(out)\n",
        "        out = torch.sigmoid(out)\n",
        "        return out\n",
        "    \n",
        "# trainingTarget = targetDiabClass[training_inds].flatten()\n",
        "# testTarget = targetDiabClass[test_inds].flatten()\n",
        "# # First, let's convert our data to PyTorch tensors.\n",
        "# X_train = torch.tensor(X_biasTrain, dtype=torch.float32)\n",
        "# y_train = torch.tensor(trainingTarget, dtype=torch.float32)\n",
        "# X_test = torch.tensor(X_biasTest, dtype=torch.float32)\n",
        "# y_test = torch.tensor(testTarget, dtype=torch.float32)\n",
        "\n",
        "# print(X_train.shape, y_train.shape, X_test.shape, y_test.shape)"
      ]
    },
    {
      "cell_type": "code",
      "execution_count": null,
      "metadata": {},
      "outputs": [],
      "source": [
        "# Now, let's load the training data into our model and set up our objectives.\n",
        "input_dim = X_train.shape[1]\n",
        "modelComplex = NeuralNet(input_size, hidden_size, output_size)\n",
        "\n",
        "criterionComplex = nn.BCELoss()\n",
        "optimizerComplex = optim.SGD(modelComplex.parameters(), lr=0.001, weight_decay=0.001)\n",
        "\n",
        "trainData = TensorDataset(X_train, y_train)\n",
        "trainLoader = DataLoader(trainData, batch_size=10, shuffle=True)"
      ]
    },
    {
      "cell_type": "code",
      "execution_count": null,
      "metadata": {},
      "outputs": [],
      "source": [
        "# Train the model for a given number of iterations.\n",
        "epochs = 1000\n",
        "losses = []\n",
        "for epoch in tqdm(range(epochs)):\n",
        "    for X_batch, y_batch in trainLoader:\n",
        "        # Forward pass: Compute predicted y by passing x to the model.\n",
        "        y_pred = modelComplex(X_batch).squeeze()\n",
        "        # Compute the loss.\n",
        "        loss = criterionComplex(y_pred, y_batch)\n",
        "        # Zero gradients, perform a backward pass, and update the weights.\n",
        "        optimizerComplex.zero_grad()\n",
        "        loss.backward()\n",
        "        optimizerComplex.step()\n",
        "    losses.append(loss.item())\n",
        "\n",
        "# Plot the loss as a function of the number of iterations to check for convergence.\n",
        "f,ax = plt.subplots()\n",
        "ax.plot(losses)\n",
        "ax.set_xlabel('iteration')\n",
        "ax.set_ylabel('loss')\n",
        "ax.set_title('Loss as a function of the number of iterations')\n",
        "plt.show()\n",
        "\n",
        "# You might need to run this multiple times to get a good result. \n",
        "# You are looking for a loss function to reach a minimum. If it is \n",
        "# still decreasing, you need to run it for more epochs."
      ]
    },
    {
      "cell_type": "code",
      "execution_count": null,
      "metadata": {},
      "outputs": [],
      "source": [
        "# Now, let's use the trained model to predict the target data.\n",
        "predProbsTargetPytorchNN = modelComplex(X_test).squeeze()\n",
        "predTargetPytorchNN = predProbsTargetPytorchNN >= 0.5\n",
        "\n",
        "# Let's compute the accuracy of the classification.\n",
        "accuracyPytorchNN = torch.mean((predTargetPytorchNN == y_test).float())\n",
        "print(f'The accuracy of our PyTorch classifier is {accuracyPytorchNN}')\n",
        "\n",
        "# Compute precision, recall, and F1 score\n",
        "precision, recall, f1, _ = precision_recall_fscore_support(y_test, predTargetPytorchNN)\n",
        "print(f'The precision of our PyTorch classifier is {precision[1]}')\n",
        "print(f'The recall of our PyTorch classifier is {recall[1]}')\n",
        "print(f'The F1 score of our PyTorch classifier is {f1[1]}')"
      ]
    },
    {
      "cell_type": "code",
      "execution_count": null,
      "metadata": {},
      "outputs": [],
      "source": [
        "# Add confusion matric and compare the results with the previous classifiers\n",
        "confusionPyTorchNN = confusion_matrix(y_test, predTargetPytorchNN)\n",
        "\n",
        "f,ax = plt.subplots(1,4,figsize=(12,3))\n",
        "for i, model in enumerate([confusionCustom, confusionBuiltIn, confusionPyTorch, confusionPyTorchNN]):\n",
        "    ax[i].imshow(model, cmap='Blues', interpolation='nearest')\n",
        "    ax[i].set_xlabel('predicted label')\n",
        "    ax[i].set_xticks([0,1]); ax[i].set_yticks([0,1])\n",
        "    ax[i].set_xticklabels(['low','high']); ax[i].set_yticklabels(['',''])\n",
        "    for j in range(2):\n",
        "        for k in range(2):\n",
        "            ax[i].text(k, j, model[j, k], ha='center', va='center', color='r')\n",
        "ax[0].set_title('Custom' + f' (acc = {accuracyCustom:.2f})')\n",
        "ax[1].set_title('Built-in' + f' (acc = {accuracyBuiltIn:.2f})')\n",
        "ax[2].set_title('PyTorch LR' + f' (acc = {accuracyPytorchLR:.2f})')\n",
        "ax[3].set_title('PyTorch NN' + f' (acc = {accuracyPytorchNN:.2f})')\n",
        "plt.show()\n"
      ]
    },
    {
      "cell_type": "markdown",
      "metadata": {},
      "source": [
        "## 4.C. **Using Scikit Learn Random Forests**\n",
        "\n",
        "A common classifyer is the **decision tree**.  A decision tree is a flowchart-like structure in which each internal node represents a \"test\" on an attribute (e.g. whether a coin flip comes up heads or tails), each branch represents the outcome of the test, and each leaf node represents a class label (decision taken after computing all attributes). The paths from root to leaf represent classification rules.\n",
        "\n",
        "The **Random Forest Classifier** expands on this idea by creating many decision trees and averaging their results.  This can help to prevent overfitting and improve the accuracy of the model.  This concept of using many models to improve the accuracy of the model is called **ensemble learning**.\n",
        "\n",
        "Let's try this out in python using the **RandomForestClassifier** from the **sklearn** package."
      ]
    },
    {
      "cell_type": "code",
      "execution_count": null,
      "metadata": {},
      "outputs": [],
      "source": [
        "# Now let's try a Random Forest Classifier from scikitlearn\n",
        "from sklearn.ensemble import RandomForestClassifier\n",
        "from sklearn.model_selection import GridSearchCV\n",
        "\n",
        "# Create a random forest classifier\n",
        "rf = RandomForestClassifier()\n",
        "\n",
        "# Set up the grid search\n",
        "param_grid = {'n_estimators': [10, 100, 1000], 'max_depth': [None, 5, 10, 20]}\n",
        "grid = GridSearchCV(rf, param_grid, cv=5)"
      ]
    },
    {
      "cell_type": "code",
      "execution_count": null,
      "metadata": {},
      "outputs": [],
      "source": [
        "# Fit the grid search to the data\n",
        "grid.fit(X_biasTrain, targetDiabClass[training_inds])\n",
        "\n",
        "# Print the best parameters\n",
        "print(f'The best parameters are {grid.best_params_}')\n",
        "\n",
        "# Now, let's use the best parameters to train the random forest classifier.\n",
        "rf = RandomForestClassifier(n_estimators=1000, max_depth=5)\n",
        "rf.fit(X_biasTrain, targetDiabClass[training_inds])"
      ]
    },
    {
      "cell_type": "code",
      "execution_count": null,
      "metadata": {},
      "outputs": [],
      "source": [
        "# predict probabilities of the target data\n",
        "predProbsTargetSKLearnRF = rf.predict_proba(X_biasTest)[:,1]\n",
        "\n",
        "# Now, let's use the trained model to predict the target data.\n",
        "predTargetSKLearnRF = rf.predict(X_biasTest)\n",
        "\n",
        "# Let's compute the accuracy of the classification.\n",
        "accuracySKLearnRF = np.mean(predTargetSKLearnRF == targetDiabClass[test_inds])\n",
        "print(f'The accuracy of our random forest classifier is {accuracySKLearnRF}')\n",
        "\n",
        "# Let's make a confusion matrix for the random forest classifier.\n",
        "confusionRF = confusion_matrix(targetDiabClass[test_inds],\n",
        "                                    predTargetSKLearnRF)\n",
        "\n",
        "# Plot the confusion matrix.\n",
        "fig, ax = plt.subplots(1, 1, figsize=(3, 3))\n",
        "ax.imshow(confusionRF, cmap='Blues', interpolation='nearest')\n",
        "ax.set_xlabel('predicted label')\n",
        "ax.set_xticks([0,1]); ax.set_yticks([0,1])\n",
        "ax.set_xticklabels(['low','high']); ax.set_yticklabels(['',''])\n",
        "for i in range(2):\n",
        "    for j in range(2):\n",
        "        ax.text(j, i, confusionRF[i, j], ha='center', va='center', color='r')\n",
        "ax.set_title('Random forest' + f' (acc = {accuracySKLearnRF:.2f})')\n",
        "plt.show()\n",
        "\n",
        "# Comute the precision, recall, and F1 score\n",
        "precision, recall, f1, _ = precision_recall_fscore_support(targetDiabClass[test_inds], predTargetSKLearnRF)\n",
        "print(f'The precision of our random forest classifier is {precision[1]}')\n",
        "print(f'The recall of our random forest classifier is {recall[1]}')\n",
        "print(f'The F1 score of our random forest classifier is {f1[1]}')\n"
      ]
    },
    {
      "cell_type": "markdown",
      "metadata": {},
      "source": [
        "## **4.D. Using Scikit Learn Support Vector Machines**\n",
        "\n",
        "**Support Vector Machines** (SVM) are a set of supervised learning methods used for classification, regression and outliers detection. The idea behind the SVM is to find the **hyperplane** that best separates the classes in the feature space. The hyperplane is the decision boundary that maximizes the margin between the classes. The margin is the distance between the hyperplane and the nearest data point from either class. The SVM algorithm then classifies new data points based on which side of the hyperplane they fall. \n",
        "\n",
        "The SVM can be used for both linear and non-linear classification. In linear classification, the SVM finds the hyperplane that best separates the classes. In non-linear classification, the SVM uses the kernel trick to transform the data into a higher-dimensional space where it can be separated by a hyperplane.\n",
        "\n",
        "Let's try this out in python using the **SVC** from the **sklearn** package."
      ]
    },
    {
      "cell_type": "code",
      "execution_count": null,
      "metadata": {},
      "outputs": [],
      "source": [
        "# Let's try a support vector machine from scikitlearn\n",
        "from sklearn.svm import SVC\n",
        "from sklearn.model_selection import GridSearchCV\n",
        "\n",
        "# Create a support vector classifier\n",
        "svc = SVC(probability=True)\n",
        "\n",
        "# Set up the grid search\n",
        "param_grid = {'C': [0.1, 1, 10, 100], 'gamma': [1, 0.1, 0.01, 0.001]}\n",
        "grid = GridSearchCV(svc, param_grid, cv=5)\n",
        "\n",
        "# Fit the grid search to the data\n",
        "grid.fit(X_biasTrain, targetDiabClass[training_inds])\n",
        "\n",
        "# Print the best parameters\n",
        "print(f'The best parameters are {grid.best_params_}')\n",
        "\n",
        "# Now, let's use the best parameters to train the support vector classifier.\n",
        "svc = SVC(C=grid.best_params_['C'], gamma=grid.best_params_['gamma'], probability=True)\n",
        "svc.fit(X_biasTrain, targetDiabClass[training_inds])"
      ]
    },
    {
      "cell_type": "code",
      "execution_count": null,
      "metadata": {},
      "outputs": [],
      "source": [
        "# predict probabilities of the target data\n",
        "predProbsTargetSKLearnSVM = svc.predict_proba(X_biasTest)[:,1]\n",
        "\n",
        "# Now, let's use the trained model to predict the target data.\n",
        "predTargetSKLearnSVM = svc.predict(X_biasTest)\n",
        "\n",
        "# Let's compute the accuracy of the classification.\n",
        "accuracySVM = np.mean(predTargetSKLearnSVM == targetDiabClass[test_inds])\n",
        "print(f'The accuracy of our support vector machine classifier is {accuracySVM}')\n",
        "\n",
        "# Let's make a confusion matrix for the support vector machine classifier.\n",
        "confusionSVM = confusion_matrix(targetDiabClass[test_inds],\n",
        "                                    predTargetSKLearnSVM)\n",
        "\n",
        "# Plot the confusion matrix.\n",
        "fig, ax = plt.subplots(1, 1, figsize=(3, 3))\n",
        "ax.imshow(confusionSVM, cmap='Blues', interpolation='nearest')\n",
        "ax.set_xlabel('predicted label')\n",
        "ax.set_xticks([0,1]); ax.set_yticks([0,1])\n",
        "ax.set_xticklabels(['low','high']); ax.set_yticklabels(['',''])\n",
        "for i in range(2):\n",
        "    for j in range(2):\n",
        "        ax.text(j, i, confusionSVM[i, j], ha='center', va='center', color='r')\n",
        "\n",
        "ax.set_title('Support vector machine' + f' (acc = {accuracySVM:.2f})')\n",
        "plt.show()\n",
        "\n",
        "# Comute the precision, recall, and F1 score\n",
        "precision, recall, f1, _ = precision_recall_fscore_support(targetDiabClass[test_inds], predTargetSKLearnSVM)\n",
        "print(f'The precision of our support vector machine classifier is {precision[1]}')\n",
        "print(f'The recall of our support vector machine classifier is {recall[1]}')\n",
        "print(f'The F1 score of our support vector machine classifier is {f1[1]}')"
      ]
    },
    {
      "cell_type": "code",
      "execution_count": null,
      "metadata": {},
      "outputs": [],
      "source": [
        "# Finally, let's try to create a consensus classifier that combines the predictions of the previous classifiers.\n",
        "# We will use a simple majority vote to make the final prediction.\n",
        "\n",
        "predTargetConsensus = (predProbsTargetSKLearnSVM + predProbsTargetSKLearnRF + \\\n",
        "                        (predProbsTargetPytorchNN + predProbsTargetPytorchLR).detach().numpy() + \\\n",
        "                        predProbTargetBuiltIn + predProbTargetCustom)/6\n",
        "predTargetConsensus = predTargetConsensus >= 0.5\n",
        "\n",
        "# Let's compute the accuracy of the classification.\n",
        "accuracyConsensus = np.mean(predTargetConsensus == targetDiabClass[test_inds])\n",
        "print(f'The accuracy of our consensus classifier is {accuracyConsensus}')\n",
        "\n",
        "# Let's make a confusion matrix for the consensus classifier.\n",
        "confusionConsensus = confusion_matrix(targetDiabClass[test_inds],\n",
        "                                    predTargetConsensus)\n",
        "\n",
        "# Compute precision, recall, and F1 score\n",
        "precision, recall, f1, _ = precision_recall_fscore_support(targetDiabClass[test_inds], predTargetConsensus)\n",
        "print(f'The precision of our consensus classifier is {precision[1]}')\n",
        "print(f'The recall of our consensus classifier is {recall[1]}')\n",
        "print(f'The F1 score of our consensus classifier is {f1[1]}')"
      ]
    },
    {
      "cell_type": "code",
      "execution_count": null,
      "metadata": {},
      "outputs": [],
      "source": [
        "# Now let's compare the confusion matrices of all the classifiers\n",
        "f,ax = plt.subplots(1,6,figsize=(25,3))\n",
        "\n",
        "for i, model in enumerate([confusionCustom, confusionBuiltIn, confusionPyTorch, confusionRF, confusionSVM, confusionConsensus]):\n",
        "    ax[i].imshow(model, cmap='Blues', interpolation='nearest')\n",
        "    ax[i].set_xlabel('predicted label')\n",
        "    ax[i].set_xticks([0,1]); ax[i].set_yticks([0,1])\n",
        "    ax[i].set_xticklabels(['low','high']); ax[i].set_yticklabels(['',''])\n",
        "    for j in range(2):\n",
        "        for k in range(2):\n",
        "            ax[i].text(k, j, model[j, k], ha='center', va='center', color='r')\n",
        "ax[0].set_title(f'Custom, acc = {accuracyCustom:.2f}')\n",
        "ax[1].set_title(f'Built-in, acc = {accuracyBuiltIn:.2f}')\n",
        "ax[2].set_title(f'PyTorch, acc = {accuracyPytorchNN:.2f}')\n",
        "ax[3].set_title(f'Random Forest, acc = {accuracySKLearnRF:.2f}')\n",
        "ax[4].set_title(f'Support Vector Machine, acc = {accuracySVM:.2f}')\n",
        "ax[5].set_title(f'Consensus, acc = {accuracyConsensus:.2f}')\n",
        "plt.show()"
      ]
    },
    {
      "cell_type": "markdown",
      "metadata": {
        "id": "C9gPt1DR3msZ"
      },
      "source": [
        "# **5. Ethical Considerations in Machine Learning**\n",
        "\n",
        "Before wrapping up, let's touch on some of the ethical considerations of training machine learning models of various types. \n",
        "\n",
        "**Common ethical considerations:**\n",
        "\n",
        "Some of the most common ethical considerations in machine learning are:\n",
        "* *Reinforcing Bias*: Machine learning models can reinforce biases present in the data used to train them. For example, if a model is trained on data that is biased against a certain group of people, the model may make biased predictions against that group. Or if the current medical paradign has no knowledge of a certain disease, the model will not be able to predict it.\n",
        "* *Unbalanced data*: Machine learning models can perform poorly on unbalanced data, where one class is much more common than the other. For example, a model trained on data where only 1% of the samples are positive will have a hard time predicting positive samples.\n",
        "* *Privacy*: Machine learning models can be used to infer sensitive information about individuals from seemingly innocuous data. For example, a model trained on social media data could be used to infer an individual's sexual orientation or political beliefs.\n",
        "* *Lacking explainability or transparancy*: Machine learning models can be difficult to interpret, making it hard to understand why they make the predictions they do. This can make it difficult to trust the model or to correct errors.\n",
        "* *Security*: Machine learning models can be vulnerable to attacks that manipulate their predictions. For example, an attacker could add noise to an image to make a model misclassify it.\n",
        "\n",
        "We will look at a few of these in more detail below."
      ]
    },
    {
      "cell_type": "markdown",
      "metadata": {
        "id": "Vz3pwdgopW1h"
      },
      "source": [
        "## 5.A. **Reinforcement of Socioeconomic Trends**\n",
        "\n",
        "Implementations of models for applications such as credit lines, recidivism rates, or hiring practices are especially prone to bias. In a sociologically-biased society, datasets are prone to contain that inherent bias. If that bias is present in the data, resulting models can recreate that bias with the added \"benefit\" of laundering responsibility through a perceived impartial third party actor.\n",
        "\n",
        "Relying on biased models can serve to chill any social mobility and societal progress and mask discriminatory practices from public scrutiny for longer than if the bias was human derived. This effect is especially prevalent if a model is not constantly retrained. A model is learning on historical snapshot data and is out of date, yet can still be relied on for important, life-altering decisions concerning things such as housing, incarceration, or employment."
      ]
    },
    {
      "cell_type": "markdown",
      "metadata": {
        "id": "IzaoJV14FZG-"
      },
      "source": [
        "Additionally, access to these models may be limited to those nations, persons, or entities wealthy enough to utilize, train, and compute the models. For example, consider a machine learning suite focused on providing accurate market trading predictions that is also paywalled. Those already 1. wealthy enough to market trade, and 2. paid for the subscription are now privy and able to accrue more wealth than those starting from a lower capital amount, increasing the \"activation energy\" of economic mobility within that particular market.\n",
        "\n",
        "----\n",
        "\n",
        "Case study: [COMPRAS](https://www.propublica.org/article/machine-bias-risk-assessments-in-criminal-sentencing),  an algorithm designed to predict risk of reoffending of a given incarcerated person, was systemically biased against people of color and inaccurate in its predictions, and was heavily relied upon by judges in sentencing.\n",
        "\n",
        "|  COMPRAS Prediction and True outcome    | White |  African American|\n",
        "| ----------- | ----------- | ---- |\n",
        "| Labeled High Risk, but did not re-offend      | 23.5%       | 44.9% |\n",
        "| Labeled Low Risk, but did re-offend   | 47.7%        | 28.0%   |"
      ]
    },
    {
      "cell_type": "markdown",
      "metadata": {
        "id": "5rcTlzXGpcHa"
      },
      "source": [
        "## 5.B. **Entrenchment of Current Medical Paradigms**\n",
        "\n",
        "Similar to the above points but from a medical perspective, supervised models are only as good as their generalizability and the data provided to them to learn. In fields like medicine (and also computational biology), care must be taken to remember at all times that these fields are constantly discovering new evidence, refining previous understanding, and revising old paradigms of treatment and knowledge. Models trained on snapshot data or on old feature sets are ill-suited to new or emerging diseases and poorly understood / historically underserved conditions. Adding in diagnostic machine learning models may add another obstacle when attempting to get adequate care.\n",
        "\n",
        "For a thought experiment: consider the newly recognized condition called Alpha-Galactose Allergy (Tick-borne Mammalian meat allergy). Preliminary evidence of this condition emerged in the early 2000's and was unrecognized by doctors until circa 2008-2010. The presentation of this condition was varied, non-specific, and rare; these features prevented discovery until a specific cancer drug containing Alpha-Galactose caused several severe anaphylaxis cases, but only in geographic regions containing high rates of tick borne illness. Any sort of diagnostic contemporary machine learning based tool would have not caught this disease as it was not described and rare. Those with the condition may have been repeatedly rejected (more than they were) due to over-reliance on such a tool and discovery may have been masked for a longer period of time."
      ]
    },
    {
      "cell_type": "markdown",
      "metadata": {
        "id": "pFqaJ4fZpyoj"
      },
      "source": [
        "## 5.C. **Lacking or Missing Explanatory Outcomes**\n",
        "\n",
        "Some machine learning models may only return a classification or confidence score + label. The lack of explanatory power can arise in black box situations when an explanation is needed. Consider popular CNNs trained to diagnose melanomas when compared to a dermatologist's recommendation. The dermatologist can point to many features and explain their decision of whether a blemish is benign or malignant: features like, roundness, color, size, hair, family history, occupational history. The CNN, unless it has been explicitly designed to return the information, may require a lot of scrutiny to reconstruct its \"opinion\" or decision making process. There is a plethora of ethical concerns one can list that may arise from a ML model without explanatory features:\n",
        "\n",
        "  1. Obligation to provide explanatory care to patients\n",
        "  2. Lack of transparency when explaining misdiagnosis for liability reasons\n",
        "  3. Epistemic undermining of already existing experts and disciplines\n",
        "  4. Perceived or real lack of personalized care and reassurance to the patients"
      ]
    },
    {
      "cell_type": "markdown",
      "metadata": {
        "id": "Injen12xp1wl"
      },
      "source": [
        "## 5.D. **Incomprehensive and Imbalanced Datasets**\n",
        "\n",
        "Datasets can be oversaturated or imbalanced with a particular type of statistic, leading to a lack of generalization and hyperspecialization by a given model. This is especially possible when big data is collected and is infeasible for entry by entry examination by a human. Computing summary statistics and studious understanding of your dataset before attempting machine learning is recommended.\n",
        "\n",
        "Case Study: An imbalanced or biased dataset was used to train Twitter's thumbnail algorithm, which would focus on white people for attention over people of color. This has since been updated to select thumbnails based on arbitrary center cropping."
      ]
    },
    {
      "cell_type": "markdown",
      "metadata": {
        "id": "N4yTz02q1mJh"
      },
      "source": [
        "![image.png](data:image/png;base64,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)"
      ]
    },
    {
      "cell_type": "markdown",
      "metadata": {
        "id": "Rjzuw0Fup2Fk"
      },
      "source": [
        "#### **Legal Gray Areas**\n",
        "\n",
        "* Liability\n",
        "\n",
        "  * Outcomes of machine learning models are a legal gray area in many countries. If a fully autonomous self driving car strikes a person or property, who is liable for damages? Is the car manufacturer negligent for all edge cases that an AI may encounter?\n",
        "\n",
        "* Consent\n",
        "  * Data privacy is a developing area of law, the [US currently as of 2022 has no federal guideline for personal data protections](https://www.nytimes.com/wirecutter/blog/state-of-privacy-laws-in-us/). Instead, America has specific laws like COPPA or HIPPA for specific data (children's data / healthcare data respectively for those two). This means actors in America are free to mostly build datasets without the consent of the people who generate that data. This is an ethical concern to right to privacy advocates since, often, even with anonymizing and barcoding, [entries can easily be tied to individuals.](https://techcrunch.com/2019/07/24/researchers-spotlight-the-lie-of-anonymous-data/?guccounter=1&guce_referrer=aHR0cHM6Ly93d3cuZ29vZ2xlLmNvbS8&guce_referrer_sig=AQAAAKfGXHUjL3AH6xAdh-MDG-eMsxVnFxbLsVNHXfqNx75V9VBzsfvnt7_QrgZqn1gatfLq2OXKPkPYlZfpTQD21UjDxx7FsPkq1vHLNSJSq6JhOb5hnQhBkIFe_mKtQY_b2F32T4Ke6ydgA0KBAd-0w3m0NvnujlBr0e1gEgm1-JJ9)\n",
        "\n",
        "* Copyright\n",
        "  * When training models on copyrighted works, such as artwork or written works, are the works produced by the ML model subject to copyright or derivatives? What if an ML model overfits one particular artist's work or style, such that it is reproducing works with 99.9% accuracy?\n"
      ]
    },
    {
      "cell_type": "markdown",
      "metadata": {
        "id": "yzy97tCZzuVq"
      },
      "source": [
        "-------\n",
        "\n",
        "\n",
        "Further Reading on Ethics in Machine Learning:\n",
        "<details>\n",
        "  <summary>Click to Expand</summary>\n",
        "\n",
        "\n",
        "----------------------------\n",
        "\n",
        "Academic Papers:\n",
        "\n",
        "* [Ethical principles in machine learning and artificial intelligence: cases from the field and possible ways forward](https://www.nature.com/articles/s41599-020-0501-9) - Overview and introduction to ML ethics with 2 case studies - Piano S. (Nature 2020)\n",
        "\n",
        "* [The global landscape of AI ethics guidelines](https://www.nature.com/articles/s42256-019-0088-2) - Jobin et al. (Nature Machine Intelligence 2019) - Scoping review about the state of AI ethics.\n",
        "\n",
        "\n",
        "* [The Ethics of AI Ethics: An Evaluation of Guidelines](https://link.springer.com/article/10.1007/s11023-020-09517-8) - Hagendorff (Minds and Machines 2020) - Article and systemic review about areas lacking in recent AI industry guidelines.\n",
        "\n",
        "Academic Papers w/ focus on Medicinal practice:\n",
        "\n",
        "* [Implementing Machine Learning in Health Care — Addressing Ethical Challenges](https://www.ncbi.nlm.nih.gov/pmc/articles/PMC5962261/) - Char et al. (The New England Journal of Medicine 2019)\n",
        "\n",
        "* [On the ethics of algorithmic decision-making in healthcare](https://jme.bmj.com/content/46/3/205) - Grote et al (Journal of Medical Ethics 2019)\n",
        "\n",
        "Industry White Papers:\n",
        "\n",
        "* [How to Prevent Discriminatory Outcomes in Machine Learning](https://www3.weforum.org/docs/WEF_40065_White_Paper_How_to_Prevent_Discriminatory_Outcomes_in_Machine_Learning.pdf) - World Economic Forum white paper (2019)\n",
        "\n",
        "* [The Malicious Use of Artificial Intelligence: Forcasting, Prevention, and Mitigation](https://arxiv.org/ftp/arxiv/papers/1802/1802.07228.pdf) - Future of Humanity Institute (2018)\n",
        "\n",
        "</details>"
      ]
    },
    {
      "cell_type": "markdown",
      "metadata": {
        "id": "vayH6Vxv35Qd"
      },
      "source": [
        "## Questions and Discussion\n",
        "Learn more by exploring some of these questions on your own.  Feel free to use online resources or to ask a Large Language Model for more information."
      ]
    },
    {
      "cell_type": "markdown",
      "metadata": {},
      "source": [
        "## Easy Questions:\n",
        "\n",
        "* Which type of machine learning returns out a continuous value output to match or predict something like a price?\n",
        "\n",
        "* What is the difference between one-hot encoding and a label?\n",
        "\n",
        "* What would you call a dataset where the features are not related to each other, i.e., you could shuffle the columns and have the same dataset?\n",
        "\n",
        "* What is the difference between validation and cross validation?\n",
        "\n",
        "* What is happening when you have very good accuracy on your training set but terrible accuracy on your validation set?\n",
        "\n",
        "* What is happening when you have low model variance but high bias?"
      ]
    },
    {
      "cell_type": "markdown",
      "metadata": {},
      "source": [
        "## Harder Questions:\n",
        "\n",
        "* What final layer assumes the output labels are distinct, independent possibilities and will convert an activation to an independent probability across classes (output may not sum to 1)?\n",
        "\n",
        "* What final layer assumes the output labels are concomitant possibilities and will convert an activation to joint probability across all classes (output sums to 1)?\n",
        "\n",
        "* How would you train on a dataset that has overlapping labels? For example, imagine a dataset of shapes where your labels are [ circle, oval, rectangle, square], and some entries may have the one-hot label [1,1,0,0] for a perfect circle, while an oval will only have [0,1,0,0]."
      ]
    },
    {
      "cell_type": "markdown",
      "metadata": {},
      "source": [
        "## Discussion Questions\n",
        "\n",
        "* What do you do if you have no negative labels?\n",
        "\n",
        "* What are some areas of ethical concern within your discipline using AI?\n",
        "\n",
        "* What are some of your favorite ML models out there?\n",
        "\n",
        "## Bonus questions (derivations):\n",
        "\n",
        "* Derive the equation we use for solving directly for the linear regression weights that minimize the sum of squared errors.\n",
        "\n",
        "\\begin{equation}\n",
        "W = (\\bar{X}^T\\cdot \\bar{X})^{-1}\\bar{X}^T \\cdot \\bar{Y} = pseudoinverse(\\bar{X})*\\bar{Y}\n",
        "\\end{equation}\n",
        "\n",
        "starting from the formulation:\n",
        "$\n",
        "\\begin{align}\n",
        "\\bar{Y} = W\\cdot\\bar{X}\n",
        "\\end{align}\n",
        "$\n",
        "\\begin{align}\n",
        "\\mathbf{\\bar{Y}} = \\begin{bmatrix}\n",
        "y_1&\\\\\n",
        "y_2&\\\\\n",
        "\\vdots&\\\\\n",
        "y_n&\\\\\n",
        "\\end{bmatrix}\n",
        "\\mathbf{W} = \\begin{bmatrix}\n",
        "w_1&\\\\\n",
        "w_2&\\\\\n",
        "\\vdots&\\\\\n",
        "w_n&\\\\\n",
        "\\end{bmatrix}\n",
        "\\mathbf{\\bar{X}} = \\begin{bmatrix}\n",
        "x_{1,1}& x_{1,2} &\\cdots& x_{1,i}\\\\\n",
        "x_{2,1}& \\ddots & &\\vdots&\\\\\n",
        "\\vdots& & \\ddots&\\\\\n",
        "x_{n,1}& \\cdots& & x_{n,i}\\\\\n",
        "\\end{bmatrix}\n",
        "\\end{align}\n",
        "\n",
        "\n",
        "for $n$ observations of $i$ features.\n",
        "\n",
        "<details>\n",
        "  <summary>HINT</summary>\n",
        " Write out the formula for the error between prediction (Y_hat) and the real value (Y_bar) and minimize the gradient of that formula.\n",
        "<details>"
      ]
    }
  ],
  "metadata": {
    "celltoolbar": "Slideshow",
    "colab": {
      "provenance": [],
      "toc_visible": true
    },
    "kernelspec": {
      "display_name": "BIOM480A5",
      "language": "python",
      "name": "python3"
    },
    "language_info": {
      "codemirror_mode": {
        "name": "ipython",
        "version": 3
      },
      "file_extension": ".py",
      "mimetype": "text/x-python",
      "name": "python",
      "nbconvert_exporter": "python",
      "pygments_lexer": "ipython3",
      "version": "3.13.2"
    },
    "widgets": {
      "application/vnd.jupyter.widget-state+json": {
        "068063431c65405a83444aa2524f5343": {
          "model_module": "@jupyter-widgets/controls",
          "model_module_version": "1.5.0",
          "model_name": "FloatProgressModel",
          "state": {
            "_dom_classes": [],
            "_model_module": "@jupyter-widgets/controls",
            "_model_module_version": "1.5.0",
            "_model_name": "FloatProgressModel",
            "_view_count": null,
            "_view_module": "@jupyter-widgets/controls",
            "_view_module_version": "1.5.0",
            "_view_name": "ProgressView",
            "bar_style": "success",
            "description": "",
            "description_tooltip": null,
            "layout": "IPY_MODEL_2257a2f54cec4c70a3781c6ca4c6fca5",
            "max": 500,
            "min": 0,
            "orientation": "horizontal",
            "style": "IPY_MODEL_fbc2bc5c7b7b40aab96a2c3d6c78e9ea",
            "value": 500
          }
        },
        "18ba693441b04396aebd7795c5d4eb58": {
          "model_module": "@jupyter-widgets/base",
          "model_module_version": "1.2.0",
          "model_name": "LayoutModel",
          "state": {
            "_model_module": "@jupyter-widgets/base",
            "_model_module_version": "1.2.0",
            "_model_name": "LayoutModel",
            "_view_count": null,
            "_view_module": "@jupyter-widgets/base",
            "_view_module_version": "1.2.0",
            "_view_name": "LayoutView",
            "align_content": null,
            "align_items": null,
            "align_self": null,
            "border": null,
            "bottom": null,
            "display": null,
            "flex": null,
            "flex_flow": null,
            "grid_area": null,
            "grid_auto_columns": null,
            "grid_auto_flow": null,
            "grid_auto_rows": null,
            "grid_column": null,
            "grid_gap": null,
            "grid_row": null,
            "grid_template_areas": null,
            "grid_template_columns": null,
            "grid_template_rows": null,
            "height": null,
            "justify_content": null,
            "justify_items": null,
            "left": null,
            "margin": null,
            "max_height": null,
            "max_width": null,
            "min_height": null,
            "min_width": null,
            "object_fit": null,
            "object_position": null,
            "order": null,
            "overflow": null,
            "overflow_x": null,
            "overflow_y": null,
            "padding": null,
            "right": null,
            "top": null,
            "visibility": null,
            "width": null
          }
        },
        "1c7d17eb53574c4e9ec9ecc7f033c6b0": {
          "model_module": "@jupyter-widgets/controls",
          "model_module_version": "1.5.0",
          "model_name": "DescriptionStyleModel",
          "state": {
            "_model_module": "@jupyter-widgets/controls",
            "_model_module_version": "1.5.0",
            "_model_name": "DescriptionStyleModel",
            "_view_count": null,
            "_view_module": "@jupyter-widgets/base",
            "_view_module_version": "1.2.0",
            "_view_name": "StyleView",
            "description_width": ""
          }
        },
        "1f131c198d5047a1967487d2f29fa297": {
          "model_module": "@jupyter-widgets/controls",
          "model_module_version": "1.5.0",
          "model_name": "FloatProgressModel",
          "state": {
            "_dom_classes": [],
            "_model_module": "@jupyter-widgets/controls",
            "_model_module_version": "1.5.0",
            "_model_name": "FloatProgressModel",
            "_view_count": null,
            "_view_module": "@jupyter-widgets/controls",
            "_view_module_version": "1.5.0",
            "_view_name": "ProgressView",
            "bar_style": "success",
            "description": "",
            "description_tooltip": null,
            "layout": "IPY_MODEL_e607e2a6258c4060b779653903fc0359",
            "max": 500,
            "min": 0,
            "orientation": "horizontal",
            "style": "IPY_MODEL_2db5fcdaf0c648978dbdc32d215bbc5b",
            "value": 500
          }
        },
        "2257a2f54cec4c70a3781c6ca4c6fca5": {
          "model_module": "@jupyter-widgets/base",
          "model_module_version": "1.2.0",
          "model_name": "LayoutModel",
          "state": {
            "_model_module": "@jupyter-widgets/base",
            "_model_module_version": "1.2.0",
            "_model_name": "LayoutModel",
            "_view_count": null,
            "_view_module": "@jupyter-widgets/base",
            "_view_module_version": "1.2.0",
            "_view_name": "LayoutView",
            "align_content": null,
            "align_items": null,
            "align_self": null,
            "border": null,
            "bottom": null,
            "display": null,
            "flex": null,
            "flex_flow": null,
            "grid_area": null,
            "grid_auto_columns": null,
            "grid_auto_flow": null,
            "grid_auto_rows": null,
            "grid_column": null,
            "grid_gap": null,
            "grid_row": null,
            "grid_template_areas": null,
            "grid_template_columns": null,
            "grid_template_rows": null,
            "height": null,
            "justify_content": null,
            "justify_items": null,
            "left": null,
            "margin": null,
            "max_height": null,
            "max_width": null,
            "min_height": null,
            "min_width": null,
            "object_fit": null,
            "object_position": null,
            "order": null,
            "overflow": null,
            "overflow_x": null,
            "overflow_y": null,
            "padding": null,
            "right": null,
            "top": null,
            "visibility": null,
            "width": null
          }
        },
        "22643903e45c4f2d88d63615c8e827c8": {
          "model_module": "@jupyter-widgets/base",
          "model_module_version": "1.2.0",
          "model_name": "LayoutModel",
          "state": {
            "_model_module": "@jupyter-widgets/base",
            "_model_module_version": "1.2.0",
            "_model_name": "LayoutModel",
            "_view_count": null,
            "_view_module": "@jupyter-widgets/base",
            "_view_module_version": "1.2.0",
            "_view_name": "LayoutView",
            "align_content": null,
            "align_items": null,
            "align_self": null,
            "border": null,
            "bottom": null,
            "display": null,
            "flex": null,
            "flex_flow": null,
            "grid_area": null,
            "grid_auto_columns": null,
            "grid_auto_flow": null,
            "grid_auto_rows": null,
            "grid_column": null,
            "grid_gap": null,
            "grid_row": null,
            "grid_template_areas": null,
            "grid_template_columns": null,
            "grid_template_rows": null,
            "height": null,
            "justify_content": null,
            "justify_items": null,
            "left": null,
            "margin": null,
            "max_height": null,
            "max_width": null,
            "min_height": null,
            "min_width": null,
            "object_fit": null,
            "object_position": null,
            "order": null,
            "overflow": null,
            "overflow_x": null,
            "overflow_y": null,
            "padding": null,
            "right": null,
            "top": null,
            "visibility": null,
            "width": null
          }
        },
        "2db5fcdaf0c648978dbdc32d215bbc5b": {
          "model_module": "@jupyter-widgets/controls",
          "model_module_version": "1.5.0",
          "model_name": "ProgressStyleModel",
          "state": {
            "_model_module": "@jupyter-widgets/controls",
            "_model_module_version": "1.5.0",
            "_model_name": "ProgressStyleModel",
            "_view_count": null,
            "_view_module": "@jupyter-widgets/base",
            "_view_module_version": "1.2.0",
            "_view_name": "StyleView",
            "bar_color": null,
            "description_width": ""
          }
        },
        "3c4539d8e1c846f882a53ef00322736e": {
          "model_module": "@jupyter-widgets/controls",
          "model_module_version": "1.5.0",
          "model_name": "HTMLModel",
          "state": {
            "_dom_classes": [],
            "_model_module": "@jupyter-widgets/controls",
            "_model_module_version": "1.5.0",
            "_model_name": "HTMLModel",
            "_view_count": null,
            "_view_module": "@jupyter-widgets/controls",
            "_view_module_version": "1.5.0",
            "_view_name": "HTMLView",
            "description": "",
            "description_tooltip": null,
            "layout": "IPY_MODEL_22643903e45c4f2d88d63615c8e827c8",
            "placeholder": "​",
            "style": "IPY_MODEL_e778c187292141ecba2ccaa513c49499",
            "value": " 500/500 [02:23&lt;00:00,  2.97it/s]"
          }
        },
        "46beb58c035f4e32b8eb2e57b4a7ac3b": {
          "model_module": "@jupyter-widgets/base",
          "model_module_version": "1.2.0",
          "model_name": "LayoutModel",
          "state": {
            "_model_module": "@jupyter-widgets/base",
            "_model_module_version": "1.2.0",
            "_model_name": "LayoutModel",
            "_view_count": null,
            "_view_module": "@jupyter-widgets/base",
            "_view_module_version": "1.2.0",
            "_view_name": "LayoutView",
            "align_content": null,
            "align_items": null,
            "align_self": null,
            "border": null,
            "bottom": null,
            "display": null,
            "flex": null,
            "flex_flow": null,
            "grid_area": null,
            "grid_auto_columns": null,
            "grid_auto_flow": null,
            "grid_auto_rows": null,
            "grid_column": null,
            "grid_gap": null,
            "grid_row": null,
            "grid_template_areas": null,
            "grid_template_columns": null,
            "grid_template_rows": null,
            "height": null,
            "justify_content": null,
            "justify_items": null,
            "left": null,
            "margin": null,
            "max_height": null,
            "max_width": null,
            "min_height": null,
            "min_width": null,
            "object_fit": null,
            "object_position": null,
            "order": null,
            "overflow": null,
            "overflow_x": null,
            "overflow_y": null,
            "padding": null,
            "right": null,
            "top": null,
            "visibility": null,
            "width": null
          }
        },
        "63cd95068fd644068a353820af99a01a": {
          "model_module": "@jupyter-widgets/controls",
          "model_module_version": "1.5.0",
          "model_name": "HBoxModel",
          "state": {
            "_dom_classes": [],
            "_model_module": "@jupyter-widgets/controls",
            "_model_module_version": "1.5.0",
            "_model_name": "HBoxModel",
            "_view_count": null,
            "_view_module": "@jupyter-widgets/controls",
            "_view_module_version": "1.5.0",
            "_view_name": "HBoxView",
            "box_style": "",
            "children": [
              "IPY_MODEL_8b860974fcc34eabbba0a32a9afd83fa",
              "IPY_MODEL_1f131c198d5047a1967487d2f29fa297",
              "IPY_MODEL_ffb635e851d741a082f5a6bcb419c442"
            ],
            "layout": "IPY_MODEL_a5687b512e8844d4a65a0caa79e179e3"
          }
        },
        "6552e6fab600405fac76432672d85b83": {
          "model_module": "@jupyter-widgets/base",
          "model_module_version": "1.2.0",
          "model_name": "LayoutModel",
          "state": {
            "_model_module": "@jupyter-widgets/base",
            "_model_module_version": "1.2.0",
            "_model_name": "LayoutModel",
            "_view_count": null,
            "_view_module": "@jupyter-widgets/base",
            "_view_module_version": "1.2.0",
            "_view_name": "LayoutView",
            "align_content": null,
            "align_items": null,
            "align_self": null,
            "border": null,
            "bottom": null,
            "display": null,
            "flex": null,
            "flex_flow": null,
            "grid_area": null,
            "grid_auto_columns": null,
            "grid_auto_flow": null,
            "grid_auto_rows": null,
            "grid_column": null,
            "grid_gap": null,
            "grid_row": null,
            "grid_template_areas": null,
            "grid_template_columns": null,
            "grid_template_rows": null,
            "height": null,
            "justify_content": null,
            "justify_items": null,
            "left": null,
            "margin": null,
            "max_height": null,
            "max_width": null,
            "min_height": null,
            "min_width": null,
            "object_fit": null,
            "object_position": null,
            "order": null,
            "overflow": null,
            "overflow_x": null,
            "overflow_y": null,
            "padding": null,
            "right": null,
            "top": null,
            "visibility": null,
            "width": null
          }
        },
        "67bb0ba205d349fd812d28d67cfa3f24": {
          "model_module": "@jupyter-widgets/controls",
          "model_module_version": "1.5.0",
          "model_name": "HBoxModel",
          "state": {
            "_dom_classes": [],
            "_model_module": "@jupyter-widgets/controls",
            "_model_module_version": "1.5.0",
            "_model_name": "HBoxModel",
            "_view_count": null,
            "_view_module": "@jupyter-widgets/controls",
            "_view_module_version": "1.5.0",
            "_view_name": "HBoxView",
            "box_style": "",
            "children": [
              "IPY_MODEL_d43e79082b0d4c849fc950d78c352793",
              "IPY_MODEL_068063431c65405a83444aa2524f5343",
              "IPY_MODEL_3c4539d8e1c846f882a53ef00322736e"
            ],
            "layout": "IPY_MODEL_46beb58c035f4e32b8eb2e57b4a7ac3b"
          }
        },
        "75417cc148594f188a108d6c1e622772": {
          "model_module": "@jupyter-widgets/controls",
          "model_module_version": "1.5.0",
          "model_name": "DescriptionStyleModel",
          "state": {
            "_model_module": "@jupyter-widgets/controls",
            "_model_module_version": "1.5.0",
            "_model_name": "DescriptionStyleModel",
            "_view_count": null,
            "_view_module": "@jupyter-widgets/base",
            "_view_module_version": "1.2.0",
            "_view_name": "StyleView",
            "description_width": ""
          }
        },
        "8b860974fcc34eabbba0a32a9afd83fa": {
          "model_module": "@jupyter-widgets/controls",
          "model_module_version": "1.5.0",
          "model_name": "HTMLModel",
          "state": {
            "_dom_classes": [],
            "_model_module": "@jupyter-widgets/controls",
            "_model_module_version": "1.5.0",
            "_model_name": "HTMLModel",
            "_view_count": null,
            "_view_module": "@jupyter-widgets/controls",
            "_view_module_version": "1.5.0",
            "_view_name": "HTMLView",
            "description": "",
            "description_tooltip": null,
            "layout": "IPY_MODEL_6552e6fab600405fac76432672d85b83",
            "placeholder": "​",
            "style": "IPY_MODEL_1c7d17eb53574c4e9ec9ecc7f033c6b0",
            "value": "100%"
          }
        },
        "a5687b512e8844d4a65a0caa79e179e3": {
          "model_module": "@jupyter-widgets/base",
          "model_module_version": "1.2.0",
          "model_name": "LayoutModel",
          "state": {
            "_model_module": "@jupyter-widgets/base",
            "_model_module_version": "1.2.0",
            "_model_name": "LayoutModel",
            "_view_count": null,
            "_view_module": "@jupyter-widgets/base",
            "_view_module_version": "1.2.0",
            "_view_name": "LayoutView",
            "align_content": null,
            "align_items": null,
            "align_self": null,
            "border": null,
            "bottom": null,
            "display": null,
            "flex": null,
            "flex_flow": null,
            "grid_area": null,
            "grid_auto_columns": null,
            "grid_auto_flow": null,
            "grid_auto_rows": null,
            "grid_column": null,
            "grid_gap": null,
            "grid_row": null,
            "grid_template_areas": null,
            "grid_template_columns": null,
            "grid_template_rows": null,
            "height": null,
            "justify_content": null,
            "justify_items": null,
            "left": null,
            "margin": null,
            "max_height": null,
            "max_width": null,
            "min_height": null,
            "min_width": null,
            "object_fit": null,
            "object_position": null,
            "order": null,
            "overflow": null,
            "overflow_x": null,
            "overflow_y": null,
            "padding": null,
            "right": null,
            "top": null,
            "visibility": null,
            "width": null
          }
        },
        "d43e79082b0d4c849fc950d78c352793": {
          "model_module": "@jupyter-widgets/controls",
          "model_module_version": "1.5.0",
          "model_name": "HTMLModel",
          "state": {
            "_dom_classes": [],
            "_model_module": "@jupyter-widgets/controls",
            "_model_module_version": "1.5.0",
            "_model_name": "HTMLModel",
            "_view_count": null,
            "_view_module": "@jupyter-widgets/controls",
            "_view_module_version": "1.5.0",
            "_view_name": "HTMLView",
            "description": "",
            "description_tooltip": null,
            "layout": "IPY_MODEL_18ba693441b04396aebd7795c5d4eb58",
            "placeholder": "​",
            "style": "IPY_MODEL_75417cc148594f188a108d6c1e622772",
            "value": "100%"
          }
        },
        "e607e2a6258c4060b779653903fc0359": {
          "model_module": "@jupyter-widgets/base",
          "model_module_version": "1.2.0",
          "model_name": "LayoutModel",
          "state": {
            "_model_module": "@jupyter-widgets/base",
            "_model_module_version": "1.2.0",
            "_model_name": "LayoutModel",
            "_view_count": null,
            "_view_module": "@jupyter-widgets/base",
            "_view_module_version": "1.2.0",
            "_view_name": "LayoutView",
            "align_content": null,
            "align_items": null,
            "align_self": null,
            "border": null,
            "bottom": null,
            "display": null,
            "flex": null,
            "flex_flow": null,
            "grid_area": null,
            "grid_auto_columns": null,
            "grid_auto_flow": null,
            "grid_auto_rows": null,
            "grid_column": null,
            "grid_gap": null,
            "grid_row": null,
            "grid_template_areas": null,
            "grid_template_columns": null,
            "grid_template_rows": null,
            "height": null,
            "justify_content": null,
            "justify_items": null,
            "left": null,
            "margin": null,
            "max_height": null,
            "max_width": null,
            "min_height": null,
            "min_width": null,
            "object_fit": null,
            "object_position": null,
            "order": null,
            "overflow": null,
            "overflow_x": null,
            "overflow_y": null,
            "padding": null,
            "right": null,
            "top": null,
            "visibility": null,
            "width": null
          }
        },
        "e729726846f745f78ebb4a3666eecef9": {
          "model_module": "@jupyter-widgets/base",
          "model_module_version": "1.2.0",
          "model_name": "LayoutModel",
          "state": {
            "_model_module": "@jupyter-widgets/base",
            "_model_module_version": "1.2.0",
            "_model_name": "LayoutModel",
            "_view_count": null,
            "_view_module": "@jupyter-widgets/base",
            "_view_module_version": "1.2.0",
            "_view_name": "LayoutView",
            "align_content": null,
            "align_items": null,
            "align_self": null,
            "border": null,
            "bottom": null,
            "display": null,
            "flex": null,
            "flex_flow": null,
            "grid_area": null,
            "grid_auto_columns": null,
            "grid_auto_flow": null,
            "grid_auto_rows": null,
            "grid_column": null,
            "grid_gap": null,
            "grid_row": null,
            "grid_template_areas": null,
            "grid_template_columns": null,
            "grid_template_rows": null,
            "height": null,
            "justify_content": null,
            "justify_items": null,
            "left": null,
            "margin": null,
            "max_height": null,
            "max_width": null,
            "min_height": null,
            "min_width": null,
            "object_fit": null,
            "object_position": null,
            "order": null,
            "overflow": null,
            "overflow_x": null,
            "overflow_y": null,
            "padding": null,
            "right": null,
            "top": null,
            "visibility": null,
            "width": null
          }
        },
        "e778c187292141ecba2ccaa513c49499": {
          "model_module": "@jupyter-widgets/controls",
          "model_module_version": "1.5.0",
          "model_name": "DescriptionStyleModel",
          "state": {
            "_model_module": "@jupyter-widgets/controls",
            "_model_module_version": "1.5.0",
            "_model_name": "DescriptionStyleModel",
            "_view_count": null,
            "_view_module": "@jupyter-widgets/base",
            "_view_module_version": "1.2.0",
            "_view_name": "StyleView",
            "description_width": ""
          }
        },
        "eecfc5cffea24fd38f36bf5ff8d853cf": {
          "model_module": "@jupyter-widgets/controls",
          "model_module_version": "1.5.0",
          "model_name": "DescriptionStyleModel",
          "state": {
            "_model_module": "@jupyter-widgets/controls",
            "_model_module_version": "1.5.0",
            "_model_name": "DescriptionStyleModel",
            "_view_count": null,
            "_view_module": "@jupyter-widgets/base",
            "_view_module_version": "1.2.0",
            "_view_name": "StyleView",
            "description_width": ""
          }
        },
        "fbc2bc5c7b7b40aab96a2c3d6c78e9ea": {
          "model_module": "@jupyter-widgets/controls",
          "model_module_version": "1.5.0",
          "model_name": "ProgressStyleModel",
          "state": {
            "_model_module": "@jupyter-widgets/controls",
            "_model_module_version": "1.5.0",
            "_model_name": "ProgressStyleModel",
            "_view_count": null,
            "_view_module": "@jupyter-widgets/base",
            "_view_module_version": "1.2.0",
            "_view_name": "StyleView",
            "bar_color": null,
            "description_width": ""
          }
        },
        "ffb635e851d741a082f5a6bcb419c442": {
          "model_module": "@jupyter-widgets/controls",
          "model_module_version": "1.5.0",
          "model_name": "HTMLModel",
          "state": {
            "_dom_classes": [],
            "_model_module": "@jupyter-widgets/controls",
            "_model_module_version": "1.5.0",
            "_model_name": "HTMLModel",
            "_view_count": null,
            "_view_module": "@jupyter-widgets/controls",
            "_view_module_version": "1.5.0",
            "_view_name": "HTMLView",
            "description": "",
            "description_tooltip": null,
            "layout": "IPY_MODEL_e729726846f745f78ebb4a3666eecef9",
            "placeholder": "​",
            "style": "IPY_MODEL_eecfc5cffea24fd38f36bf5ff8d853cf",
            "value": " 500/500 [01:03&lt;00:00,  7.47it/s]"
          }
        }
      }
    }
  },
  "nbformat": 4,
  "nbformat_minor": 0
}

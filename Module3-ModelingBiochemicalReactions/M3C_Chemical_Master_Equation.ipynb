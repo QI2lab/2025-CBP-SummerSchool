{
  "cells": [
    {
      "cell_type": "markdown",
      "metadata": {
        "id": "XU8bruLD1bLn"
      },
      "source": [
        "<html>\n",
        "    <summary></summary>\n",
        "         <div> <p></p> </div>\n",
        "         <div style=\"font-size: 20px; width: 800px;\"> \n",
        "              <h1>\n",
        "               <left>Modeling Biological Processes - Chemical Master Equations</left>\n",
        "              </h1>\n",
        "              <p><left>============================================================================</left> </p>\n",
        "<pre>Course: ASU CBP Summer School 2025\n",
        "Instructor: Dr. Douglas Shepherd\n",
        "Contact Info: douglas.shepherd@asu.edu\n",
        "Authors: Dr. Michael May, Dr. Brian Munsky, Dr. Douglas Shepherd\n",
        "</pre>\n",
        "         </div>\n",
        "    </p>\n",
        "\n",
        "</html>\n",
        "\n",
        "<details>\n",
        "  <summary>Copyright info</summary>\n",
        "\n",
        "```\n",
        "Copyright 2024 Brian Munsky\n",
        "\n",
        "Redistribution and use in source and binary forms, with or without modification, are permitted provided that the following conditions are met:\n",
        "\n",
        "1. Redistributions of source code must retain the above copyright notice, this list of conditions and the following disclaimer.\n",
        "\n",
        "2. Redistributions in binary form must reproduce the above copyright notice, this list of conditions and the following disclaimer in the documentation and/or other materials provided with the distribution.\n",
        "\n",
        "3. Neither the name of the copyright holder nor the names of its contributors may be used to endorse or promote products derived from this software without specific prior written permission.\n",
        "\n",
        "THIS SOFTWARE IS PROVIDED BY THE COPYRIGHT HOLDERS AND CONTRIBUTORS \"AS IS\" AND ANY EXPRESS OR IMPLIED WARRANTIES, INCLUDING, BUT NOT LIMITED TO, THE IMPLIED WARRANTIES OF MERCHANTABILITY AND FITNESS FOR A PARTICULAR PURPOSE ARE DISCLAIMED. IN NO EVENT SHALL THE COPYRIGHT HOLDER OR CONTRIBUTORS BE LIABLE FOR ANY DIRECT, INDIRECT, INCIDENTAL, SPECIAL, EXEMPLARY, OR CONSEQUENTIAL DAMAGES (INCLUDING, BUT NOT LIMITED TO, PROCUREMENT OF SUBSTITUTE GOODS OR SERVICES; LOSS OF USE, DATA, OR PROFITS; OR BUSINESS INTERRUPTION) HOWEVER CAUSED AND ON ANY THEORY OF LIABILITY, WHETHER IN CONTRACT, STRICT LIABILITY, OR TORT (INCLUDING NEGLIGENCE OR OTHERWISE) ARISING IN ANY WAY OUT OF THE USE OF THIS SOFTWARE, EVEN IF ADVISED OF THE POSSIBILITY OF SUCH DAMAGE.\n",
        "```\n",
        "<details>\n",
        "\n"
      ]
    },
    {
      "cell_type": "markdown",
      "metadata": {},
      "source": [
        "<table class=\"tfo-notebook-buttons\" align=\"left\">\n",
        "  <td>\n",
        "    <a target=\"_blank\" href=\"https://colab.research.google.com/github/QI2lab/2025-CBP-SummerSchool/blob/main/Module3-ModelingBiochemicalReactions/M3C_Chemical_Master_Equation.ipynb\"><img src=\"https://www.tensorflow.org/images/colab_logo_32px.png\" />Run in Google Colab</a>\n",
        "  </td>\n",
        "  <td>\n",
        "    <a target=\"_blank\" href=\"https://github.com/QI2lab/2025-CBP-SummerSchool/blob/main/Module3-ModelingBiochemicalReactions/M3C_Chemical_Master_Equation.ipynb\"><img src=\"https://www.tensorflow.org/images/GitHub-Mark-32px.png\" />View source on GitHub</a>\n",
        "  </td>\n",
        "</table>"
      ]
    },
    {
      "cell_type": "markdown",
      "metadata": {},
      "source": [
        "----------\n",
        "# Learning Objectives for this Notebook:\n",
        "--------------\n",
        "\n",
        "After completing this notebook, you should be able to:\n",
        "* Define and describe the **Chemical Master Equation** in terms of stoichiometry vectors and propensity functions.\n",
        "* Define, and be able to construct the **state space** for a CME analysis.\n",
        "* Build a CME **Infinitesimal Generator matrix** using knowledge of stoichiometry vectors and propensity functions.\n",
        "* Recognize import properties of the **Infinitesimal Generator**, especially those involving special **eigenvalues** and **eigenvectors**. \n",
        "* Set up and solve the CME using **Finite State Projections** (FSP) using **ODE integrators** or **matrix exponentials**.\n",
        "* Make plots and animations of CME solutions."
      ]
    },
    {
      "cell_type": "markdown",
      "metadata": {},
      "source": [
        "# 1. Motivation for Computing Single-Cell distributions\n",
        "![alt text](Figures/ChemicalMasterEquation_2022/Slide2.png)\n",
        "![alt text](Figures/ChemicalMasterEquation_2022/Slide3.png)"
      ]
    },
    {
      "cell_type": "markdown",
      "metadata": {},
      "source": [
        "# 2. The Markov Chain Representation for Chemical Kinetics\n",
        "![alt text](Figures/ChemicalMasterEquation_2022/Slide6.png)\n",
        "![alt text](Figures/ChemicalMasterEquation_2022/Slide7.png)\n",
        "![alt text](Figures/ChemicalMasterEquation_2022/Slide8.png)"
      ]
    },
    {
      "cell_type": "markdown",
      "metadata": {},
      "source": [
        "# 3. The Chemical Master Equation\n",
        "\n",
        "![alt text](Figures/ChemicalMasterEquation_2022/Slide9.png)\n",
        "![alt text](Figures/ChemicalMasterEquation_2022/Slide11.png)\n"
      ]
    },
    {
      "cell_type": "markdown",
      "metadata": {},
      "source": [
        "# 4. The Infitesimal Generator Matrix\n",
        "![alt text](Figures/ChemicalMasterEquation_2022/Slide13.png)\n",
        "![alt text](Figures/ChemicalMasterEquation_2022/Slide15.png)\n",
        "![alt text](Figures/ChemicalMasterEquation_2022/Slide16.png)"
      ]
    },
    {
      "cell_type": "markdown",
      "metadata": {},
      "source": [
        "# 5. The Finite State Projection Approximation\n",
        "![alt text](Figures/ChemicalMasterEquation_2022/Slide17.png)\n",
        "![alt text](Figures/ChemicalMasterEquation_2022/Slide18.png)\n",
        "![alt text](Figures/ChemicalMasterEquation_2022/Slide19.png)\n",
        "![alt text](Figures/ChemicalMasterEquation_2022/Slide20.png)\n",
        "![alt text](Figures/ChemicalMasterEquation_2022/Slide21.png)\n",
        "![alt text](Figures/ChemicalMasterEquation_2022/Slide22.png)"
      ]
    },
    {
      "cell_type": "markdown",
      "metadata": {},
      "source": [
        "# 6. Python Codes\n",
        "## 6.1. Import Libraries\n",
        "```python"
      ]
    },
    {
      "cell_type": "code",
      "execution_count": null,
      "metadata": {
        "colab": {
          "background_save": true,
          "base_uri": "https://localhost:8080/"
        },
        "id": "rpL8hNLxODqc",
        "outputId": "31b98061-1e51-4777-d7f6-73e5dcba84db"
      },
      "outputs": [],
      "source": [
        "# Load necessary packages and libraries\n",
        "import matplotlib.pyplot as plt\n",
        "import numpy as np\n",
        "import scipy\n",
        "from IPython.display import Image\n",
        "import matplotlib.animation as animation\n",
        "from matplotlib import rc\n",
        "from scipy.integrate import ode\n",
        "\n",
        "rc('animation', html='jshtml')\n",
        "figSize=600"
      ]
    },
    {
      "cell_type": "markdown",
      "metadata": {},
      "source": [
        "## 6.2. Construct the Infinitesimal Generator\n",
        "\n",
        "Assuming that one has a defined model (in terms of stoichiometry matrix and propensity functions), then the main new concept needed to solve the CME using the FSP approach is to generate athe infitesimal generator matrix.  Below is a simple code to achieve this task."
      ]
    },
    {
      "cell_type": "code",
      "execution_count": null,
      "metadata": {},
      "outputs": [],
      "source": [
        "# Here, I provide a function to build the infinitesimal generator matrix for a continuous time Markov chain.\n",
        "# The function takes the stoichiometry matrix S, the propensity vector function W, the states in the FSP approximation, and the time t as input.\n",
        "# The function returns the infinitesimal generator matrix.\n",
        "\n",
        "def build_inf_gen(S, W, states, pars, t=0):\n",
        "    \"\"\" Build the infinitesimal generator matrix for a continuous time Markov chain.\n",
        "    S: Stoichiometry matrix\n",
        "    W: Propensity vector function\n",
        "    states: list of states in FSP approximation\n",
        "    t: time\n",
        "    \"\"\"\n",
        "    \n",
        "    # Determie the number of species, states and reactions\n",
        "    nSpecies, nStates = states.shape\n",
        "    nReactions = S.shape[1]\n",
        "    \n",
        "    # Compute the propensity functions for all states.\n",
        "    propensities = W(states, t, pars)\n",
        "\n",
        "    # Step through each reaction\n",
        "    infGens = []\n",
        "    infGen = np.zeros((nStates+1,nStates+1))\n",
        "    sink = np.zeros(nStates)\n",
        "    for mu in range(nReactions):\n",
        "        # Compute flow of probability out of all states due to reaction mu\n",
        "        infGens.append(-np.diag(propensities[mu,:]))\n",
        "        \n",
        "        for i in range(nStates):\n",
        "            # Compute the states after the reaction mu\n",
        "            newState = (states[:,i] + S[:,mu]).reshape(-1,1) \n",
        "\n",
        "            # Check if the state is non-negative\n",
        "            if np.all(newState >= 0):\n",
        "                # Find the index of the state\n",
        "                try:\n",
        "                    j = np.where((states == newState).all(axis=0))[0][0]\n",
        "                    infGens[mu][j,i] += propensities[mu,i]\n",
        "\n",
        "                except:\n",
        "                    sink[i] += propensities[mu,i]\n",
        "        # Add the current reaction to the infinitesimal generator\n",
        "        infGen[:nStates,:nStates] += infGens[mu]\n",
        "    \n",
        "    # Add the sink as the final row of the infinitesimal generator\n",
        "    infGen[nStates,:nStates] = sink\n",
        "\n",
        "    return infGens, sink, infGen"
      ]
    },
    {
      "cell_type": "markdown",
      "metadata": {},
      "source": [
        "# 7 Examples\n",
        "## 7.1. Bursting Gene Expression"
      ]
    },
    {
      "cell_type": "markdown",
      "metadata": {},
      "source": [
        "![alt text](Figures/StoichiometryAndPropensity_2023/Slide29.png)"
      ]
    },
    {
      "cell_type": "markdown",
      "metadata": {},
      "source": [
        "### (Steps 1-4) Define Stoichiomety Matrix And Propensity Functions"
      ]
    },
    {
      "cell_type": "code",
      "execution_count": null,
      "metadata": {},
      "outputs": [],
      "source": [
        "# Note - This code is copied exactly from the previous Module M5A.  We are going to use the same steps as\n",
        "# before to define the model.  The only difference is that we are going to use the Gillespie algorithm to\n",
        "# simulate the model instead of the ODE solver.\n",
        "\n",
        "# Step 1: The number of species is 3:  'OFF', 'ON', 'Protein'\n",
        "#         The initial conditions are:  x0 = [1, 0, 0]\n",
        "#         The initial condition corresponds to 1 molecule of 'OFF' and 0 molecules of 'ON' and 'Protein'\n",
        "#         The initial condition is defined as a 3 x 1 numpy array:\n",
        "x0 = np.array([1, 0, 5])\n",
        "\n",
        "# Step 2: The number of reactions is 4:\n",
        "#         R1:  OFF -> ON\n",
        "#         R2:  ON -> OFF\n",
        "#         R3:  ON -> ON + Protein\n",
        "#         R4:  Protein -> null\n",
        "\n",
        "# Step 3: The stoichiometry matrix is a 3 x 4 matrix:\n",
        "#         Rows correspond to species and columns correspond to reactions.\n",
        "#         The matrix is defined as follows:\n",
        "S = np.array([[-1, 1, 0, 0],\n",
        "        [1, -1, 0, 0],\n",
        "        [0, 0, 1, -1]])\n",
        "\n",
        "# Step 4: Define the reaction rate parameters as a dictionary\n",
        "pars = {'kon': 0.02, 'koff': 0.05, 'kP': 10, 'gam': 0.1}\n",
        "def W(x,t,pars=pars):\n",
        "  return np.array([pars['kon']*x[0],\n",
        "                   pars['koff']*x[1],\n",
        "                   pars['kP']*x[1],\n",
        "                   pars['gam']*x[2]])\n"
      ]
    },
    {
      "cell_type": "markdown",
      "metadata": {},
      "source": [
        "### Step 5 - Specify State Space"
      ]
    },
    {
      "cell_type": "code",
      "execution_count": null,
      "metadata": {},
      "outputs": [],
      "source": [
        "# Specify the State Space of the FSP projection.\n",
        "maxProtein = 180\n",
        "states = np.zeros((3, maxProtein*2+2))\n",
        "for i in range(maxProtein+1):\n",
        "    states[:,2*i:2*i+2] = [[1,0], [0,1], [i,i]]"
      ]
    },
    {
      "cell_type": "markdown",
      "metadata": {},
      "source": [
        "### Step 6 - Build Infinitesimal Generator Matrix."
      ]
    },
    {
      "cell_type": "code",
      "execution_count": null,
      "metadata": {},
      "outputs": [],
      "source": [
        "# Compute the Infinitesimal generators:\n",
        "infGens, sink, infGenTotal = build_inf_gen(S, W, states, pars)"
      ]
    },
    {
      "cell_type": "code",
      "execution_count": null,
      "metadata": {},
      "outputs": [],
      "source": [
        "#Show that probability is conserved by checking the column sum of the infinitesimal generator is zero.\n",
        "\n",
        "# Perform the column sum of 'infGenTotal'\n",
        "print('Maximum absolute column sum of the Infinitesimal Generator Matrix: ',\n",
        "       np.max(np.abs(np.sum(infGenTotal, axis=0))))"
      ]
    },
    {
      "cell_type": "markdown",
      "metadata": {},
      "source": [
        "### Step 7 - Specify the Initial Probability Distribution\n"
      ]
    },
    {
      "cell_type": "code",
      "execution_count": null,
      "metadata": {},
      "outputs": [],
      "source": [
        "# Here is a convenient code to find which index corresponds to the initial state:\n",
        "\n",
        "# Find which state corresponds to the initial condition\n",
        "idx0 = np.where([(states[:,i]==x0).all() for i in range(states.shape[1])])\n",
        "\n",
        "# Initialize the initial probability vector\n",
        "P0 = np.zeros(infGenTotal.shape[1])\n",
        "\n",
        "# Set the probability of the initial state to 1\n",
        "P0[idx0] = 1\n"
      ]
    },
    {
      "cell_type": "code",
      "execution_count": null,
      "metadata": {},
      "outputs": [],
      "source": [
        "print(x0, P0)"
      ]
    },
    {
      "cell_type": "markdown",
      "metadata": {},
      "source": [
        "### Step 8 - Solve the FSP"
      ]
    },
    {
      "cell_type": "code",
      "execution_count": null,
      "metadata": {},
      "outputs": [],
      "source": [
        "# Define the time span for the simulation\n",
        "tspan = np.linspace(0, 2000, 100)\n",
        "\n",
        "def FSPrhs(t, P):\n",
        "    return infGenTotal @ P\n",
        "\n",
        "def jac(t, P):\n",
        "    return infGenTotal"
      ]
    },
    {
      "cell_type": "code",
      "execution_count": null,
      "metadata": {},
      "outputs": [],
      "source": [
        "# Define the ODE solver\n",
        "solver = ode(FSPrhs, jac=jac)\n",
        "solver.set_integrator('vode', method='bdf')\n",
        "solver.set_initial_value(P0)\n",
        "\n",
        "# Solve the ODE\n",
        "P_approach1 = np.zeros((len(tspan), len(P0)))\n",
        "P_approach1[0,:] = P0\n",
        "for i in range(1, len(tspan)):\n",
        "    P_approach1[i,:] = solver.integrate(tspan[i])\n"
      ]
    },
    {
      "cell_type": "code",
      "execution_count": null,
      "metadata": {},
      "outputs": [],
      "source": [
        "# Plot the results\n",
        "plt.figure(figsize=(4,4))\n",
        "plt.plot(tspan, P_approach1[:,-1])\n",
        "\n",
        "plt.figure(figsize=(4,4))\n",
        "pProtein = P_approach1[:,:-1:2]+P_approach1[:,1:-1:2]\n",
        "plt.plot(np.log(pProtein[-1,:]))"
      ]
    },
    {
      "cell_type": "markdown",
      "metadata": {
        "id": "l1bkaZCd0ONp"
      },
      "source": [
        "Solve again using the matrix exponential approach.\n",
        "The solution of $P(x,t+\\Delta t)$ is given by\n",
        "\n",
        "$P(x,t+\\Delta t)=EXPM(A\\Delta t)\\cdot P(t)$"
      ]
    },
    {
      "cell_type": "code",
      "execution_count": null,
      "metadata": {
        "colab": {
          "background_save": true
        },
        "id": "wjkYmoCB0CSV"
      },
      "outputs": [],
      "source": [
        "deltaT = tspan[1]-tspan[0]\n",
        "expmAt = scipy.linalg.expm(infGenTotal*deltaT)\n",
        "\n",
        "# Solve the ODE\n",
        "P_approach2 = np.zeros((len(tspan), len(P0)))\n",
        "P_approach2[0,:] = P0\n",
        "for i in range(1, len(tspan)):\n",
        "    P_approach2[i,:] = expmAt @ P_approach2[i-1,:]\n"
      ]
    },
    {
      "cell_type": "code",
      "execution_count": null,
      "metadata": {
        "colab": {
          "background_save": true
        },
        "id": "8qbHxC31PD6L"
      },
      "outputs": [],
      "source": [
        "# Plot the results\n",
        "plt.figure(figsize=(4,4))\n",
        "plt.plot(tspan, P_approach1[:,-1])\n",
        "plt.plot(tspan, P_approach2[:,-1],'--')\n",
        "# labels\n",
        "plt.xlabel('Time')\n",
        "plt.ylabel('Escape Probability')\n",
        "plt.legend(['ODE Solver', 'Matrix Exponential'])\n",
        "\n",
        "plt.figure(figsize=(4,4))\n",
        "pProtein1 = P_approach1[:,:-1:2]+P_approach1[:,1:-1:2]\n",
        "pProtein2 = P_approach2[:,:-1:2]+P_approach2[:,1:-1:2]\n",
        "plt.plot(pProtein[-1,:])\n",
        "plt.plot(pProtein1[-1,:],'--')\n",
        "plt.xlabel('Protein Level')\n",
        "plt.ylabel('Probability')\n",
        "plt.legend(['ODE Solver', 'Matrix Exponential'])"
      ]
    },
    {
      "cell_type": "markdown",
      "metadata": {
        "id": "rSHJUeOPGvWL"
      },
      "source": [
        "**Compare the FSP Solution to the SSA solution.**"
      ]
    },
    {
      "cell_type": "code",
      "execution_count": null,
      "metadata": {},
      "outputs": [],
      "source": [
        "# Here is our Gillespie algorithm from Module M5B (slightly simplified)\n",
        "\n",
        "def gillespie(x0, t0, tmax, S, pars, trajectoryTimes = None):\n",
        "    # If the user did not provide specific time points, we will use the default\n",
        "    if trajectoryTimes is None:\n",
        "        trajectoryTimes = np.linspace(t0, tmax, 20)\n",
        "    \n",
        "    # Initialize the time and the state\n",
        "    t = t0\n",
        "    x = x0\n",
        "     \n",
        "    # Initialize the output\n",
        "    states = np.zeros((len(trajectoryTimes), len(x0)))\n",
        "\n",
        "    # next time index\n",
        "    nextTimeIndex = 0\n",
        "\n",
        "    # Run the simulation\n",
        "    while t < tmax:\n",
        "\n",
        "        Wx = W(x, t, pars)\n",
        "        Wx_sum = np.sum(Wx)\n",
        "\n",
        "        # Compute the time of the next reaction\n",
        "        t += -np.log(np.random.rand()) / Wx_sum\n",
        "\n",
        "        # Check to see if we need to save the state\n",
        "        while t >= trajectoryTimes[nextTimeIndex]:\n",
        "            states[nextTimeIndex] = x\n",
        "            nextTimeIndex += 1\n",
        "            if nextTimeIndex >= len(trajectoryTimes):\n",
        "                return states\n",
        "        \n",
        "        # Find the index of the next reaction\n",
        "        r = np.random.rand()\n",
        "        i = 0\n",
        "        W_sum = Wx[0]\n",
        "        while W_sum / Wx_sum < r:\n",
        "            i += 1\n",
        "            W_sum += Wx[i]\n",
        "\n",
        "        # Update the state\n",
        "        x = x + S[:, i]\n",
        "\n",
        "def nGillespies(x0, t0, tmax, S, pars, nTrajectories, trajectoryTimes = None):\n",
        "    if trajectoryTimes is None:\n",
        "        trajectoryTimes = np.linspace(t0, tmax, 20)\n",
        "    \n",
        "    # Initialize the output\n",
        "    states = np.zeros((nTrajectories, len(trajectoryTimes), len(x0)))\n",
        "\n",
        "    # Run the simulation\n",
        "    for i in range(nTrajectories):\n",
        "        states[i,:,:] = gillespie(x0, t0, tmax, S, pars, trajectoryTimes)\n",
        "    \n",
        "    return states"
      ]
    },
    {
      "cell_type": "code",
      "execution_count": null,
      "metadata": {
        "colab": {
          "background_save": true
        },
        "id": "UWojH1ReGuk5"
      },
      "outputs": [],
      "source": [
        "# Run the Gillespie algorithm\n",
        "nTrajectories = 100\n",
        "SSAsolns = nGillespies(x0, 0, np.max(tspan), S, pars, nTrajectories, tspan)"
      ]
    },
    {
      "cell_type": "code",
      "execution_count": null,
      "metadata": {},
      "outputs": [],
      "source": [
        "# Plot a histogram of the results at the final time.\n",
        "\n",
        "proteinCounts = SSAsolns[:,-1,2]\n",
        "plt.hist(proteinCounts, bins=range(0, maxProtein+1), density=True)\n",
        "plt.plot(pProtein[-1,:], alpha=0.5)\n",
        "\n",
        "plt.xlabel('Protein Level')\n",
        "plt.ylabel('Probability')\n",
        "plt.legend(['FSP', 'Gillespie'])"
      ]
    }
  ],
  "metadata": {
    "colab": {
      "provenance": []
    },
    "kernelspec": {
      "display_name": "Python 3",
      "language": "python",
      "name": "python3"
    },
    "language_info": {
      "codemirror_mode": {
        "name": "ipython",
        "version": 3
      },
      "file_extension": ".py",
      "mimetype": "text/x-python",
      "name": "python",
      "nbconvert_exporter": "python",
      "pygments_lexer": "ipython3",
      "version": "3.10.16"
    }
  },
  "nbformat": 4,
  "nbformat_minor": 0
}

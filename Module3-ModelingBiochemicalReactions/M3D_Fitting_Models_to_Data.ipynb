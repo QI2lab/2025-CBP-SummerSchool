{
  "cells": [
    {
      "cell_type": "markdown",
      "metadata": {
        "id": "XU8bruLD1bLn"
      },
      "source": [
        "<html>\n",
        "    <summary></summary>\n",
        "         <div> <p></p> </div>\n",
        "         <div style=\"font-size: 20px; width: 800px;\"> \n",
        "              <h1>\n",
        "               <left>Group practice on fitting models to data.</left>\n",
        "              </h1>\n",
        "              <p><left>============================================================================</left> </p>\n",
        "<pre>Course: ASU CBP Summer School 2025\n",
        "Instructor: Dr. Douglas Shepherd\n",
        "Contact Info: douglas.shepherd@asu.edu\n",
        "Authors: Dr. Douglas Shepherd\n",
        "</pre>\n",
        "         </div>\n",
        "    </p>\n",
        "\n",
        "</html>\n",
        "\n",
        "<details>\n",
        "  <summary>Copyright info</summary>\n",
        "\n",
        "```\n",
        "Copyright 2025 Douglas Shepherd\n",
        "\n",
        "Redistribution and use in source and binary forms, with or without modification, are permitted provided that the following conditions are met:\n",
        "\n",
        "1. Redistributions of source code must retain the above copyright notice, this list of conditions and the following disclaimer.\n",
        "\n",
        "2. Redistributions in binary form must reproduce the above copyright notice, this list of conditions and the following disclaimer in the documentation and/or other materials provided with the distribution.\n",
        "\n",
        "3. Neither the name of the copyright holder nor the names of its contributors may be used to endorse or promote products derived from this software without specific prior written permission.\n",
        "\n",
        "THIS SOFTWARE IS PROVIDED BY THE COPYRIGHT HOLDERS AND CONTRIBUTORS \"AS IS\" AND ANY EXPRESS OR IMPLIED WARRANTIES, INCLUDING, BUT NOT LIMITED TO, THE IMPLIED WARRANTIES OF MERCHANTABILITY AND FITNESS FOR A PARTICULAR PURPOSE ARE DISCLAIMED. IN NO EVENT SHALL THE COPYRIGHT HOLDER OR CONTRIBUTORS BE LIABLE FOR ANY DIRECT, INDIRECT, INCIDENTAL, SPECIAL, EXEMPLARY, OR CONSEQUENTIAL DAMAGES (INCLUDING, BUT NOT LIMITED TO, PROCUREMENT OF SUBSTITUTE GOODS OR SERVICES; LOSS OF USE, DATA, OR PROFITS; OR BUSINESS INTERRUPTION) HOWEVER CAUSED AND ON ANY THEORY OF LIABILITY, WHETHER IN CONTRACT, STRICT LIABILITY, OR TORT (INCLUDING NEGLIGENCE OR OTHERWISE) ARISING IN ANY WAY OUT OF THE USE OF THIS SOFTWARE, EVEN IF ADVISED OF THE POSSIBILITY OF SUCH DAMAGE.\n",
        "```\n",
        "<details>\n",
        "\n"
      ]
    },
    {
      "cell_type": "markdown",
      "metadata": {},
      "source": [
        "<table class=\"tfo-notebook-buttons\" align=\"left\">\n",
        "  <td>\n",
        "    <a target=\"_blank\" href=\"https://colab.research.google.com/github/QI2lab/2025-CBP-SummerSchool/blob/main/Module3-ModelingBiochemicalReactions/M3D_Fitting_Models_to_Data.ipynb\"><img src=\"https://www.tensorflow.org/images/colab_logo_32px.png\" />Run in Google Colab</a>\n",
        "  </td>\n",
        "  <td>\n",
        "    <a target=\"_blank\" href=\"https://github.com/QI2lab/2025-CBP-SummerSchool/blob/main/Module3-ModelingBiochemicalReactions/M3D_Fitting_Models_to_Data.ipynb\"><img src=\"https://www.tensorflow.org/images/GitHub-Mark-32px.png\" />View source on GitHub</a>\n",
        "  </td>\n",
        "</table>"
      ]
    },
    {
      "cell_type": "markdown",
      "metadata": {},
      "source": [
        "----------\n",
        "# Learning Objectives for this group exercise:\n",
        "--------------\n",
        "\n",
        "After this group exercise, you should be able to:\n",
        "* Define how to use least-squares fitting to fit a model to data\n",
        "* Perform parameter fitting for an ODE, SSA, and CME model of birth-decay"
      ]
    },
    {
      "cell_type": "markdown",
      "metadata": {},
      "source": [
        "![alt text](Figures/StoichiometryAndPropensity_2023/Slide27.png)"
      ]
    },
    {
      "cell_type": "markdown",
      "metadata": {},
      "source": [
        "# 1. Simulate birth-decay using random parameters"
      ]
    },
    {
      "cell_type": "code",
      "execution_count": null,
      "metadata": {},
      "outputs": [],
      "source": [
        "# Load necessary packages and libraries\n",
        "import matplotlib.pyplot as plt\n",
        "import numpy as np\n",
        "from matplotlib import rc\n",
        "rc('animation', html='jshtml')\n",
        "figSize=600\n",
        "rng = np.random.default_rng()"
      ]
    },
    {
      "cell_type": "markdown",
      "metadata": {},
      "source": [
        "### Create the birth-decay model system"
      ]
    },
    {
      "cell_type": "code",
      "execution_count": null,
      "metadata": {},
      "outputs": [],
      "source": [
        "# Here we have a single species (N=1) that starts at x0 = 10 mg/mL\n",
        "x0=np.array([10])\n",
        "\n",
        "# Define the stoichiometry matrix as a 1 (species) by 2 (reaction) numpy array,\n",
        "S=np.array([1,-1])\n",
        "\n",
        "# Define the reaction rate parameters as a dictionary\n",
        "k1_random = rng.uniform(low=0.3, high=0.7)\n",
        "k2_random = rng.uniform(low=0.3, high=0.7)\n",
        "pars = {'k1': k1_random, 'k2': k2_random}\n",
        "# Units are:  k1 = (mg/mL) / minute\n",
        "#             k2 = 1 / minute\n",
        "\n",
        "# Define the reaction rate (propensity) functions\n",
        "def W(x,t,pars=pars):\n",
        "  return np.array([pars['k1'],pars['k2']*x[0]])"
      ]
    },
    {
      "cell_type": "markdown",
      "metadata": {},
      "source": [
        "### Define the functions needed to run an SSA at set time points"
      ]
    },
    {
      "cell_type": "code",
      "execution_count": null,
      "metadata": {},
      "outputs": [],
      "source": [
        "# Run the many SSAs using the random parameters\n",
        "# Let's define a simple function that computes the time of the next reaction given our propensity functions:\n",
        "def next_time(x, t, pars):\n",
        "    return -np.log(np.random.rand()) / np.sum(W(x, t, pars))\n",
        "\n",
        "# Let's define a simple function that computes the index of the next reaction given our propensity functions:\n",
        "def next_reaction(x, t, pars):\n",
        "    Wx = W(x, t, pars)\n",
        "    Wx_sum = np.sum(Wx)\n",
        "    r = np.random.rand()\n",
        "    i = 0\n",
        "    W_sum = Wx[0]\n",
        "    while W_sum / Wx_sum < r:\n",
        "        i += 1\n",
        "        W_sum += Wx[i]\n",
        "    return i\n",
        "\n",
        "# Gillespie algorithm to return the trajectories at specific time points.\n",
        "def gillespie1(x0, t0, tmax, S, pars, trajectory_times = None):\n",
        "    # If the user did not provide specific time points, we will use the default\n",
        "    if trajectory_times is None:\n",
        "        trajectory_times = np.linspace(t0, tmax, 20)\n",
        "    \n",
        "    # Initialize the time and the state\n",
        "    t = t0\n",
        "    x = x0\n",
        "     \n",
        "    # Initialize the output\n",
        "    states = np.zeros((len(trajectory_times), len(x0)))\n",
        "\n",
        "    # next time index\n",
        "    nextTimeIndex = 0\n",
        "\n",
        "    # Run the simulation\n",
        "    while t < tmax:\n",
        "        # Compute the time of the next reaction\n",
        "        tau = next_time(x, t, pars)\n",
        "        t += tau\n",
        "        \n",
        "        # Check to see if we need to save the state\n",
        "        while t >= trajectory_times[nextTimeIndex]:\n",
        "            states[nextTimeIndex] = x\n",
        "            nextTimeIndex += 1\n",
        "            if nextTimeIndex >= len(trajectory_times):\n",
        "                return states\n",
        "        \n",
        "        # Compute the index of the next reaction\n",
        "        i = next_reaction(x, t, pars)\n",
        "\n",
        "        # Update the state\n",
        "        x = x + S[:, i]"
      ]
    },
    {
      "cell_type": "markdown",
      "metadata": {},
      "source": [
        "### Run the SSA and plot the results for the model"
      ]
    },
    {
      "cell_type": "code",
      "execution_count": null,
      "metadata": {},
      "outputs": [],
      "source": [
        "n_traj = 1000\n",
        "t_max = 100\n",
        "trajectory_times = np.linspace(0,t_max,1000)\n",
        "\n",
        "# Initialize the results\n",
        "experimental_results = np.zeros((n_traj, len(trajectory_times)))\n",
        "for i in range(n_traj):\n",
        "    experimental_results[i] = gillespie1(x0, 0, t_max, S, pars, trajectory_times)[:, 2]\n",
        "\n",
        "# Plot the results for the protein counts\n",
        "plt.plot(trajectory_times, experimental_results.T, color='gray', alpha=0.5)\n",
        "plt.plot(trajectory_times, np.mean(experimental_results, axis=0), color='r', linewidth=2)\n",
        "plt.fill_between(trajectory_times, np.mean(experimental_results, axis=0) - np.std(experimental_results, axis=0), np.mean(experimental_results, axis=0) + np.std(experimental_results, axis=0), color='r', alpha=0.3)\n",
        "plt.xlabel('Time')\n",
        "plt.ylabel('Number of molecules')\n",
        "plt.title('Counts versus time')\n",
        "plt.show()"
      ]
    },
    {
      "cell_type": "markdown",
      "metadata": {},
      "source": [
        "# 2. Fitting the data"
      ]
    },
    {
      "cell_type": "markdown",
      "metadata": {},
      "source": [
        "### Strategy"
      ]
    },
    {
      "cell_type": "markdown",
      "metadata": {},
      "source": [
        "1. Define what kind of model to use (ODE, SSA, or CME)\n",
        "2. Decide on a fitting routine to use (least squares, likelihood, etc...)\n",
        "3. Run the fitting and compare the obtained $k_1$, $k_2$ to the known $k1_random$, $k2_random$\n",
        "4. Discuss how to improve your parameter estimates"
      ]
    }
  ],
  "metadata": {
    "colab": {
      "provenance": []
    },
    "kernelspec": {
      "display_name": "Python 3",
      "language": "python",
      "name": "python3"
    },
    "language_info": {
      "codemirror_mode": {
        "name": "ipython",
        "version": 3
      },
      "file_extension": ".py",
      "mimetype": "text/x-python",
      "name": "python",
      "nbconvert_exporter": "python",
      "pygments_lexer": "ipython3",
      "version": "3.10.16"
    }
  },
  "nbformat": 4,
  "nbformat_minor": 0
}

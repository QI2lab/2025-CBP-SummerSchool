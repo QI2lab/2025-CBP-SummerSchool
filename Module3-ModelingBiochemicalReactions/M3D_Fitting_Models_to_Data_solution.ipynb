{
  "cells": [
    {
      "cell_type": "markdown",
      "metadata": {
        "id": "XU8bruLD1bLn"
      },
      "source": [
        "<html>\n",
        "    <summary></summary>\n",
        "         <div> <p></p> </div>\n",
        "         <div style=\"font-size: 20px; width: 800px;\">\n",
        "              <h1>\n",
        "               <left>Group practice on fitting models to data.</left>\n",
        "              </h1>\n",
        "              <p><left>============================================================================</left> </p>\n",
        "<pre>Course: ASU CBP Summer School 2025\n",
        "Instructor: Dr. Douglas Shepherd\n",
        "Contact Info: douglas.shepherd@asu.edu\n",
        "Authors: Dr. Douglas Shepherd\n",
        "</pre>\n",
        "         </div>\n",
        "    </p>\n",
        "\n",
        "</html>\n",
        "\n",
        "<details>\n",
        "  <summary>Copyright info</summary>\n",
        "\n",
        "```\n",
        "Copyright 2025 Douglas Shepherd\n",
        "\n",
        "Redistribution and use in source and binary forms, with or without modification, are permitted provided that the following conditions are met:\n",
        "\n",
        "1. Redistributions of source code must retain the above copyright notice, this list of conditions and the following disclaimer.\n",
        "\n",
        "2. Redistributions in binary form must reproduce the above copyright notice, this list of conditions and the following disclaimer in the documentation and/or other materials provided with the distribution.\n",
        "\n",
        "3. Neither the name of the copyright holder nor the names of its contributors may be used to endorse or promote products derived from this software without specific prior written permission.\n",
        "\n",
        "THIS SOFTWARE IS PROVIDED BY THE COPYRIGHT HOLDERS AND CONTRIBUTORS \"AS IS\" AND ANY EXPRESS OR IMPLIED WARRANTIES, INCLUDING, BUT NOT LIMITED TO, THE IMPLIED WARRANTIES OF MERCHANTABILITY AND FITNESS FOR A PARTICULAR PURPOSE ARE DISCLAIMED. IN NO EVENT SHALL THE COPYRIGHT HOLDER OR CONTRIBUTORS BE LIABLE FOR ANY DIRECT, INDIRECT, INCIDENTAL, SPECIAL, EXEMPLARY, OR CONSEQUENTIAL DAMAGES (INCLUDING, BUT NOT LIMITED TO, PROCUREMENT OF SUBSTITUTE GOODS OR SERVICES; LOSS OF USE, DATA, OR PROFITS; OR BUSINESS INTERRUPTION) HOWEVER CAUSED AND ON ANY THEORY OF LIABILITY, WHETHER IN CONTRACT, STRICT LIABILITY, OR TORT (INCLUDING NEGLIGENCE OR OTHERWISE) ARISING IN ANY WAY OUT OF THE USE OF THIS SOFTWARE, EVEN IF ADVISED OF THE POSSIBILITY OF SUCH DAMAGE.\n",
        "```\n",
        "<details>\n",
        "\n"
      ]
    },
    {
      "cell_type": "markdown",
      "metadata": {
        "id": "2h34Jmln6lB9"
      },
      "source": [
        "<table class=\"tfo-notebook-buttons\" align=\"left\">\n",
        "  <td>\n",
        "    <a target=\"_blank\" href=\"https://colab.research.google.com/github/QI2lab/2025-CBP-SummerSchool/blob/main/Module3-ModelingBiochemicalReactions/M3D_Fitting_Models_to_Data.ipynb\"><img src=\"https://www.tensorflow.org/images/colab_logo_32px.png\" />Run in Google Colab</a>\n",
        "  </td>\n",
        "  <td>\n",
        "    <a target=\"_blank\" href=\"https://github.com/QI2lab/2025-CBP-SummerSchool/blob/main/Module3-ModelingBiochemicalReactions/M3D_Fitting_Models_to_Data.ipynb\"><img src=\"https://www.tensorflow.org/images/GitHub-Mark-32px.png\" />View source on GitHub</a>\n",
        "  </td>\n",
        "</table>"
      ]
    },
    {
      "cell_type": "markdown",
      "metadata": {
        "id": "8vNQ-Fwa6lB-"
      },
      "source": [
        "----------\n",
        "# Learning Objectives for this group exercise:\n",
        "--------------\n",
        "\n",
        "After this group exercise, you should be able to:\n",
        "* Define how to use least-squares error to provide a goodness-of-fit metric for a model to data\n",
        "* Define how to use a parametric distibution test to provide a goodness-of-fit metric for a model to data\n",
        "* Perform parameter fitting for an ODE, SSA, and CME model of birth-decay"
      ]
    },
    {
      "cell_type": "markdown",
      "metadata": {
        "id": "qL2I6YZz6lB_"
      },
      "source": [
        "![alt text](https://github.com/QI2lab/2025-CBP-SummerSchool/blob/main/Module3-ModelingBiochemicalReactions/Figures/StoichiometryAndPropensity_2023/Slide27.png?raw=1)"
      ]
    },
    {
      "cell_type": "code",
      "execution_count": 1,
      "metadata": {
        "id": "a7ryNT5w6lCA"
      },
      "outputs": [],
      "source": [
        "# Load necessary packages and libraries\n",
        "import matplotlib.pyplot as plt\n",
        "import numpy as np\n",
        "from matplotlib import rc\n",
        "rc('animation', html='jshtml')\n",
        "figSize=600\n",
        "rng = np.random.default_rng()"
      ]
    },
    {
      "cell_type": "markdown",
      "metadata": {
        "id": "F_2uInhx6lCA"
      },
      "source": [
        "# 1. Simulate birth-decay using random parameters"
      ]
    },
    {
      "cell_type": "markdown",
      "metadata": {
        "id": "HyjXFNQf6lCB"
      },
      "source": [
        "### Create the birth-decay model system\n",
        "This system will have three randomly drawn parameters:\n",
        "1. $N_{initial}^{experiment}$, the number of starting molecules.\n",
        "2. $k_{1}^{experiment}$, the birth rate.\n",
        "2. $k_{2}^{experiment}$, the decay rate."
      ]
    },
    {
      "cell_type": "markdown",
      "metadata": {
        "id": "82fsgLWJ6lCC"
      },
      "source": [
        "### Define the functions needed to run an SSA at set time points"
      ]
    },
    {
      "cell_type": "code",
      "execution_count": 6,
      "metadata": {
        "id": "E7cs9D-cbZdZ"
      },
      "outputs": [],
      "source": [
        "def initial_condition():\n",
        "  # Here we have a single species (N=1) with units x0 = (mg/mL)\n",
        "  x0=np.array([rng.uniform(low=5,high=10)])\n",
        "\n",
        "  return x0\n",
        "\n",
        "def stoichometry():\n",
        "  # Define the stoichiometry matrix as a 1 (species) by 2 (reaction) numpy array,\n",
        "  S=np.array([[1,-1]])\n",
        "\n",
        "  return S\n",
        "\n",
        "def propensities():\n",
        "  # Define the reaction rate parameters as a dictionary\n",
        "  k1_experiment = rng.uniform(low=0.15, high=0.35)\n",
        "  k2_experiment = rng.uniform(low=0.01, high=0.1)\n",
        "  pars = {'k1': k1_experiment, 'k2': k2_experiment}\n",
        "  # Units are:  k1 = (mg/mL) / minute\n",
        "  #             k2 = 1 / minute\n",
        "\n",
        "  return pars\n",
        "\n",
        "  # Define the reaction rate (propensity) functions\n",
        "def W(x,t,pars):\n",
        "  return np.array([pars['k1'],pars['k2']*x[0]])"
      ]
    },
    {
      "cell_type": "code",
      "execution_count": 2,
      "metadata": {
        "id": "2JwCrCop6lCD"
      },
      "outputs": [],
      "source": [
        "# Run the many SSAs using the random parameters\n",
        "# Let's define a simple function that computes the time of the next reaction given our propensity functions:\n",
        "def next_time(x, t, pars):\n",
        "    return -np.log(np.random.rand()) / np.sum(W(x, t, pars))\n",
        "\n",
        "# Let's define a simple function that computes the index of the next reaction given our propensity functions:\n",
        "def next_reaction(x, t, pars):\n",
        "    Wx = W(x, t, pars)\n",
        "    Wx_sum = np.sum(Wx)\n",
        "    r = np.random.rand()\n",
        "    i = 0\n",
        "    W_sum = Wx[0]\n",
        "    while W_sum / Wx_sum < r:\n",
        "        i += 1\n",
        "        W_sum += Wx[i]\n",
        "    return i\n",
        "\n",
        "# Gillespie algorithm to return the trajectories at specific time points.\n",
        "def gillespie1(x0, t0, tmax, S, pars, trajectory_times):\n",
        "\n",
        "    # Initialize the time and the state\n",
        "    t = t0\n",
        "    x = x0\n",
        "\n",
        "    # Initialize the output\n",
        "    states = np.zeros((len(trajectory_times), len(x0)))\n",
        "\n",
        "    # next time index\n",
        "    nextTimeIndex = 0\n",
        "\n",
        "    # Run the simulation\n",
        "    while t < tmax:\n",
        "        # Compute the time of the next reaction\n",
        "        tau = next_time(x, t, pars)\n",
        "        t += tau\n",
        "\n",
        "        # Check to see if we need to save the state\n",
        "        while t >= trajectory_times[nextTimeIndex]:\n",
        "            states[nextTimeIndex] = x\n",
        "            nextTimeIndex += 1\n",
        "            if nextTimeIndex >= len(trajectory_times):\n",
        "                return np.squeeze(states)\n",
        "\n",
        "        # Compute the index of the next reaction\n",
        "        i = next_reaction(x, t, pars)\n",
        "\n",
        "        # Update the state\n",
        "        x = x + S[:, i]"
      ]
    },
    {
      "cell_type": "markdown",
      "metadata": {
        "id": "NhJfDqjv6lCD"
      },
      "source": [
        "### Run the simulated experiment\n",
        "  \n",
        "We will treat this like a simulated experiment, where you have limited time and resources. For our purposes, that means that the number of experiments * number of time points has to be less than 500 ($n_{traj} \\times n_{timepoints} <= 500$)"
      ]
    },
    {
      "cell_type": "code",
      "execution_count": 28,
      "metadata": {
        "id": "y_mOmqWE6lCE"
      },
      "outputs": [],
      "source": [
        "def run_simulated_experiment(n_traj,t_max,n_timepoints):\n",
        "\n",
        "  x0 = initial_condition()\n",
        "  S = stoichometry()\n",
        "  pars = propensities()\n",
        "\n",
        "  assert n_traj * n_timepoints <= 500, \"n_traj * n_timepoints must be less than 1000\"\n",
        "  trajectory_times = np.linspace(0,t_max,n_timepoints)\n",
        "\n",
        "  # Initialize the results\n",
        "  trajectories = np.zeros((n_traj, len(trajectory_times)))\n",
        "  for i in range(n_traj):\n",
        "      trajectories[i,:] = gillespie1(x0, 0, t_max, S, pars, trajectory_times)\n",
        "\n",
        "  return trajectories, trajectory_times, (x0,pars['k1'],pars['k2'])\n",
        "\n",
        "n_traj = 10\n",
        "t_max = 100\n",
        "n_timepoints = 50\n",
        "experimental_results, trajectory_times, experimental_parameters = run_simulated_experiment(n_traj,t_max,n_timepoints)"
      ]
    },
    {
      "cell_type": "markdown",
      "metadata": {
        "id": "X5sbmK4C6lCE"
      },
      "source": [
        "### Plot the simulated experiment results"
      ]
    },
    {
      "cell_type": "code",
      "execution_count": null,
      "metadata": {
        "colab": {
          "base_uri": "https://localhost:8080/",
          "height": 927
        },
        "id": "1elrhEcX6lCE",
        "outputId": "32b6a5a4-ec1a-4807-eba2-f61127c7c95a"
      },
      "outputs": [],
      "source": [
        "# Plot the results for the molecule counts\n",
        "plt.plot(trajectory_times, experimental_results.T, color='gray', alpha=0.1)\n",
        "plt.xlabel('Time')\n",
        "plt.ylabel('Discrete number of molecules')\n",
        "plt.title('Counts versus time')\n",
        "plt.show()\n",
        "\n",
        "plt.plot(trajectory_times, np.mean(experimental_results, axis=0), color='r', linewidth=2)\n",
        "plt.fill_between(trajectory_times, np.mean(experimental_results, axis=0) - np.std(experimental_results, axis=0), np.mean(experimental_results, axis=0) + np.std(experimental_results, axis=0), color='r', alpha=0.3)\n",
        "plt.xlabel('Time')\n",
        "plt.ylabel('Mean and std. dev. for number of molecules')\n",
        "plt.title('Counts versus time')\n",
        "plt.show()"
      ]
    },
    {
      "cell_type": "markdown",
      "metadata": {
        "id": "EgXd41wl6lCE"
      },
      "source": [
        "# 2. Fitting the data"
      ]
    },
    {
      "cell_type": "markdown",
      "metadata": {
        "id": "6R0nF0Hp6lCE"
      },
      "source": [
        "### Strategy"
      ]
    },
    {
      "cell_type": "markdown",
      "metadata": {
        "id": "CBwaFHwC6lCF"
      },
      "source": [
        "1. Define what kind of model to use (ODE, SSA, or CME)\n",
        "2. Decide on a fitting routine to use (least squares, likelihood, etc...)\n",
        "3. Run the fitting and compare the obtained $k_1$, $k_2$ to the known $k_1^{experiment}$, $k_2^{experiment}$\n",
        "4. Discuss how to improve your parameter estimates"
      ]
    },
    {
      "cell_type": "code",
      "execution_count": 30,
      "metadata": {
        "id": "fTiHDaaw_rf2"
      },
      "outputs": [],
      "source": [
        "from scipy.integrate import odeint\n",
        "from scipy.optimize import minimize"
      ]
    },
    {
      "cell_type": "markdown",
      "metadata": {
        "id": "HNlNiuil-jMe"
      },
      "source": [
        "### Use an ODE model (Module 3A slides)"
      ]
    },
    {
      "cell_type": "markdown",
      "metadata": {
        "id": "tU3N5J5hXkC3"
      },
      "source": [
        "### Define the ODE model"
      ]
    },
    {
      "cell_type": "code",
      "execution_count": 31,
      "metadata": {
        "id": "LyQ0VS3z-nYP"
      },
      "outputs": [],
      "source": [
        "#FILL IN THESE FUNCTIONS\n",
        "\n",
        "# Define the reaction rate (propensity) functions\n",
        "def W(x,t,pars):\n",
        "  return np.array([pars['k1'],pars['k2']*x[0]])\n",
        "\n",
        "# Define the RHS of the ODE:\n",
        "def dxdt(x,t,S,pars):\n",
        "  return S @ W(x,t,pars=pars)\n",
        "\n",
        "def ode_model(t, x0, k1, k2):\n",
        "  # Define the intial condition. It is now a parameter we are fitting for!\n",
        "  x = np.array([x0])\n",
        "\n",
        "  # Define the stoichiometry matrix as a 1 (species) by 2 (reaction) numpy array\n",
        "  S=np.array([[1,-1]])\n",
        "\n",
        "  # Define the reaction rate parameters as a dictionary\n",
        "  # These are now parameters we are fitting for!\n",
        "  pars = {'k1': k1, 'k2': k2}\n",
        "  # Units are:  k1 = (mg/mL) / minute\n",
        "  #             k2 = 1 / minute\n",
        "\n",
        "  # Pass the pars dictionary to the dxdt function\n",
        "  trajectory=odeint(dxdt, x, t, args=(S, pars))\n",
        "\n",
        "  return trajectory[:,0] # Return only the first column since we have only one species"
      ]
    },
    {
      "cell_type": "markdown",
      "metadata": {
        "id": "U1RMeY6gAFjn"
      },
      "source": [
        "### Fit the ODE model to the mean of the data at the observed time points"
      ]
    },
    {
      "cell_type": "code",
      "execution_count": 32,
      "metadata": {
        "id": "Qs5si4KU-XMp"
      },
      "outputs": [],
      "source": [
        "# Define a function that calculates the sum of squared errors between the ODE model and the experimental data\n",
        "def ode_error_function(params, t, data):\n",
        "    x0, k1, k2 = params\n",
        "    model_output = ode_model(t, x0, k1, k2)\n",
        "    return np.sum((model_output - data)**2)\n",
        "\n",
        "# define an initial guess for the parameters [x0,k1,k2]\n",
        "initial_guess = [1,0.5,0.5] #FILL IN THESE PARAMETERS\n",
        "\n",
        "# Define bounds for the parameters [x0, k1, k2]\n",
        "# These bounds should be reasonable based on the expected values in your system\n",
        "bounds = [(0, np.inf), (0, np.inf), (0, np.inf)]\n",
        "\n",
        "# Fit the ODE model to the mean of the data at the observed time points using minimize\n",
        "result = minimize(ode_error_function, initial_guess, args=(trajectory_times, np.mean(experimental_results, axis=0)), bounds=bounds)\n",
        "\n",
        "# Extract the fitted parameters\n",
        "popt = result.x"
      ]
    },
    {
      "cell_type": "markdown",
      "metadata": {
        "id": "Aj2i8L31BtA_"
      },
      "source": [
        "### Output the results of the fitting routine"
      ]
    },
    {
      "cell_type": "code",
      "execution_count": 37,
      "metadata": {
        "colab": {
          "base_uri": "https://localhost:8080/"
        },
        "id": "T_gTBejDBvpX",
        "outputId": "fc679341-e71c-422e-e321-71196e9e2aa9"
      },
      "outputs": [
        {
          "name": "stdout",
          "output_type": "stream",
          "text": [
            "Fitted parameters are x(0) = 6.33; k1 = 1.96; k2 = 0.44\n",
            "Correct parameters are x(0) = 6.31; k1 = 0.29; k2 = 0.07\n"
          ]
        }
      ],
      "source": [
        "print(f\"Fitted parameters are x(0) = {round(popt[0],2)}; k1 = {round(popt[1],2)}; k2 = {round(popt[2],2)}\")\n",
        "print(f\"Correct parameters are x(0) = {round(experimental_parameters[0][0],2)}; k1 = {round(experimental_parameters[1],2)}; k2 = {round(experimental_parameters[2],2)}\")"
      ]
    },
    {
      "cell_type": "markdown",
      "metadata": {
        "id": "DoPVwqu7B2vf"
      },
      "source": [
        "### Plot solution using fitted parameters vs data"
      ]
    },
    {
      "cell_type": "code",
      "execution_count": 38,
      "metadata": {
        "colab": {
          "base_uri": "https://localhost:8080/",
          "height": 472
        },
        "id": "eLS0syMwB7RY",
        "outputId": "2520e04f-c39f-4ace-86da-75c4212dd00d"
      },
      "outputs": [
        {
          "data": {
            "image/png": "[encoded data removed]",
            "text/plain": [
              "<Figure size 640x480 with 1 Axes>"
            ]
          },
          "metadata": {},
          "output_type": "display_data"
        }
      ],
      "source": [
        "# Plot the mean of the experimental results\n",
        "plt.plot(trajectory_times, np.mean(experimental_results, axis=0), color='r', linewidth=2, label='Experimental Data (Mean +/- Std. Dev.)')\n",
        "plt.fill_between(trajectory_times, np.mean(experimental_results, axis=0) - np.std(experimental_results, axis=0), np.mean(experimental_results, axis=0) + np.std(experimental_results, axis=0), color='r', alpha=0.3)\n",
        "\n",
        "# Plot the fitted ODE model\n",
        "plt.plot(trajectory_times, ode_model(trajectory_times, *popt), color='b', linewidth=2, label='Fitted ODE Model')\n",
        "\n",
        "plt.xlabel('Time')\n",
        "plt.ylabel('Number of molecules')\n",
        "plt.title('Fitted ODE Model vs Experimental Data')\n",
        "plt.legend()\n",
        "plt.show()"
      ]
    },
    {
      "cell_type": "markdown",
      "metadata": {
        "id": "AkHCMm9JN8dG"
      },
      "source": [
        "### Use an SSA model (Module 3B slides)\n",
        "\n",
        "As we saw, the ODE solution can match the mean well, but also easily fails unless we carefully setup the problem. Given that this is a toy model, the fitting issue will become even worse for real experiments you may work with in the future.\n",
        "\n",
        "Let's try the same framework, but instead fit SSA simulations. We can do this two ways.\n",
        "1. Fit the simulated molecule number mean ($\\mu_{SSA}$) and standard deviation ($\\sigma_{SSA}$) of many SSA runs to the experimentally observed molecule number mean ($\\mu_{experiment}$) and standard deviation ($\\sigma_{experiment}$) for all time points using least squares error.\n",
        "2. Fit the distribution of molecule number from $N$ SSA runs to the experimentally observed molecule number distribution for all time points using a different \"error\" metric.\n",
        "\n",
        "For #1, we only need to modify the above ODE fitting code to run the SSA instead of the ODE integrator."
      ]
    },
    {
      "cell_type": "markdown",
      "metadata": {
        "id": "ZskJGYiYXgil"
      },
      "source": [
        "### Define the SSA model"
      ]
    },
    {
      "cell_type": "code",
      "execution_count": null,
      "metadata": {
        "id": "1-Lkjf5NXa6T"
      },
      "outputs": [],
      "source": [
        "#FILL IN THESE FUNCTIONS\n",
        "\n",
        "# Define the reaction rate (propensity) functions\n",
        "def W(x,t,pars):\n",
        "  return np.array([pars['k1'],pars['k2']*x[0]])\n",
        "\n",
        "def ssa_model(t, x0, k1, k2, n_traj):\n",
        "  # Define the intial condition. It is now a parameter we are fitting for!\n",
        "  x = np.array([x0])\n",
        "\n",
        "  # Define the stoichiometry matrix as a 1 (species) by 2 (reaction) numpy array\n",
        "  S=np.array([[1,-1]])\n",
        "\n",
        "  # Define the reaction rate parameters as a dictionary\n",
        "  # These are now parameters we are fitting for!\n",
        "  pars = {'k1': k1, 'k2': k2}\n",
        "  # Units are:  k1 = (mg/mL) / minute\n",
        "  #             k2 = 1 / minute\n",
        "\n",
        "  # Pass the pars dictionary to the dxdt function\n",
        "  trajectories = np.zeros((n_traj, len(t)))\n",
        "  for i in range(n_traj):\n",
        "      trajectories[i,:] = gillespie1(x, 0, t_max, S, pars, t)\n",
        "\n",
        "  return trajectories"
      ]
    },
    {
      "cell_type": "code",
      "execution_count": null,
      "metadata": {
        "id": "G31QWJ-bXpyr"
      },
      "outputs": [],
      "source": [
        "# Define a function that calculates the sum of squared errors between the SSA model and the experimental data\n",
        "def ssa_error_function(params, t, data_mean, data_std, n_traj):\n",
        "    x0, k1, k2 = params\n",
        "    model_output = ssa_model(t, x0, k1, k2, n_traj*1000)\n",
        "\n",
        "    model_mean = np.mean(model_output, axis=0)\n",
        "    model_std = np.std(model_output, axis=0)\n",
        "\n",
        "    return np.sum((model_mean - data_mean)**2) + np.sum((model_std - data_std)**2)\n",
        "\n",
        "# define an initial guess for the parameters [x0,k1,k2]\n",
        "initial_guess_ssa = [1,0.5,0.5] #FILL IN THESE PARAMETERS\n",
        "\n",
        "# Define bounds for the parameters [x0, k1, k2]\n",
        "# These bounds should be reasonable based on the expected values in your system\n",
        "bounds_ssa = [(0, 10), (0, 10), (0, 10)]\n",
        "\n",
        "# Fit the ODE model to the mean of the data at the observed time points using minimize\n",
        "result_ssa = minimize(ssa_error_function, initial_guess_ssa, args=(trajectory_times, np.mean(experimental_results, axis=0), np.std(experimental_results,axis=0), n_traj), bounds=bounds_ssa)\n",
        "\n",
        "# Extract the fitted parameters\n",
        "popt_ssa = result_ssa.x"
      ]
    },
    {
      "cell_type": "code",
      "execution_count": null,
      "metadata": {
        "colab": {
          "base_uri": "https://localhost:8080/"
        },
        "id": "bPhdVMt7Y4Hn",
        "outputId": "6585f4ad-e5a3-424c-fc8e-ae27869be979"
      },
      "outputs": [],
      "source": [
        "print(f\"Fitted parameters are x(0) = {round(popt_ssa[0],2)}; k1 = {round(popt_ssa[1],2)}; k2 = {round(popt_ssa[2],2)}\")\n",
        "print(f\"Correct parameters are x(0) = {round(experimental_parameters[0][0],2)}; k1 = {round(experimental_parameters[1],2)}; k2 = {round(experimental_parameters[2],2)}\")"
      ]
    }
  ],
  "metadata": {
    "colab": {
      "provenance": []
    },
    "kernelspec": {
      "display_name": "Python 3",
      "language": "python",
      "name": "python3"
    },
    "language_info": {
      "codemirror_mode": {
        "name": "ipython",
        "version": 3
      },
      "file_extension": ".py",
      "mimetype": "text/x-python",
      "name": "python",
      "nbconvert_exporter": "python",
      "pygments_lexer": "ipython3",
      "version": "3.10.16"
    }
  },
  "nbformat": 4,
  "nbformat_minor": 0
}

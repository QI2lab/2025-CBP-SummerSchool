{
  "cells": [
    {
      "cell_type": "markdown",
      "id": "d3f01de4",
      "metadata": {
        "id": "d3f01de4"
      },
      "source": [
        "<html>\n",
        "    <summary></summary>\n",
        "         <div> <p></p> </div>\n",
        "         <div style=\"font-size: 20px; width: 800px;\">\n",
        "              <h1>\n",
        "               <left>Determing Growth Rate</left>\n",
        "              </h1>\n",
        "              <p><left>============================================================================</left> </p>\n",
        "<pre>Course: ASU CBP Summer School 2025\n",
        "Instructor: Dr. Douglas Shepherd\n",
        "Contact Info: douglas.shepherd@asu.edu\n",
        "Authors: Dr. Douglas Shepherd\n",
        "</pre>\n",
        "         </div>\n",
        "    </p>\n",
        "\n",
        "</html>\n",
        "\n",
        "<details>\n",
        "  <summary>Copyright info</summary>\n",
        "\n",
        "```\n",
        "Copyright 2018 Griffin Chure\n",
        "\n",
        "Redistribution and use in source and binary forms, with or without modification, are permitted provided that the following conditions are met:\n",
        "\n",
        "1. Redistributions of source code must retain the above copyright notice, this list of conditions and the following disclaimer.\n",
        "\n",
        "2. Redistributions in binary form must reproduce the above copyright notice, this list of conditions and the following disclaimer in the documentation and/or other materials provided with the distribution.\n",
        "\n",
        "3. Neither the name of the copyright holder nor the names of its contributors may be used to endorse or promote products derived from this software without specific prior written permission.\n",
        "\n",
        "THIS SOFTWARE IS PROVIDED BY THE COPYRIGHT HOLDERS AND CONTRIBUTORS \"AS IS\" AND ANY EXPRESS OR IMPLIED WARRANTIES, INCLUDING, BUT NOT LIMITED TO, THE IMPLIED WARRANTIES OF MERCHANTABILITY AND FITNESS FOR A PARTICULAR PURPOSE ARE DISCLAIMED. IN NO EVENT SHALL THE COPYRIGHT HOLDER OR CONTRIBUTORS BE LIABLE FOR ANY DIRECT, INDIRECT, INCIDENTAL, SPECIAL, EXEMPLARY, OR CONSEQUENTIAL DAMAGES (INCLUDING, BUT NOT LIMITED TO, PROCUREMENT OF SUBSTITUTE GOODS OR SERVICES; LOSS OF USE, DATA, OR PROFITS; OR BUSINESS INTERRUPTION) HOWEVER CAUSED AND ON ANY THEORY OF LIABILITY, WHETHER IN CONTRACT, STRICT LIABILITY, OR TORT (INCLUDING NEGLIGENCE OR OTHERWISE) ARISING IN ANY WAY OUT OF THE USE OF THIS SOFTWARE, EVEN IF ADVISED OF THE POSSIBILITY OF SUCH DAMAGE.\n",
        "```\n",
        "<details>\n",
        "\n"
      ]
    },
    {
      "cell_type": "markdown",
      "id": "1be25612",
      "metadata": {
        "id": "1be25612"
      },
      "source": [
        "<table class=\"tfo-notebook-buttons\" align=\"left\">\n",
        "  <td>\n",
        "    <a target=\"_blank\" href=\"https://colab.research.google.com/github/QI2lab/2025-CBP-SummerSchool/blob/main/Module4-BacteriaGrowth/M4B_Determining_Growth_Rate.ipynb\"><img src=\"https://www.tensorflow.org/images/colab_logo_32px.png\" />Run in Google Colab</a>\n",
        "  </td>\n",
        "  <td>\n",
        "    <a target=\"_blank\" href=\"https://github.com/QI2lab/2025-CBP-SummerSchool/blob/main/Module4-BacteriaGrowth/M4B_Determining_Growth_Rate.ipynb\"><img src=\"https://www.tensorflow.org/images/GitHub-Mark-32px.png\" />View source on GitHub</a>\n",
        "  </td>\n",
        "</table>"
      ]
    },
    {
      "cell_type": "markdown",
      "id": "937fa9aa",
      "metadata": {
        "id": "937fa9aa"
      },
      "source": [
        "# Learning Objectives\n",
        "In this lesson, we are going to analyze and fit experimental data of bacteria dividing to determine their growth rate. After completing this lesson, you should be able to:\n",
        "* Determine the distribution of cell division times from experimental data\n",
        "* Fit the population growth to the exponential growth equation"
      ]
    },
    {
      "cell_type": "markdown",
      "id": "67745291",
      "metadata": {
        "id": "67745291"
      },
      "source": [
        "# Using microscopy to measure bacterial growth\n",
        "\n",
        "While we have just scraped the surface of growth in class, there is a seemingly endless reservoir of literature that explores the fascinating physiology of cellular growth. For a detailed summary, see [this review](https://jun.ucsd.edu/files/publications/Jun_ROPP_2018.pdf) by Suckjoon Jun and colleagues which gives both a historical accounting of bacterial growth physiology and a view of the future of the field.\n",
        "\n",
        "As discussed in class and examined numerically in [Module 4A](M4A_ExponentialGrowth.ipynb), the continuous growth phase of a bacterial culture can be stated mathematically using the Exponetial Growth equation,\n",
        "\n",
        "$$\n",
        "N(t) = N_0 e^{rt}, \\tag{1}\n",
        "$$\n",
        "\n",
        "where $N(t)$ is the number of cells at time $t$, $N_0$ is the initial number of cells and $r$ is the growth rate in dimensions of time.   Experimentally, it's difficult to count the number of cells in a large culture, but easy to measure for smaller colonies and cultures.\n",
        "\n",
        "In this tutorial, we will use a movie of *E. coli* cells growing on a hard agar subtstrate at 100x magnification. Below, we have raw phase microscopy data (left), segmentation of individual cells (center), and the result of tracking individual cells and daughter cells (right).\n",
        "\n",
        "<p style=\"text-align:center;\">\n",
        "  <span style=\"display:inline-block; margin:0 10px; text-align:center;\">\n",
        "    <img src=\"https://github.com/QI2lab/2025-CBP-SummerSchool/blob/main/Module4-BacteriaGrowth/Figures/data_gif.gif?raw=1\" width=\"200\" alt=\"Raw E. coli phase data\" /><br>\n",
        "    <strong>Phase data</strong>\n",
        "  </span>\n",
        "  <span style=\"display:inline-block; margin:0 10px; text-align:center;\">\n",
        "    <img src=\"https://github.com/QI2lab/2025-CBP-SummerSchool/blob/main/Module4-BacteriaGrowth/Figures/mask_gif.gif?raw=1\" width=\"200\" alt=\"Segemented E. coli phase data\" /><br>\n",
        "    <strong>Segmented</strong>\n",
        "  </span>\n",
        "  <span style=\"display:inline-block; margin:0 10px; text-align:center;\">\n",
        "    <img src=\"https://github.com/QI2lab/2025-CBP-SummerSchool/blob/main/Module4-BacteriaGrowth/Figures/tracked_gif.gif?raw=1\" width=\"200\" alt=\"Tracked E. Coli phase data\" /><br>\n",
        "    <strong>Tracked</strong>\n",
        "  </span>\n",
        "</p>"
      ]
    },
    {
      "cell_type": "markdown",
      "id": "d5be825f",
      "metadata": {
        "id": "d5be825f"
      },
      "source": [
        "# More about microscopy data\n",
        "\n",
        "While we often think of images as a colorful photograph, it is important to remember that at its core, a digital image is nothing but data. An image is a matrix of numbers upon which we can deploy mathematical operations. We'll download the data underlying the above movies to your Colab instance in the next code block."
      ]
    },
    {
      "cell_type": "code",
      "execution_count": null,
      "id": "77229f7e",
      "metadata": {
        "id": "77229f7e",
        "vscode": {
          "languageId": "plaintext"
        }
      },
      "outputs": [],
      "source": [
        "# Download data\n",
        "!pip install -q gdown\n",
        "import gdown\n",
        "\n",
        "# download the .zip containing the image data\n",
        "file_id = \"1nxY9-jEGmrH8elRdiMENFhBb64mMYl8q\"\n",
        "out = \"/content/cbpSS2025.zip\"\n",
        "gdown.download(id = file_id, output=out,quiet=False)\n",
        "\n",
        "# unzip data\n",
        "!unzip -q /content/cbpSS2025.zip -d /content/cbpSS2025/\n",
        "\n",
        "file_id = \"1nW_-ouf_6THFhuoXNEL5GkcB3twmYQNS\"\n",
        "out = \"/content/cbpSS2025/tracking_result.txt\"\n",
        "\n",
        "# Using the ID avoids any Drive viewer HTML\n",
        "gdown.download(id=file_id, output=out, quiet=False)"
      ]
    },
    {
      "cell_type": "markdown",
      "id": "296c8b5d",
      "metadata": {
        "id": "296c8b5d"
      },
      "source": [
        "# Viewing \"n\" dimensional data in Python\n",
        "\n",
        "We can view these timelapse data using an interactive viewer, such as [stackview](https://pypi.org/project/stackview/). To do this, we need to know a little more about the experiment itself. We often call this \"metadata\" and the information is critical to correctly analyzing experiments.\n",
        "\n",
        "The camera used in these experiments has a pixel size of $6.5$ $\\mu m$.\n",
        "The objective used in the experiments has a magnficiation of $100$ $\\times$.\n",
        "The interval between pictures is $5$ minutes.\n",
        "\n",
        "To know how big each pixel in our digital images is, we divide the camera pixel size by the microscope magnfication, $6.5/100$ $=$ $.065$ $\\mu m$."
      ]
    },
    {
      "cell_type": "code",
      "execution_count": null,
      "id": "7e802097",
      "metadata": {
        "id": "7e802097",
        "vscode": {
          "languageId": "plaintext"
        }
      },
      "outputs": [],
      "source": [
        "# install pacakges for loading and viewing image data in colab\n",
        "!pip install stackview==0.16.0 ipycanvas==0.11 numcodecs imagecodecs tifffile"
      ]
    },
    {
      "cell_type": "code",
      "execution_count": null,
      "id": "b00c9d64",
      "metadata": {
        "id": "b00c9d64",
        "vscode": {
          "languageId": "plaintext"
        }
      },
      "outputs": [],
      "source": [
        "# import packages for loading and viewing image data in colab\n",
        "from google.colab import output\n",
        "output.enable_custom_widget_manager()\n",
        "\n",
        "from pathlib import Path\n",
        "import tifffile\n",
        "import numpy as np\n",
        "import stackview"
      ]
    },
    {
      "cell_type": "markdown",
      "id": "d9f5d121",
      "metadata": {
        "id": "d9f5d121"
      },
      "source": [
        "## Raw data\n",
        "\n",
        "We will first look at the raw data, which is acquired with [phase-contrast microscopy](https://www.ibiology.org/talks/phase-contrast-microscopy/) and [fluorescence microscopy](https://www.ibiology.org/talks/fluorescence-microscopy/). Phase-contrast microscopy is method that enchances the visibility of biological structures by manipulating the \"phase\" of the light passing through the sample. In this method, the bacteria cell bodies are darker than the surrounding environment. Fluorescence microscopy is a method that excites and collects light from fluorophores that are present in the bacteria. In this method, the bacteria cell bodies are brighter than the surrounding environment."
      ]
    },
    {
      "cell_type": "code",
      "execution_count": null,
      "id": "26849e73",
      "metadata": {
        "id": "26849e73",
        "vscode": {
          "languageId": "plaintext"
        }
      },
      "outputs": [],
      "source": [
        "# load and view raw phase and fluorescence image data\n",
        "\n",
        "raw_files = sorted(Path(\"/content/cbpSS2025/data/\").glob(\"*.tif*\"))\n",
        "raw_data = []\n",
        "for raw_file in raw_files:\n",
        "  raw_data.append(tifffile.imread(raw_file))\n",
        "raw_data = np.asarray(raw_data,dtype=np.uint16)\n",
        "raw_data = np.squeeze(raw_data[:,0,:,:]) # remove GFP channel\n",
        "\n",
        "stackview.slice(raw_data)"
      ]
    },
    {
      "cell_type": "markdown",
      "id": "7e08b998",
      "metadata": {
        "id": "7e08b998"
      },
      "source": [
        "## Segmented phase-contrast data\n",
        "\n",
        "The phase-contrast data has been passed through [cellpose](https://github.com/MouseLand/cellpose), a deep-learning Python package that excels at automatically finding cells. You can try cellpose out online for free [here](https://huggingface.co/spaces/mouseland/cellpose).\n",
        "\n",
        "Starting from raw data, cellpose automatically finds unique cells and assigns all pixels within each cell a unique integer indentifier. This is called a mask image because it creates a unique mask for each pixel. A **critical** note here is that each image is segmented independently, so the mask identifier resets in each image. That means we can use this data to count the number of cells present at each time point."
      ]
    },
    {
      "cell_type": "code",
      "execution_count": null,
      "id": "4e0f7081",
      "metadata": {
        "id": "4e0f7081",
        "vscode": {
          "languageId": "plaintext"
        }
      },
      "outputs": [],
      "source": [
        "# load and view segmented phase-contrast image data\n",
        "\n",
        "mask_files = sorted(Path(\"/content/cbpSS2025/masks/\").glob(\"*.tif*\"))\n",
        "mask_data = []\n",
        "for mask_file in mask_files:\n",
        "  mask_data.append(tifffile.imread(mask_file))\n",
        "mask_data = np.asarray(mask_data,dtype=np.uint16)\n",
        "\n",
        "stackview.slice(mask_data)"
      ]
    },
    {
      "cell_type": "markdown",
      "id": "e15b5458",
      "metadata": {
        "id": "e15b5458"
      },
      "source": [
        "## Tracked phase-contrast data\n",
        "\n",
        "While the segmented data is helpful to easily get the number of cells, we could extract more information from this simple experiment by quantifying the timing for cell divisions and cell lineages. To do this, we need the identifiers to stay the same for each cell and then mark when a cell division occurs. To do this, we can track each cell and it's daughter cells using [trackastra](https://github.com/weigertlab/trackastra), a deep-learning Python package that excels at tracking cells.\n",
        "\n",
        "Starting from raw data and the segmentation masks generated by cellpose, trackastra automatically tracks cells across time and tracks cell division. This small changes in how the data is processed will allow us to later extract the time between cell division for our bacteria colony!"
      ]
    },
    {
      "cell_type": "code",
      "execution_count": null,
      "id": "6129fc9a",
      "metadata": {
        "id": "6129fc9a",
        "vscode": {
          "languageId": "plaintext"
        }
      },
      "outputs": [],
      "source": [
        "# load and view segmented and tracked phase-contrast image data\n",
        "\n",
        "tracked_files = sorted(Path(\"/content/cbpSS2025/result/\").glob(\"*.tif*\"))\n",
        "tracked_data = []\n",
        "for tracked_file in tracked_files:\n",
        "  tracked_data.append(tifffile.imread(tracked_file))\n",
        "tracked_data = np.asarray(tracked_data,dtype=np.uint16)\n",
        "tracked_data = [0:20,:,:] # remove spurious final timepoint\n",
        "\n",
        "stackview.slice(tracked_data)"
      ]
    },
    {
      "cell_type": "markdown",
      "id": "jYdhzZGzvR0Y",
      "metadata": {
        "id": "jYdhzZGzvR0Y"
      },
      "source": [
        "### Extracting cell division times from tracked microscopy data"
      ]
    },
    {
      "cell_type": "code",
      "execution_count": null,
      "id": "DPooL1eevWTW",
      "metadata": {
        "id": "DPooL1eevWTW"
      },
      "outputs": [],
      "source": [
        "def division_time_histogram(\n",
        "    filename: str | Path,\n",
        "    timestep_min: float,\n",
        "    bins: int | str = \"auto\",\n",
        ") -> tuple[np.ndarray, np.ndarray]:\n",
        "  \"\"\"Compute a histogram of cell division times from a TrackAstra result file.\n",
        "\n",
        "  The input file must have 4 whitespace-separated integer columns per line:\n",
        "  L B E P\n",
        "    - L: track label (positive int)\n",
        "    - B: birth frame index (0-based)\n",
        "    - E: end frame index (0-based)\n",
        "    - P: parent label (0 if no parent)\n",
        "\n",
        "  A division event is defined as any parent label with >= 2 daughters.\n",
        "  The division frame is the mode (most frequent) of the daughters' birth\n",
        "  frames for that parent; ties resolve to the smallest such frame. Division\n",
        "  time (minutes) = (division_frame - parent_birth_frame) * timestep_min.\n",
        "\n",
        "  Parameters\n",
        "  ----------\n",
        "  filename\n",
        "      Path to the TrackAstra track file.\n",
        "  timestep_min\n",
        "      Minutes per frame (e.g., 5.0 for 5-minute intervals).\n",
        "  bins\n",
        "      Binning specification passed to ``np.histogram`` (default \"auto\").\n",
        "\n",
        "  Returns\n",
        "  -------\n",
        "  counts : np.ndarray, shape (n_bins,)\n",
        "      Histogram counts per bin.\n",
        "  bin_centers : np.ndarray, shape (n_bins,)\n",
        "      Bin center locations (minutes), suitable for plotting.\n",
        "\n",
        "  Notes\n",
        "  -----\n",
        "  - Lines with fewer than two daughters for a parent are ignored.\n",
        "  - Events with non-positive elapsed frames are ignored.\n",
        "\n",
        "  Examples\n",
        "  --------\n",
        "  >>> counts, centers = division_time_histogram(\"res_track.txt\", 5.0)\n",
        "  >>> import matplotlib.pyplot as plt\n",
        "  >>> plt.plot(centers, counts, marker=\"o\")\n",
        "  >>> plt.xlabel(\"Division time (min)\")\n",
        "  >>> plt.ylabel(\"Count\")\n",
        "  >>> plt.show()\n",
        "  \"\"\"\n",
        "  arr = np.loadtxt(filename, dtype=np.int64)\n",
        "  if arr.ndim != 2 or arr.shape[1] < 4:\n",
        "      raise ValueError(\"Track file must have 4 columns: L B E P.\")\n",
        "\n",
        "  labels = arr[:, 0]\n",
        "  births = arr[:, 1]\n",
        "  parents = arr[:, 3]\n",
        "\n",
        "  # Map: label -> birth frame\n",
        "  label_to_birth: dict[int, int] = {}\n",
        "  for lbl, b in zip(labels, births):\n",
        "      # If duplicated labels appear, keep the first B seen.\n",
        "      label_to_birth.setdefault(int(lbl), int(b))\n",
        "\n",
        "  # Map: parent_label -> list of row indices of daughters\n",
        "  daughters_by_parent: dict[int, list[int]] = {}\n",
        "  for idx, p in enumerate(parents):\n",
        "      if p != 0:\n",
        "          daughters_by_parent.setdefault(int(p), []).append(idx)\n",
        "\n",
        "  division_times_min: list[float] = []\n",
        "\n",
        "  for parent_lbl, idxs in daughters_by_parent.items():\n",
        "      if len(idxs) < 2:\n",
        "          continue\n",
        "      # Parent must exist in table (to have birth time)\n",
        "      parent_birth = label_to_birth.get(parent_lbl)\n",
        "      if parent_birth is None:\n",
        "          continue\n",
        "\n",
        "      daughter_birth_frames = births[idxs].astype(int)\n",
        "      # Mode of daughters' birth frames (tie -> smallest)\n",
        "      vals, cnts = np.unique(daughter_birth_frames, return_counts=True)\n",
        "      division_frame = int(vals[np.argmax(cnts)])\n",
        "      frames_elapsed = int(division_frame - parent_birth)\n",
        "      if frames_elapsed <= 0:\n",
        "          continue\n",
        "\n",
        "      division_times_min.append(frames_elapsed * float(timestep_min))\n",
        "\n",
        "  times = np.asarray(division_times_min, dtype=float)\n",
        "  if times.size == 0:\n",
        "      # No valid events\n",
        "      return np.array([], dtype=float), np.array([], dtype=float)\n",
        "\n",
        "  counts, bin_edges = np.histogram(times, bins=bins)\n",
        "  bin_centers = (bin_edges[:-1] + bin_edges[1:]) / 2.0\n",
        "  return counts.astype(float, copy=False), bin_centers\n",
        "\n",
        "\n",
        "division_times, bin_center = division_time_histogram(\n",
        "  filename = Path(\"/content/cbpSS2025/tracking_result.txt\"),\n",
        "  timestep_min = 5\n",
        ")"
      ]
    },
    {
      "cell_type": "markdown",
      "id": "sUOnMuvWyOiE",
      "metadata": {
        "id": "sUOnMuvWyOiE"
      },
      "source": [
        "### Visualize the cell division times"
      ]
    },
    {
      "cell_type": "code",
      "execution_count": null,
      "id": "v1kFyGN-yQd9",
      "metadata": {
        "id": "v1kFyGN-yQd9"
      },
      "outputs": [],
      "source": [
        "import matplotlib.pyplot as plt\n",
        "\n",
        "def plot_division_time_distribution(\n",
        "    counts: np.ndarray,\n",
        "    bin_centers: np.ndarray,\n",
        "    normalize: bool = False,\n",
        "    title: str | None = None\n",
        ") -> None:\n",
        "  \"\"\"Plot the division time distribution from histogram counts and bin centers.\n",
        "\n",
        "  Parameters\n",
        "  ----------\n",
        "  counts\n",
        "    Histogram counts per bin (shape: (n_bins,)).\n",
        "  bin_centers\n",
        "    Bin center locations in minutes (shape: (n_bins,)).\n",
        "  normalize\n",
        "    Normalize data before plotting\n",
        "  title\n",
        "    Optional plot title.\n",
        "\n",
        "  \"\"\"\n",
        "  if counts.size == 0 or bin_centers.size == 0:\n",
        "      raise ValueError(\"No data to plot: counts/bin_centers are empty.\")\n",
        "\n",
        "  if counts.shape[0] != bin_centers.shape[0]:\n",
        "      raise ValueError(\"counts and bin_centers must have the same length.\")\n",
        "\n",
        "  if normalize:\n",
        "    counts = counts / counts.sum() if counts.sum() > 0 else counts\n",
        "\n",
        "  # Reconstruct edges -> widths from bin centers\n",
        "  if bin_centers.size > 1:\n",
        "      left_edge0 = bin_centers[0] - 0.5 * (bin_centers[1] - bin_centers[0])\n",
        "      right_edgeN = bin_centers[-1] + 0.5 * (bin_centers[-1] - bin_centers[-2])\n",
        "      mid_edges = 0.5 * (bin_centers[:-1] + bin_centers[1:])\n",
        "      edges = np.concatenate(([left_edge0], mid_edges, [right_edgeN]))\n",
        "      widths = np.diff(edges)\n",
        "  else:\n",
        "      # Single bin: choose a default width (e.g., 1 minute)\n",
        "      widths = np.array([1.0], dtype=float)\n",
        "\n",
        "  fig, ax = plt.subplots(figsize=(6, 4))\n",
        "  ax.bar(bin_centers, counts, width=widths, align=\"center\")\n",
        "  ax.set_xlabel(\"Division time (minutes)\")\n",
        "  ax.set_ylabel(\"Count\")\n",
        "  if title:\n",
        "      ax.set_title(title)\n",
        "  fig.tight_layout()\n",
        "  plt.show()\n",
        "\n",
        "plot_division_time_distribution(division_times, bin_center, True)"
      ]
    },
    {
      "cell_type": "markdown",
      "id": "19481017",
      "metadata": {
        "id": "19481017"
      },
      "source": [
        "# Multiple ways to analyze this experiment\n",
        "\n",
        "Using the above experimental and processed data, here are four ways you could analyze the dynamics of bacteria growth.\n",
        "\n",
        "1. Quantify the total area of bacteria per time and see if it follows the Exponential Growth or Logistic Growth equation.\n",
        "2. Quanify the number of bacteria per time and see if it follows the Exponential Growth or Logistic Growth equation.\n",
        "3. Quantify the mean time between cell divisions and compare it to the rate obtained using 1 and 2 above.\n",
        "4. Quantify the full distribution of time between cell division across the entire dataset. Does it match your expectations?"
      ]
    }
  ],
  "metadata": {
    "colab": {
      "provenance": []
    },
    "kernelspec": {
      "display_name": "Python 3",
      "name": "python3"
    },
    "language_info": {
      "name": "python"
    }
  },
  "nbformat": 4,
  "nbformat_minor": 5
}

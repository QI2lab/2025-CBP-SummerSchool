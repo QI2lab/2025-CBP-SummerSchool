{
 "cells": [
  {
   "cell_type": "markdown",
   "id": "d3f01de4",
   "metadata": {},
   "source": [
    "<html>\n",
    "    <summary></summary>\n",
    "         <div> <p></p> </div>\n",
    "         <div style=\"font-size: 20px; width: 800px;\"> \n",
    "              <h1>\n",
    "               <left>Determing Growth Rate</left>\n",
    "              </h1>\n",
    "              <p><left>============================================================================</left> </p>\n",
    "<pre>Course: ASU CBP Summer School 2025\n",
    "Instructor: Dr. Douglas Shepherd\n",
    "Contact Info: douglas.shepherd@asu.edu\n",
    "Authors: Dr. Douglas Shepherd\n",
    "</pre>\n",
    "         </div>\n",
    "    </p>\n",
    "\n",
    "</html>\n",
    "\n",
    "<details>\n",
    "  <summary>Copyright info</summary>\n",
    "\n",
    "```\n",
    "Copyright 2018 Griffin Chure\n",
    "\n",
    "Redistribution and use in source and binary forms, with or without modification, are permitted provided that the following conditions are met:\n",
    "\n",
    "1. Redistributions of source code must retain the above copyright notice, this list of conditions and the following disclaimer.\n",
    "\n",
    "2. Redistributions in binary form must reproduce the above copyright notice, this list of conditions and the following disclaimer in the documentation and/or other materials provided with the distribution.\n",
    "\n",
    "3. Neither the name of the copyright holder nor the names of its contributors may be used to endorse or promote products derived from this software without specific prior written permission.\n",
    "\n",
    "THIS SOFTWARE IS PROVIDED BY THE COPYRIGHT HOLDERS AND CONTRIBUTORS \"AS IS\" AND ANY EXPRESS OR IMPLIED WARRANTIES, INCLUDING, BUT NOT LIMITED TO, THE IMPLIED WARRANTIES OF MERCHANTABILITY AND FITNESS FOR A PARTICULAR PURPOSE ARE DISCLAIMED. IN NO EVENT SHALL THE COPYRIGHT HOLDER OR CONTRIBUTORS BE LIABLE FOR ANY DIRECT, INDIRECT, INCIDENTAL, SPECIAL, EXEMPLARY, OR CONSEQUENTIAL DAMAGES (INCLUDING, BUT NOT LIMITED TO, PROCUREMENT OF SUBSTITUTE GOODS OR SERVICES; LOSS OF USE, DATA, OR PROFITS; OR BUSINESS INTERRUPTION) HOWEVER CAUSED AND ON ANY THEORY OF LIABILITY, WHETHER IN CONTRACT, STRICT LIABILITY, OR TORT (INCLUDING NEGLIGENCE OR OTHERWISE) ARISING IN ANY WAY OUT OF THE USE OF THIS SOFTWARE, EVEN IF ADVISED OF THE POSSIBILITY OF SUCH DAMAGE.\n",
    "```\n",
    "<details>\n",
    "\n"
   ]
  },
  {
   "cell_type": "markdown",
   "id": "1be25612",
   "metadata": {},
   "source": [
    "<table class=\"tfo-notebook-buttons\" align=\"left\">\n",
    "  <td>\n",
    "    <a target=\"_blank\" href=\"https://colab.research.google.com/github/QI2lab/2025-CBP-SummerSchool/blob/main/Module5-BacteriaGrowth/M5B_Determining_Growth_Rate.ipynb\"><img src=\"https://www.tensorflow.org/images/colab_logo_32px.png\" />Run in Google Colab</a>\n",
    "  </td>\n",
    "  <td>\n",
    "    <a target=\"_blank\" href=\"https://github.com/QI2lab/2025-CBP-SummerSchool/blob/main/Module5-BacteriaGrowth/M5B_Determining_Growth_Rate.ipynb\"><img src=\"https://www.tensorflow.org/images/GitHub-Mark-32px.png\" />View source on GitHub</a>\n",
    "  </td>\n",
    "</table>"
   ]
  },
  {
   "cell_type": "markdown",
   "id": "937fa9aa",
   "metadata": {},
   "source": [
    "# Learning Objectives\n",
    "In this lesson, we are going to analyze and fit experimental data of bacteria dividing to determine their growth rate. After completing this lesson, you should be able to:\n",
    "* Determine the distribution of cell division times from experimental data\n",
    "* Fit the population growth to the exponential growth equation"
   ]
  },
  {
   "cell_type": "markdown",
   "id": "67745291",
   "metadata": {},
   "source": [
    "# Using microscopy to measure bacterial growth\n",
    "\n",
    "While we have jsut scraped the surface of growth in class, there is a seemingly endless reservoir of literature that explores the fascinating physiology of cellular growth. For a detailed summary, see [this review](https://jun.ucsd.edu/files/publications/Jun_ROPP_2018.pdf) by Suckjoon Jun and colleagues which gives both a historical accounting of bacterial growth physiology and a view of the future of the field. \n",
    " \n",
    "As discussed in class and examined numerically in [Module 4A](M4A_ExponentialGrowth.ipynb), the continuous growth phase of a bacterial culture can be stated mathematically using the Exponetial Growth equation,\n",
    "\n",
    "$$\n",
    "N(t) = N_0 e^{rt}, \\tag{1}\n",
    "$$\n",
    "\n",
    "where $N(t)$ is the number of cells at time $t$, $N_0$ is the initial number of cells and $r$ is the growth rate in dimensions of time.   Experimentally, it's difficult to count the number of cells in a large culture, but easy to measure for smaller colonies and cultures.\n",
    "\n",
    "In this tutorial, we will use a movie of *E. coli* cells growing on a hard agar subtstrate at 100x magnification. Below, we have raw phase microscopy data (left), segmentation of individual cells (center), and the result of tracking individual cells and daughter cells (right).\n",
    "\n",
    "<p style=\"text-align:center;\">\n",
    "  <span style=\"display:inline-block; margin:0 10px; text-align:center;\">\n",
    "    <img src=\"Figures/data_gif.gif\" width=\"200\" alt=\"Raw E. coli phase data\" /><br>\n",
    "    <strong>Phase data</strong>\n",
    "  </span>\n",
    "  <span style=\"display:inline-block; margin:0 10px; text-align:center;\">\n",
    "    <img src=\"Figures/mask_gif.gif\" width=\"200\" alt=\"Segemented E. coli phase data\" /><br>\n",
    "    <strong>Segmented</strong>\n",
    "  </span>\n",
    "  <span style=\"display:inline-block; margin:0 10px; text-align:center;\">\n",
    "    <img src=\"Figures/tracked_gif.gif\" width=\"200\" alt=\"Tracked E. Coli phase data\" /><br>\n",
    "    <strong>Tracked</strong>\n",
    "  </span>\n",
    "</p>"
   ]
  },
  {
   "cell_type": "markdown",
   "id": "d5be825f",
   "metadata": {},
   "source": [
    "# More about microscopy data\n",
    "\n",
    "While we often think of images as a colorful photograph, it is important to remembrer that at its core, a digital image is nothing but data. An image is a matrix of numbers upon which we can deploy mathematical operations. We'll download the data underlying the above movies to your Colab instance in the next code block."
   ]
  },
  {
   "cell_type": "code",
   "execution_count": null,
   "id": "77229f7e",
   "metadata": {
    "vscode": {
     "languageId": "plaintext"
    }
   },
   "outputs": [],
   "source": [
    "# Download data"
   ]
  },
  {
   "cell_type": "markdown",
   "id": "296c8b5d",
   "metadata": {},
   "source": [
    "# Viewing \"n\" dimensional data in Python\n",
    "\n",
    "We can view these timelapse data using an interactive viewer, such as [ndv](https://github.com/pyapp-kit/ndv). To do this, we need to know a little more about the experiment itself. We often call this \"metadata\" and the information is critical to correctly analyzing experiments.\n",
    "\n",
    "The camera used in these experiments has a pixel size of $6.5$ $\\mu m$.\n",
    "The objective used in the experiments has a magnficiation of $100$ $\\times$.\n",
    "The interval between pictures is $5$ minutes.\n",
    "\n",
    "To know how big each pixel in our digital images is, we divide the camera pixel size by the microscope magnfication, $6.5/100$ $=$ $.065$ $\\mu m$."
   ]
  },
  {
   "cell_type": "markdown",
   "id": "d9f5d121",
   "metadata": {},
   "source": [
    "## Raw phase-contrast data\n",
    "\n",
    "We will first look at the raw data, which is acquired with [phase-contrast microscopy](https://www.ibiology.org/talks/phase-contrast-microscopy/). Phase-contrast is method that enchances the visibility of biological structures by manipulating the \"phase\" of the light passing through the sample. In this method, the bacteria cell bodies are darker than the surrounding environment."
   ]
  },
  {
   "cell_type": "markdown",
   "id": "7e08b998",
   "metadata": {},
   "source": [
    "## Segmented phase-contrast data\n",
    "\n",
    "The phase-contrast data has been passed through [cellpose](https://www.youtube.com/watch?v=KIdYXgQemcI), a modern neural network program that excels at automatically finding cells. You can try this program out online for free [here](https://huggingface.co/spaces/mouseland/cellpose).\n",
    "\n",
    "This program automatically finds unique cells and assigns all pixels within each cell a unique integer indentifier. This is called a mask image because it creates a unique mask for each pixel. A **critical** note here is that each image is segmented independently, so the mask identifier resets in each image. That means we can use this data to count the number of "
   ]
  },
  {
   "cell_type": "markdown",
   "id": "e15b5458",
   "metadata": {},
   "source": [
    "## Tracked phase-contrast data\n",
    "\n",
    "While the segmented data is fantastic, we can't track timing for cell divisions and cell lineages because the "
   ]
  },
  {
   "cell_type": "markdown",
   "id": "5a4247b7",
   "metadata": {},
   "source": []
  },
  {
   "cell_type": "markdown",
   "id": "19481017",
   "metadata": {},
   "source": []
  }
 ],
 "metadata": {
  "language_info": {
   "name": "python"
  }
 },
 "nbformat": 4,
 "nbformat_minor": 5
}
